{
 "cells": [
  {
   "cell_type": "code",
   "execution_count": 7,
   "id": "9d96cd2b",
   "metadata": {
    "ExecuteTime": {
     "end_time": "2023-11-17T04:06:16.192566Z",
     "start_time": "2023-11-17T04:06:16.039696Z"
    }
   },
   "outputs": [
    {
     "data": {
      "text/html": [
       "<div>\n",
       "<style scoped>\n",
       "    .dataframe tbody tr th:only-of-type {\n",
       "        vertical-align: middle;\n",
       "    }\n",
       "\n",
       "    .dataframe tbody tr th {\n",
       "        vertical-align: top;\n",
       "    }\n",
       "\n",
       "    .dataframe thead th {\n",
       "        text-align: right;\n",
       "    }\n",
       "</style>\n",
       "<table border=\"1\" class=\"dataframe\">\n",
       "  <thead>\n",
       "    <tr style=\"text-align: right;\">\n",
       "      <th></th>\n",
       "      <th>Texto</th>\n",
       "      <th>Clasificacion</th>\n",
       "      <th>new_classification</th>\n",
       "    </tr>\n",
       "  </thead>\n",
       "  <tbody>\n",
       "    <tr>\n",
       "      <th>0</th>\n",
       "      <td>Buenos días y feliz año. Deseamos que nos vay...</td>\n",
       "      <td>saludos</td>\n",
       "      <td>Support</td>\n",
       "    </tr>\n",
       "    <tr>\n",
       "      <th>1</th>\n",
       "      <td>Vamos a iniciar la semana como lo hacemos siem...</td>\n",
       "      <td>NaN</td>\n",
       "      <td>Health</td>\n",
       "    </tr>\n",
       "    <tr>\n",
       "      <th>2</th>\n",
       "      <td>También vamos a informar este primer día hábil...</td>\n",
       "      <td>apoyo</td>\n",
       "      <td>Support</td>\n",
       "    </tr>\n",
       "    <tr>\n",
       "      <th>3</th>\n",
       "      <td>Y ahora se va a informar porque se está optand...</td>\n",
       "      <td>apoyo</td>\n",
       "      <td>Support</td>\n",
       "    </tr>\n",
       "    <tr>\n",
       "      <th>4</th>\n",
       "      <td>En esta etapa se combinan los bancos particula...</td>\n",
       "      <td>apoyo</td>\n",
       "      <td>Support</td>\n",
       "    </tr>\n",
       "    <tr>\n",
       "      <th>...</th>\n",
       "      <td>...</td>\n",
       "      <td>...</td>\n",
       "      <td>...</td>\n",
       "    </tr>\n",
       "    <tr>\n",
       "      <th>21760</th>\n",
       "      <td>Y el presidente Modi es el presidente mejor ca...</td>\n",
       "      <td>NaN</td>\n",
       "      <td>NaN</td>\n",
       "    </tr>\n",
       "    <tr>\n",
       "      <th>21761</th>\n",
       "      <td>¿La tienes ahí? Ponla, sí, porque no le… Por e...</td>\n",
       "      <td>NaN</td>\n",
       "      <td>NaN</td>\n",
       "    </tr>\n",
       "    <tr>\n",
       "      <th>21762</th>\n",
       "      <td>Una vez, una vez le llegué por medio punto, o ...</td>\n",
       "      <td>NaN</td>\n",
       "      <td>NaN</td>\n",
       "    </tr>\n",
       "    <tr>\n",
       "      <th>21763</th>\n",
       "      <td>Y hay fotos, ¿no? En la India usan esto. Pero,...</td>\n",
       "      <td>NaN</td>\n",
       "      <td>NaN</td>\n",
       "    </tr>\n",
       "    <tr>\n",
       "      <th>21764</th>\n",
       "      <td>Para los que hablan, ¿no?, de los viejitos, é...</td>\n",
       "      <td>NaN</td>\n",
       "      <td>NaN</td>\n",
       "    </tr>\n",
       "  </tbody>\n",
       "</table>\n",
       "<p>21765 rows × 3 columns</p>\n",
       "</div>"
      ],
      "text/plain": [
       "                                                   Texto Clasificacion  \\\n",
       "0       Buenos días y feliz año. Deseamos que nos vay...       saludos   \n",
       "1      Vamos a iniciar la semana como lo hacemos siem...           NaN   \n",
       "2      También vamos a informar este primer día hábil...         apoyo   \n",
       "3      Y ahora se va a informar porque se está optand...         apoyo   \n",
       "4      En esta etapa se combinan los bancos particula...         apoyo   \n",
       "...                                                  ...           ...   \n",
       "21760  Y el presidente Modi es el presidente mejor ca...           NaN   \n",
       "21761  ¿La tienes ahí? Ponla, sí, porque no le… Por e...           NaN   \n",
       "21762  Una vez, una vez le llegué por medio punto, o ...           NaN   \n",
       "21763  Y hay fotos, ¿no? En la India usan esto. Pero,...           NaN   \n",
       "21764   Para los que hablan, ¿no?, de los viejitos, é...           NaN   \n",
       "\n",
       "      new_classification  \n",
       "0                Support  \n",
       "1                 Health  \n",
       "2                Support  \n",
       "3                Support  \n",
       "4                Support  \n",
       "...                  ...  \n",
       "21760                NaN  \n",
       "21761                NaN  \n",
       "21762                NaN  \n",
       "21763                NaN  \n",
       "21764                NaN  \n",
       "\n",
       "[21765 rows x 3 columns]"
      ]
     },
     "execution_count": 7,
     "metadata": {},
     "output_type": "execute_result"
    }
   ],
   "source": [
    "import pandas as pd\n",
    "\n",
    "df = pd.read_csv('amlo_clasify_chatpgt2.csv')\n",
    "#df = df.head(50)\n",
    "#df.reset_index(inplace=True)\n",
    "df"
   ]
  },
  {
   "cell_type": "code",
   "execution_count": 8,
   "id": "9cc1ebf0",
   "metadata": {
    "ExecuteTime": {
     "end_time": "2023-11-17T04:07:51.844739Z",
     "start_time": "2023-11-17T04:07:51.824161Z"
    }
   },
   "outputs": [],
   "source": [
    "import os\n",
    "with open(r'C:\\Users\\claud\\Documents\\Descargas\\open_ai_key.txt') as f:\n",
    "    os.environ[\"OPENAI_API_KEY\"] = f.readline()\n",
    "\n",
    "from langchain.chat_models import ChatOpenAI\n",
    "\n",
    "llm = ChatOpenAI(model_name= \"gpt-3.5-turbo\")\n",
    "\n",
    "\n",
    "from langchain.schema.messages import HumanMessage, SystemMessage\n",
    "prompt='''\n",
    "\n",
    "You are a virtual assistant, who only knows how to classify texts in Spanish and responds only in Spanish, he cannot respond in English.\n",
    "\n",
    "The classifications that you should take into account are:\n",
    "Security: talk about security in Mexico\n",
    "History: facts from the history of Mexico or the world, no comments.\n",
    "Economy: Refers to the economic situation in Mexico.\n",
    "Foreign: Talk about how other countries get involved with Mexico or how Mexico impacts abroad, also about migration.\n",
    "Opinion: People's personal opinion on any topic, mostly opinions about history in the actual society.\n",
    "Health: Health situation in Mexico.\n",
    "Support: social and financial support to communities, older adults, indigenous people, etc.\n",
    "Corruption: About the wrongdoings of other groups or organizations.\n",
    "Opposition: Opposed to certain ideas or thoughts, even opposition or badmouthing about a person, organization or Politics People.\n",
    "Construction: Infrastructure built or purchased for the betterment of Mexico.\n",
    "\n",
    "\n",
    "The answer should only be one word in Spanish for each sentence, not English.\n",
    "\n",
    "\n",
    "Given you are the virtual assistant classify the following 10 sentences enclosed by quotation marks and separated with commas.\n",
    "'''"
   ]
  },
  {
   "cell_type": "code",
   "execution_count": 9,
   "id": "75c38092",
   "metadata": {
    "ExecuteTime": {
     "end_time": "2023-11-17T04:07:52.736695Z",
     "start_time": "2023-11-17T04:07:52.646972Z"
    }
   },
   "outputs": [],
   "source": [
    "result = []\n",
    "indice = 0\n",
    "for i in range(0, len(df), 10):\n",
    "    result.append('\",\"'.join(df['Texto'].iloc[i:i+10]))\n",
    "    result[indice] = '\"' + result[indice]\n",
    "    result[indice] = result[indice] + '\"'\n",
    "    indice+=1"
   ]
  },
  {
   "cell_type": "code",
   "execution_count": 19,
   "id": "bf93dcf9",
   "metadata": {
    "ExecuteTime": {
     "end_time": "2023-11-17T04:23:13.619993Z",
     "start_time": "2023-11-17T04:23:13.599950Z"
    }
   },
   "outputs": [
    {
     "data": {
      "text/plain": [
       "2176"
      ]
     },
     "execution_count": 19,
     "metadata": {},
     "output_type": "execute_result"
    }
   ],
   "source": [
    "inicio = df[\"new_classification\"].index.get_loc(df['new_classification'].last_valid_index())\n",
    "inicio = (inicio + 1) //10\n",
    "inicio\n",
    "fin = len(df) //10\n",
    "fin"
   ]
  },
  {
   "cell_type": "code",
   "execution_count": 5,
   "id": "7e20c747",
   "metadata": {
    "ExecuteTime": {
     "end_time": "2023-11-17T03:55:24.245029Z",
     "start_time": "2023-11-17T03:54:57.599298Z"
    }
   },
   "outputs": [
    {
     "name": "stdout",
     "output_type": "stream",
     "text": [
      "Support, Health, Support, Support, Support, Support, Support, Security, Construction, Security\n",
      "94\n",
      "<class 'str'>\n",
      "Fin de la asignacion\n",
      "Seguridad, Opinión, Apoyo, Historia, Historia, Historia, Historia, Historia, Historia, Historia\n",
      "95\n",
      "<class 'str'>\n",
      "Fin de la asignacion\n",
      "History, History, Opinion, Opinion, Economy, Economy, Support, Construction, Construction, Construction\n",
      "103\n",
      "<class 'str'>\n",
      "Fin de la asignacion\n",
      "Economy, Opposition, Opposition, Opposition, Opposition, Opposition, Opposition, Opposition, Opposition, Opinion\n",
      "112\n",
      "<class 'str'>\n",
      "Fin de la asignacion\n",
      "Opinion, Opinion, Opinion, Opinion, Opposition, Opinion, Opinion, Opposition, Economy, Security\n",
      "95\n",
      "<class 'str'>\n",
      "Fin de la asignacion\n",
      "Opinion, Opinion, Foreign, History, Foreign, Opposition, Opposition, Opinion, Opinion, Opinion.\n",
      "95\n",
      "<class 'str'>\n",
      "Fin de la asignacion\n",
      "Opinion, Opinion, Opinion, Opinion, History, Opinion, History, History, Opinion, Opposition\n",
      "91\n",
      "<class 'str'>\n",
      "Fin de la asignacion\n",
      "Opinion, Opinion, Opinion, Opinion, Corruption, Corruption, Opposition, Opposition, Opposition, Opposition\n",
      "106\n",
      "<class 'str'>\n",
      "Fin de la asignacion\n",
      "Opinion, Corruption, Support, Opposition, Opposition, Opposition, Opposition, History, Opposition, Opposition\n",
      "109\n",
      "<class 'str'>\n",
      "Fin de la asignacion\n",
      "Opinion, Opinion, Opposition, Opposition, Opposition, Support, Opinion, Opinion, Opinion, Corruption\n",
      "100\n",
      "<class 'str'>\n",
      "Fin de la asignacion\n"
     ]
    }
   ],
   "source": [
    "def clasificate_csv(text):\n",
    "\n",
    "        response = llm.invoke(\n",
    "                [SystemMessage(content=prompt), HumanMessage(content=text)]\n",
    "            )\n",
    "        return response.content\n",
    "\n",
    "inicio = df[\"new_classification\"].index.get_loc(df['new_classification'].last_valid_index())\n",
    "inicio = (inicio + 1) //10 \n",
    "fin = len(df) //10\n",
    "\n",
    "for i in range(inicio,fin):\n",
    "    resultado_de_la_clasificacion = clasificate_csv(result[i])\n",
    "    print(resultado_de_la_clasificacion)\n",
    "    print(len(resultado_de_la_clasificacion))\n",
    "    print(type(resultado_de_la_clasificacion))\n",
    "    df.iloc[i*10:(i+1)*10, 2] = resultado_de_la_clasificacion.split(\", \")\n",
    "    df.to_csv('amlo_clasify_chatpgt2.csv', index=False)\n",
    "    print(\"Fin de la asignacion\")\n",
    "    \n",
    "    \n",
    "#df[\"new_clasification\"] = df[\"Texto\"].apply(clasificate_csv)\n",
    "\n",
    "\n",
    "#df.to_csv('amlo_clasify_chatpgt2.csv', index=False)"
   ]
  },
  {
   "cell_type": "code",
   "execution_count": 12,
   "id": "2e4ee38f",
   "metadata": {
    "ExecuteTime": {
     "end_time": "2023-11-14T04:26:25.277877Z",
     "start_time": "2023-11-14T04:26:25.269308Z"
    }
   },
   "outputs": [],
   "source": []
  },
  {
   "cell_type": "code",
   "execution_count": 11,
   "id": "17a01715",
   "metadata": {
    "ExecuteTime": {
     "end_time": "2023-11-17T04:08:09.189891Z",
     "start_time": "2023-11-17T04:08:09.166004Z"
    }
   },
   "outputs": [
    {
     "data": {
      "text/html": [
       "<div>\n",
       "<style scoped>\n",
       "    .dataframe tbody tr th:only-of-type {\n",
       "        vertical-align: middle;\n",
       "    }\n",
       "\n",
       "    .dataframe tbody tr th {\n",
       "        vertical-align: top;\n",
       "    }\n",
       "\n",
       "    .dataframe thead th {\n",
       "        text-align: right;\n",
       "    }\n",
       "</style>\n",
       "<table border=\"1\" class=\"dataframe\">\n",
       "  <thead>\n",
       "    <tr style=\"text-align: right;\">\n",
       "      <th></th>\n",
       "      <th>Texto</th>\n",
       "      <th>Clasificacion</th>\n",
       "      <th>new_classification</th>\n",
       "    </tr>\n",
       "  </thead>\n",
       "  <tbody>\n",
       "    <tr>\n",
       "      <th>0</th>\n",
       "      <td>Buenos días y feliz año. Deseamos que nos vay...</td>\n",
       "      <td>saludos</td>\n",
       "      <td>Support</td>\n",
       "    </tr>\n",
       "    <tr>\n",
       "      <th>1</th>\n",
       "      <td>Vamos a iniciar la semana como lo hacemos siem...</td>\n",
       "      <td>NaN</td>\n",
       "      <td>Health</td>\n",
       "    </tr>\n",
       "    <tr>\n",
       "      <th>2</th>\n",
       "      <td>También vamos a informar este primer día hábil...</td>\n",
       "      <td>apoyo</td>\n",
       "      <td>Support</td>\n",
       "    </tr>\n",
       "    <tr>\n",
       "      <th>3</th>\n",
       "      <td>Y ahora se va a informar porque se está optand...</td>\n",
       "      <td>apoyo</td>\n",
       "      <td>Support</td>\n",
       "    </tr>\n",
       "    <tr>\n",
       "      <th>4</th>\n",
       "      <td>En esta etapa se combinan los bancos particula...</td>\n",
       "      <td>apoyo</td>\n",
       "      <td>Support</td>\n",
       "    </tr>\n",
       "    <tr>\n",
       "      <th>...</th>\n",
       "      <td>...</td>\n",
       "      <td>...</td>\n",
       "      <td>...</td>\n",
       "    </tr>\n",
       "    <tr>\n",
       "      <th>145</th>\n",
       "      <td>Cada vez que hay una transformación, hay una n...</td>\n",
       "      <td>opinion</td>\n",
       "      <td>NaN</td>\n",
       "    </tr>\n",
       "    <tr>\n",
       "      <th>146</th>\n",
       "      <td>Entonces, escogimos como 10 reformas muy impor...</td>\n",
       "      <td>seguridad</td>\n",
       "      <td>NaN</td>\n",
       "    </tr>\n",
       "    <tr>\n",
       "      <th>147</th>\n",
       "      <td>Entonces, afortunadamente se llevó a cabo la r...</td>\n",
       "      <td>seguridad</td>\n",
       "      <td>NaN</td>\n",
       "    </tr>\n",
       "    <tr>\n",
       "      <th>148</th>\n",
       "      <td>Doscientos cincuenta, fíjense el cambio; pero...</td>\n",
       "      <td>seguridad</td>\n",
       "      <td>NaN</td>\n",
       "    </tr>\n",
       "    <tr>\n",
       "      <th>149</th>\n",
       "      <td>La segunda que yo considero muy importante, la...</td>\n",
       "      <td>opinion</td>\n",
       "      <td>NaN</td>\n",
       "    </tr>\n",
       "  </tbody>\n",
       "</table>\n",
       "<p>150 rows × 3 columns</p>\n",
       "</div>"
      ],
      "text/plain": [
       "                                                 Texto Clasificacion  \\\n",
       "0     Buenos días y feliz año. Deseamos que nos vay...       saludos   \n",
       "1    Vamos a iniciar la semana como lo hacemos siem...           NaN   \n",
       "2    También vamos a informar este primer día hábil...         apoyo   \n",
       "3    Y ahora se va a informar porque se está optand...         apoyo   \n",
       "4    En esta etapa se combinan los bancos particula...         apoyo   \n",
       "..                                                 ...           ...   \n",
       "145  Cada vez que hay una transformación, hay una n...       opinion   \n",
       "146  Entonces, escogimos como 10 reformas muy impor...     seguridad   \n",
       "147  Entonces, afortunadamente se llevó a cabo la r...     seguridad   \n",
       "148   Doscientos cincuenta, fíjense el cambio; pero...     seguridad   \n",
       "149  La segunda que yo considero muy importante, la...       opinion   \n",
       "\n",
       "    new_classification  \n",
       "0              Support  \n",
       "1               Health  \n",
       "2              Support  \n",
       "3              Support  \n",
       "4              Support  \n",
       "..                 ...  \n",
       "145                NaN  \n",
       "146                NaN  \n",
       "147                NaN  \n",
       "148                NaN  \n",
       "149                NaN  \n",
       "\n",
       "[150 rows x 3 columns]"
      ]
     },
     "execution_count": 11,
     "metadata": {},
     "output_type": "execute_result"
    }
   ],
   "source": [
    "df.head(150)"
   ]
  },
  {
   "cell_type": "markdown",
   "id": "22514f91",
   "metadata": {},
   "source": [
    "## 1. Ahorita le mande 50 con el nuevo prompt y si los clasifico de a 10\n",
    "- Opinion, Support, Support, Support, Support, Support, Support, Security, Support, Opposition\n",
    "- Security, Support, Opinion, History, History, History, History, Opposition, Opposition, Opposition\n",
    "- History, History, Opinion, Opinion, Economy, Economy, Support, Construction, Construction, Construction\n",
    "- Economy, Opposition, Opposition, Opposition, Opposition, Opposition, Opposition, Opposition, Opposition, Opposition.\n",
    "- Opinion, Opinion, Opposition, Opposition, Opposition, Opinion, Opinion, Opposition, Economy, Security."
   ]
  },
  {
   "cell_type": "markdown",
   "id": "9a4c1efe",
   "metadata": {},
   "source": [
    "### 2. Prompt llamado Bob\n",
    "- Opinion, Health, Support, Support, Support, Construction, Construction, Security, Support, Security\n",
    "- Security, History, Support, Opinion, History, History, History, Foreign, Opposition, Opposition\n",
    "- History, History, Opinion, Opinion, Economy, Economy, Support, Construction, Construction, Construction\n",
    "- Economy, Opposition, Opposition, Opposition, Corruption, Opposition, Opposition, Corruption, Opposition, Opinion"
   ]
  },
  {
   "cell_type": "markdown",
   "id": "0dd6df08",
   "metadata": {},
   "source": [
    "### 3. Prompt Bob mejorado (de mejor  no tiene nada)\n",
    "13\n",
    "\n",
    "- Opinion, Support, Support, Support, Support, Support, Support, Security, Construction, Support\n",
    "- Seguridad, Apoyo, Apoyo\n",
    "- Apoyo, Apoyo, Apoyo, Apoyo, Apoyo\n",
    "- Historia, Historia, Historia, Historia, Historia\n",
    "- Historia, Historia, Historia, Historia, Historia\n",
    "- Historia, Historia, Historia, Historia, Historia\n",
    "- Historia, Historia, Historia, Historia, Historia\n",
    "- Historia, Historia, Historia, Historia, Historia\n",
    "- Historia, Historia, Historia, Historia, Historia\n",
    "- Historia, Historia, Historia, Historia, Historia\n",
    "- Opposición, Opposición\n",
    "- History, Opinion, Opinion, Opinion, Economy, Economy, Construction, Construction, Construction, Construction\n",
    "- Economy, Opposition, Opposition, Opposition, Opposition, Opposition, Opposition, Opposition, Opposition, Opposition\n",
    "- Opinion, Opinion, Opposition, Opposition, Opposition, Opinion, Opinion, Opposition, Economy, Security\n"
   ]
  },
  {
   "cell_type": "markdown",
   "id": "38e9ccf5",
   "metadata": {},
   "source": [
    "### 4. Prompt sin ser Bob pero mejor \n",
    "\n",
    "- Opinion, Support, Support, Support, Support, Construction, Construction, Security, Support, Security\n",
    "- Seguridad, Apoyo, Seguridad, Historia, Historia, Historia, Historia, Historia, Historia, Historia\n",
    "- History, Opinion, Opinion, Opinion, Economy, Economy, Support, Construction, Construction, Construction\n",
    "- Economy, Opposition, Opposition, Opposition, Opposition, Opposition, Opposition, Opposition, Opposition, Opposition\n",
    "- Opinion, Opinion, Opposition, Opposition, Opposition, Opinion, Opinion, Opposition, Economy, Security"
   ]
  },
  {
   "cell_type": "markdown",
   "id": "161c5c8f",
   "metadata": {},
   "source": [
    "### 5. Prompt anterior pero reiterando que no puede responder en Ingles\n",
    "- Opinion, Support, Health, Support, Support, Support, Support, Security, Construction, Opposition.\n",
    "- Seguridad, Apoyo, Seguridad, Historia, Historia, Historia, Historia, Historia, Historia, Historia\n",
    "- History, Opposition, Opinion, Opinion, Economy, Economy, Construction, Construction, Construction, Construction"
   ]
  },
  {
   "cell_type": "code",
   "execution_count": 14,
   "id": "f21f3c39",
   "metadata": {
    "ExecuteTime": {
     "end_time": "2023-11-17T04:15:37.118210Z",
     "start_time": "2023-11-17T04:15:37.095184Z"
    }
   },
   "outputs": [
    {
     "data": {
      "text/plain": [
       "99"
      ]
     },
     "execution_count": 14,
     "metadata": {},
     "output_type": "execute_result"
    }
   ],
   "source": []
  },
  {
   "cell_type": "code",
   "execution_count": 16,
   "id": "cc8adb14",
   "metadata": {
    "ExecuteTime": {
     "end_time": "2023-11-17T04:15:55.725553Z",
     "start_time": "2023-11-17T04:15:55.706711Z"
    }
   },
   "outputs": [
    {
     "data": {
      "text/plain": [
       "Texto                 Si ustedes hacen un análisis económico sobre l...\n",
       "Clasificacion                                                  economia\n",
       "new_classification                                                  NaN\n",
       "Name: 100, dtype: object"
      ]
     },
     "execution_count": 16,
     "metadata": {},
     "output_type": "execute_result"
    }
   ],
   "source": [
    "df.iloc[100]"
   ]
  },
  {
   "cell_type": "code",
   "execution_count": null,
   "id": "f6a8fe8c",
   "metadata": {},
   "outputs": [],
   "source": []
  }
 ],
 "metadata": {
  "kernelspec": {
   "display_name": "Python 3 (ipykernel)",
   "language": "python",
   "name": "python3"
  },
  "language_info": {
   "codemirror_mode": {
    "name": "ipython",
    "version": 3
   },
   "file_extension": ".py",
   "mimetype": "text/x-python",
   "name": "python",
   "nbconvert_exporter": "python",
   "pygments_lexer": "ipython3",
   "version": "3.10.12"
  }
 },
 "nbformat": 4,
 "nbformat_minor": 5
}
