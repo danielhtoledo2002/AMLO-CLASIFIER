{
 "cells": [
  {
   "cell_type": "code",
   "execution_count": 9,
   "id": "dec5bc48",
   "metadata": {
    "ExecuteTime": {
     "end_time": "2023-11-24T20:04:02.911994Z",
     "start_time": "2023-11-24T20:04:02.862027Z"
    }
   },
   "outputs": [],
   "source": [
    "import numpy as np\n",
    "import pandas as pd\n",
    "embeddings = {}\n",
    "\n",
    "df = pd.read_csv(\"../clean_amlo.csv\")\n",
    "\n"
   ]
  },
  {
   "cell_type": "code",
   "execution_count": 34,
   "id": "10529cb6",
   "metadata": {
    "ExecuteTime": {
     "end_time": "2023-11-21T03:06:57.943255Z",
     "start_time": "2023-11-21T03:06:55.493203Z"
    }
   },
   "outputs": [],
   "source": [
    "import spacy \n",
    "from spacy import displacy \n",
    "\n",
    "nlp = spacy.load(\"es_core_news_lg\")\n",
    "import nltk\n",
    "import re\n",
    "from nltk import word_tokenize\n",
    "from nltk.corpus import stopwords\n",
    "\n",
    "stop_words_en= stopwords.words('spanish')\n",
    "from nltk.stem.wordnet import WordNetLemmatizer\n",
    "\n",
    "lemmatizer = WordNetLemmatizer()"
   ]
  },
  {
   "cell_type": "code",
   "execution_count": 35,
   "id": "29b85183",
   "metadata": {
    "ExecuteTime": {
     "end_time": "2023-11-21T03:06:57.959256Z",
     "start_time": "2023-11-21T03:06:57.945257Z"
    }
   },
   "outputs": [],
   "source": [
    "\n",
    "\n",
    "\n",
    "def vectorize_clean(texto):\n",
    "    texto = texto.lower()\n",
    "    texto = re.sub(r'([^0-9A-Za-z-À-ÿ \\t])','', texto)\n",
    "    texto = word_tokenize(texto)\n",
    "    texto = [palabra for palabra in texto if palabra not in stop_words_en]\n",
    "    texto = [lemmatizer.lemmatize(palabra) for palabra in texto]\n",
    "    texto = ' '.join(texto)\n",
    "    texto = nlp(texto).vector\n",
    "    return texto\n",
    "\n",
    "def vectorize(texto):\n",
    "    texto = nlp(texto).vector\n",
    "    return texto"
   ]
  },
  {
   "cell_type": "code",
   "execution_count": 10,
   "id": "572cbb1d",
   "metadata": {
    "ExecuteTime": {
     "end_time": "2023-11-24T20:04:05.830212Z",
     "start_time": "2023-11-24T20:04:05.816195Z"
    }
   },
   "outputs": [
    {
     "data": {
      "text/html": [
       "<div>\n",
       "<style scoped>\n",
       "    .dataframe tbody tr th:only-of-type {\n",
       "        vertical-align: middle;\n",
       "    }\n",
       "\n",
       "    .dataframe tbody tr th {\n",
       "        vertical-align: top;\n",
       "    }\n",
       "\n",
       "    .dataframe thead th {\n",
       "        text-align: right;\n",
       "    }\n",
       "</style>\n",
       "<table border=\"1\" class=\"dataframe\">\n",
       "  <thead>\n",
       "    <tr style=\"text-align: right;\">\n",
       "      <th></th>\n",
       "      <th>Texto</th>\n",
       "      <th>Clasificacion</th>\n",
       "      <th>clean</th>\n",
       "      <th>vector</th>\n",
       "    </tr>\n",
       "  </thead>\n",
       "  <tbody>\n",
       "    <tr>\n",
       "      <th>0</th>\n",
       "      <td>También vamos a informar este primer día hábil...</td>\n",
       "      <td>apoyo</td>\n",
       "      <td>también ir a informar este primero día hábil d...</td>\n",
       "      <td>[ 1.41899014e+00  2.89622617e+00 -8.29722404e-...</td>\n",
       "    </tr>\n",
       "    <tr>\n",
       "      <th>1</th>\n",
       "      <td>Y ahora se va a informar porque se está optand...</td>\n",
       "      <td>apoyo</td>\n",
       "      <td>y ahora él ir a informar porque él estar optar...</td>\n",
       "      <td>[ 1.613179    2.4638274  -1.0321436   0.228727...</td>\n",
       "    </tr>\n",
       "    <tr>\n",
       "      <th>2</th>\n",
       "      <td>En esta etapa se combinan los bancos particula...</td>\n",
       "      <td>apoyo</td>\n",
       "      <td>en este etapa él combinar el banco particular ...</td>\n",
       "      <td>[ 1.40079224e+00  2.55894732e+00 -7.46786058e-...</td>\n",
       "    </tr>\n",
       "    <tr>\n",
       "      <th>3</th>\n",
       "      <td>También Ariadna Montiel, que es la secretaria ...</td>\n",
       "      <td>apoyo</td>\n",
       "      <td>también ariadna montiel que ser el secretaria ...</td>\n",
       "      <td>[ 1.7361122e+00  1.4736185e+00 -3.4129769e-02 ...</td>\n",
       "    </tr>\n",
       "    <tr>\n",
       "      <th>4</th>\n",
       "      <td>Pero tenerlas terminadas no significa tenerlas...</td>\n",
       "      <td>apoyo</td>\n",
       "      <td>pero tener él terminado no significar tener él...</td>\n",
       "      <td>[ 1.10585928e+00  2.97061157e+00 -1.89105558e+...</td>\n",
       "    </tr>\n",
       "    <tr>\n",
       "      <th>...</th>\n",
       "      <td>...</td>\n",
       "      <td>...</td>\n",
       "      <td>...</td>\n",
       "      <td>...</td>\n",
       "    </tr>\n",
       "    <tr>\n",
       "      <th>449</th>\n",
       "      <td>Eso es lo que le puedo decir, con todo respeto...</td>\n",
       "      <td>exterior</td>\n",
       "      <td>ese ser él que él poder decir con todo respeto...</td>\n",
       "      <td>[ 5.83898425e-01  3.60192585e+00 -3.74272203e+...</td>\n",
       "    </tr>\n",
       "    <tr>\n",
       "      <th>450</th>\n",
       "      <td>Se va a llegar a concretar porque es que los ...</td>\n",
       "      <td>exterior</td>\n",
       "      <td>él ir a llegar a concretar porque ser que el...</td>\n",
       "      <td>[ 1.98953402e+00  1.27168190e+00 -4.11813051e-...</td>\n",
       "    </tr>\n",
       "    <tr>\n",
       "      <th>451</th>\n",
       "      <td>Entonces, tenemos que hablar mucho con nuestro...</td>\n",
       "      <td>seguridad</td>\n",
       "      <td>entonces tener que hablar mucho con nuestro pa...</td>\n",
       "      <td>[ 1.2499397e+00  2.9624448e+00 -3.3469234e+00 ...</td>\n",
       "    </tr>\n",
       "    <tr>\n",
       "      <th>452</th>\n",
       "      <td>Es que ya lo están haciendo. Y a lo mejor el…...</td>\n",
       "      <td>exterior</td>\n",
       "      <td>ser que ya él estar hacer y a él mejor el bu...</td>\n",
       "      <td>[ 1.79775321e+00  2.57321405e+00 -1.54663992e+...</td>\n",
       "    </tr>\n",
       "    <tr>\n",
       "      <th>453</th>\n",
       "      <td>¿Y qué? ¿No importa el pueblo? ¿No un bloqueo ...</td>\n",
       "      <td>seguridad</td>\n",
       "      <td>y qué no importar el pueblo no uno bloqueo él ...</td>\n",
       "      <td>[ 0.76080745  3.5405314  -2.2143698  -0.491702...</td>\n",
       "    </tr>\n",
       "  </tbody>\n",
       "</table>\n",
       "<p>454 rows × 4 columns</p>\n",
       "</div>"
      ],
      "text/plain": [
       "                                                 Texto Clasificacion  \\\n",
       "0    También vamos a informar este primer día hábil...         apoyo   \n",
       "1    Y ahora se va a informar porque se está optand...         apoyo   \n",
       "2    En esta etapa se combinan los bancos particula...         apoyo   \n",
       "3    También Ariadna Montiel, que es la secretaria ...         apoyo   \n",
       "4    Pero tenerlas terminadas no significa tenerlas...         apoyo   \n",
       "..                                                 ...           ...   \n",
       "449  Eso es lo que le puedo decir, con todo respeto...      exterior   \n",
       "450   Se va a llegar a concretar porque es que los ...      exterior   \n",
       "451  Entonces, tenemos que hablar mucho con nuestro...     seguridad   \n",
       "452   Es que ya lo están haciendo. Y a lo mejor el…...      exterior   \n",
       "453  ¿Y qué? ¿No importa el pueblo? ¿No un bloqueo ...     seguridad   \n",
       "\n",
       "                                                 clean  \\\n",
       "0    también ir a informar este primero día hábil d...   \n",
       "1    y ahora él ir a informar porque él estar optar...   \n",
       "2    en este etapa él combinar el banco particular ...   \n",
       "3    también ariadna montiel que ser el secretaria ...   \n",
       "4    pero tener él terminado no significar tener él...   \n",
       "..                                                 ...   \n",
       "449  ese ser él que él poder decir con todo respeto...   \n",
       "450    él ir a llegar a concretar porque ser que el...   \n",
       "451  entonces tener que hablar mucho con nuestro pa...   \n",
       "452    ser que ya él estar hacer y a él mejor el bu...   \n",
       "453  y qué no importar el pueblo no uno bloqueo él ...   \n",
       "\n",
       "                                                vector  \n",
       "0    [ 1.41899014e+00  2.89622617e+00 -8.29722404e-...  \n",
       "1    [ 1.613179    2.4638274  -1.0321436   0.228727...  \n",
       "2    [ 1.40079224e+00  2.55894732e+00 -7.46786058e-...  \n",
       "3    [ 1.7361122e+00  1.4736185e+00 -3.4129769e-02 ...  \n",
       "4    [ 1.10585928e+00  2.97061157e+00 -1.89105558e+...  \n",
       "..                                                 ...  \n",
       "449  [ 5.83898425e-01  3.60192585e+00 -3.74272203e+...  \n",
       "450  [ 1.98953402e+00  1.27168190e+00 -4.11813051e-...  \n",
       "451  [ 1.2499397e+00  2.9624448e+00 -3.3469234e+00 ...  \n",
       "452  [ 1.79775321e+00  2.57321405e+00 -1.54663992e+...  \n",
       "453  [ 0.76080745  3.5405314  -2.2143698  -0.491702...  \n",
       "\n",
       "[454 rows x 4 columns]"
      ]
     },
     "execution_count": 10,
     "metadata": {},
     "output_type": "execute_result"
    }
   ],
   "source": [
    "df"
   ]
  },
  {
   "cell_type": "code",
   "execution_count": 37,
   "id": "8d38b21b",
   "metadata": {
    "ExecuteTime": {
     "end_time": "2023-11-21T03:07:01.621738Z",
     "start_time": "2023-11-21T03:07:01.607141Z"
    }
   },
   "outputs": [],
   "source": [
    "#df['vector'] = df[\"clean\"].apply(vectorize)\n",
    "#df.head()"
   ]
  },
  {
   "cell_type": "code",
   "execution_count": 38,
   "id": "5997ea24",
   "metadata": {
    "ExecuteTime": {
     "end_time": "2023-11-21T03:07:04.695422Z",
     "start_time": "2023-11-21T03:07:04.642953Z"
    }
   },
   "outputs": [],
   "source": [
    "\n",
    "df['vector'] = df[\"vector\"].apply(lambda x: \n",
    "                           np.fromstring(\n",
    "                               x.replace('\\n','')\n",
    "                                .replace('[','')\n",
    "                                .replace(']','')\n",
    "                                .replace('  ',' '), sep=' '))"
   ]
  },
  {
   "cell_type": "code",
   "execution_count": 39,
   "id": "b13d9d42",
   "metadata": {
    "ExecuteTime": {
     "end_time": "2023-11-21T03:07:06.089493Z",
     "start_time": "2023-11-21T03:07:06.071974Z"
    }
   },
   "outputs": [],
   "source": [
    "\n",
    "def getTopXDocs(frase,x,export=False):\n",
    "    data = {\n",
    "        'texto' :[],\n",
    "        'sims': []\n",
    "    }\n",
    "    buscar = vectorize_clean(frase)\n",
    "    for vector, frase in zip(df[\"vector\"],df[\"Texto\"]):\n",
    "        A = buscar \n",
    "        B = vector\n",
    "        \n",
    "        resultado = np.dot(A,B) / (np.linalg.norm(A) * np.linalg.norm(B)) \n",
    "        \n",
    "        data[\"texto\"].append(frase)\n",
    "        data[\"sims\"].append(resultado)\n",
    "    final = pd.DataFrame(data).sort_values(by = 'sims', ascending = False).head(x)\n",
    "    return final"
   ]
  },
  {
   "cell_type": "code",
   "execution_count": 40,
   "id": "375a8464",
   "metadata": {
    "ExecuteTime": {
     "end_time": "2023-11-21T03:07:06.275707Z",
     "start_time": "2023-11-21T03:07:06.253693Z"
    }
   },
   "outputs": [
    {
     "data": {
      "text/html": [
       "<div>\n",
       "<style scoped>\n",
       "    .dataframe tbody tr th:only-of-type {\n",
       "        vertical-align: middle;\n",
       "    }\n",
       "\n",
       "    .dataframe tbody tr th {\n",
       "        vertical-align: top;\n",
       "    }\n",
       "\n",
       "    .dataframe thead th {\n",
       "        text-align: right;\n",
       "    }\n",
       "</style>\n",
       "<table border=\"1\" class=\"dataframe\">\n",
       "  <thead>\n",
       "    <tr style=\"text-align: right;\">\n",
       "      <th></th>\n",
       "      <th>texto</th>\n",
       "      <th>sims</th>\n",
       "    </tr>\n",
       "  </thead>\n",
       "  <tbody>\n",
       "    <tr>\n",
       "      <th>159</th>\n",
       "      <td>Ricolino, sí. Hay que tener mucho cuidado con...</td>\n",
       "      <td>0.503150</td>\n",
       "    </tr>\n",
       "    <tr>\n",
       "      <th>156</th>\n",
       "      <td>Ahora que una parte de Televisa se vende a Uni...</td>\n",
       "      <td>0.479012</td>\n",
       "    </tr>\n",
       "    <tr>\n",
       "      <th>155</th>\n",
       "      <td>Imagínense cuánto ingresa ahora. Les estoy hab...</td>\n",
       "      <td>0.468538</td>\n",
       "    </tr>\n",
       "    <tr>\n",
       "      <th>329</th>\n",
       "      <td>Entonces, no se permite la corrupción; entonce...</td>\n",
       "      <td>0.468380</td>\n",
       "    </tr>\n",
       "    <tr>\n",
       "      <th>419</th>\n",
       "      <td>Otra que podemos tener sobre el incremento de ...</td>\n",
       "      <td>0.464503</td>\n",
       "    </tr>\n",
       "    <tr>\n",
       "      <th>441</th>\n",
       "      <td>Pues no tengo mucha información, pero sí son ...</td>\n",
       "      <td>0.461948</td>\n",
       "    </tr>\n",
       "    <tr>\n",
       "      <th>265</th>\n",
       "      <td>Siempre habla de pie de igualdad, respetando l...</td>\n",
       "      <td>0.456002</td>\n",
       "    </tr>\n",
       "    <tr>\n",
       "      <th>407</th>\n",
       "      <td>Bueno, tenemos muy buena comunicación en el t...</td>\n",
       "      <td>0.452198</td>\n",
       "    </tr>\n",
       "    <tr>\n",
       "      <th>246</th>\n",
       "      <td>Es que no me ha respondido Loret de Mola, no m...</td>\n",
       "      <td>0.451495</td>\n",
       "    </tr>\n",
       "    <tr>\n",
       "      <th>188</th>\n",
       "      <td>No, no estoy de acuerdo en eso; habría que ve...</td>\n",
       "      <td>0.446757</td>\n",
       "    </tr>\n",
       "    <tr>\n",
       "      <th>194</th>\n",
       "      <td>Y nosotros no hemos iniciado ninguna investiga...</td>\n",
       "      <td>0.444554</td>\n",
       "    </tr>\n",
       "    <tr>\n",
       "      <th>251</th>\n",
       "      <td>Vamos a seguirlos enfrentando, porque están mu...</td>\n",
       "      <td>0.443692</td>\n",
       "    </tr>\n",
       "    <tr>\n",
       "      <th>86</th>\n",
       "      <td>Nos cuesta trabajo que se considere a los fact...</td>\n",
       "      <td>0.443531</td>\n",
       "    </tr>\n",
       "    <tr>\n",
       "      <th>162</th>\n",
       "      <td>Ah, 10 mil millones. Ese era el problema, per...</td>\n",
       "      <td>0.442628</td>\n",
       "    </tr>\n",
       "    <tr>\n",
       "      <th>145</th>\n",
       "      <td>Yo les he dado a conocer, nada más que no sale...</td>\n",
       "      <td>0.441911</td>\n",
       "    </tr>\n",
       "    <tr>\n",
       "      <th>74</th>\n",
       "      <td>Entonces, pedí que me investigaran quiénes era...</td>\n",
       "      <td>0.441386</td>\n",
       "    </tr>\n",
       "    <tr>\n",
       "      <th>271</th>\n",
       "      <td>Un día a ver si traemos aquí como un análisis ...</td>\n",
       "      <td>0.441005</td>\n",
       "    </tr>\n",
       "    <tr>\n",
       "      <th>328</th>\n",
       "      <td>Imagínense la corrupción que significa que una...</td>\n",
       "      <td>0.440805</td>\n",
       "    </tr>\n",
       "    <tr>\n",
       "      <th>415</th>\n",
       "      <td>Que están haciendo su trámite; sí, puede ser, ...</td>\n",
       "      <td>0.438175</td>\n",
       "    </tr>\n",
       "    <tr>\n",
       "      <th>368</th>\n",
       "      <td>Y también se están construyendo nuevas plantas...</td>\n",
       "      <td>0.437422</td>\n",
       "    </tr>\n",
       "    <tr>\n",
       "      <th>301</th>\n",
       "      <td>Esto es buenísimo: ‘Si México no tuviera que c...</td>\n",
       "      <td>0.436770</td>\n",
       "    </tr>\n",
       "    <tr>\n",
       "      <th>192</th>\n",
       "      <td>Lo de la moneda, no conozco bien qué esté prop...</td>\n",
       "      <td>0.435490</td>\n",
       "    </tr>\n",
       "    <tr>\n",
       "      <th>436</th>\n",
       "      <td>Es que no es posible que el pueblo elija y una...</td>\n",
       "      <td>0.435331</td>\n",
       "    </tr>\n",
       "    <tr>\n",
       "      <th>374</th>\n",
       "      <td>Hay algunas inquietudes; ya se aclaró de que s...</td>\n",
       "      <td>0.435124</td>\n",
       "    </tr>\n",
       "    <tr>\n",
       "      <th>452</th>\n",
       "      <td>Es que ya lo están haciendo. Y a lo mejor el…...</td>\n",
       "      <td>0.434540</td>\n",
       "    </tr>\n",
       "  </tbody>\n",
       "</table>\n",
       "</div>"
      ],
      "text/plain": [
       "                                                 texto      sims\n",
       "159   Ricolino, sí. Hay que tener mucho cuidado con...  0.503150\n",
       "156  Ahora que una parte de Televisa se vende a Uni...  0.479012\n",
       "155  Imagínense cuánto ingresa ahora. Les estoy hab...  0.468538\n",
       "329  Entonces, no se permite la corrupción; entonce...  0.468380\n",
       "419  Otra que podemos tener sobre el incremento de ...  0.464503\n",
       "441   Pues no tengo mucha información, pero sí son ...  0.461948\n",
       "265  Siempre habla de pie de igualdad, respetando l...  0.456002\n",
       "407   Bueno, tenemos muy buena comunicación en el t...  0.452198\n",
       "246  Es que no me ha respondido Loret de Mola, no m...  0.451495\n",
       "188   No, no estoy de acuerdo en eso; habría que ve...  0.446757\n",
       "194  Y nosotros no hemos iniciado ninguna investiga...  0.444554\n",
       "251  Vamos a seguirlos enfrentando, porque están mu...  0.443692\n",
       "86   Nos cuesta trabajo que se considere a los fact...  0.443531\n",
       "162   Ah, 10 mil millones. Ese era el problema, per...  0.442628\n",
       "145  Yo les he dado a conocer, nada más que no sale...  0.441911\n",
       "74   Entonces, pedí que me investigaran quiénes era...  0.441386\n",
       "271  Un día a ver si traemos aquí como un análisis ...  0.441005\n",
       "328  Imagínense la corrupción que significa que una...  0.440805\n",
       "415  Que están haciendo su trámite; sí, puede ser, ...  0.438175\n",
       "368  Y también se están construyendo nuevas plantas...  0.437422\n",
       "301  Esto es buenísimo: ‘Si México no tuviera que c...  0.436770\n",
       "192  Lo de la moneda, no conozco bien qué esté prop...  0.435490\n",
       "436  Es que no es posible que el pueblo elija y una...  0.435331\n",
       "374  Hay algunas inquietudes; ya se aclaró de que s...  0.435124\n",
       "452   Es que ya lo están haciendo. Y a lo mejor el…...  0.434540"
      ]
     },
     "execution_count": 40,
     "metadata": {},
     "output_type": "execute_result"
    }
   ],
   "source": [
    "getTopXDocs(\"hubo muchas muertes\", 25)"
   ]
  },
  {
   "cell_type": "code",
   "execution_count": 11,
   "id": "6fb13085",
   "metadata": {
    "ExecuteTime": {
     "end_time": "2023-11-24T20:04:15.838486Z",
     "start_time": "2023-11-24T20:04:15.833487Z"
    }
   },
   "outputs": [],
   "source": [
    "#df = df.drop('Unnamed: 0', axis=1)"
   ]
  },
  {
   "cell_type": "code",
   "execution_count": 12,
   "id": "7e48f22d",
   "metadata": {
    "ExecuteTime": {
     "end_time": "2023-11-24T20:04:15.946607Z",
     "start_time": "2023-11-24T20:04:15.933345Z"
    }
   },
   "outputs": [],
   "source": [
    "#df.to_csv('../clean_amlo.csv', index=False)"
   ]
  },
  {
   "cell_type": "code",
   "execution_count": 8,
   "id": "6c445ee4",
   "metadata": {
    "ExecuteTime": {
     "end_time": "2023-11-24T20:04:00.497612Z",
     "start_time": "2023-11-24T20:04:00.488615Z"
    }
   },
   "outputs": [
    {
     "name": "stdout",
     "output_type": "stream",
     "text": [
      "<class 'pandas.core.frame.DataFrame'>\n",
      "RangeIndex: 454 entries, 0 to 453\n",
      "Data columns (total 4 columns):\n",
      " #   Column         Non-Null Count  Dtype \n",
      "---  ------         --------------  ----- \n",
      " 0   Texto          454 non-null    object\n",
      " 1   Clasificacion  454 non-null    object\n",
      " 2   clean          454 non-null    object\n",
      " 3   vector         454 non-null    object\n",
      "dtypes: object(4)\n",
      "memory usage: 14.3+ KB\n"
     ]
    }
   ],
   "source": [
    "df.info()"
   ]
  },
  {
   "cell_type": "code",
   "execution_count": null,
   "id": "cea2d2ed",
   "metadata": {},
   "outputs": [],
   "source": []
  }
 ],
 "metadata": {
  "kernelspec": {
   "display_name": "Python 3 (ipykernel)",
   "language": "python",
   "name": "python3"
  },
  "language_info": {
   "codemirror_mode": {
    "name": "ipython",
    "version": 3
   },
   "file_extension": ".py",
   "mimetype": "text/x-python",
   "name": "python",
   "nbconvert_exporter": "python",
   "pygments_lexer": "ipython3",
   "version": "3.10.12"
  }
 },
 "nbformat": 4,
 "nbformat_minor": 5
}
