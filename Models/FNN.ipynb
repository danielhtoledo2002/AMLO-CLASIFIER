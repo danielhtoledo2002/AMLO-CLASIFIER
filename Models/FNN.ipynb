{
 "cells": [
  {
   "cell_type": "code",
   "execution_count": 30,
   "id": "1273e2e0",
   "metadata": {
    "ExecuteTime": {
     "end_time": "2023-11-24T20:19:04.314703Z",
     "start_time": "2023-11-24T20:19:04.186870Z"
    }
   },
   "outputs": [
    {
     "data": {
      "text/plain": [
       "<Axes: xlabel='Clasificacion'>"
      ]
     },
     "execution_count": 30,
     "metadata": {},
     "output_type": "execute_result"
    },
    {
     "data": {
      "image/png": "[encoded data removed]",
      "text/plain": [
       "<Figure size 640x480 with 1 Axes>"
      ]
     },
     "metadata": {},
     "output_type": "display_data"
    }
   ],
   "source": [
    "import pandas as pd\n",
    "df = pd.read_csv(\"../clean_amlo.csv\")\n",
    "df['Clasificacion'].value_counts().plot(kind='bar')"
   ]
  },
  {
   "cell_type": "code",
   "execution_count": 31,
   "id": "2dfbe9a6",
   "metadata": {
    "ExecuteTime": {
     "end_time": "2023-11-24T20:19:06.263881Z",
     "start_time": "2023-11-24T20:19:04.736066Z"
    }
   },
   "outputs": [],
   "source": [
    "import tensorflow as tf\n",
    "import spacy\n",
    "nlp = spacy.load('es_core_news_lg')"
   ]
  },
  {
   "cell_type": "code",
   "execution_count": 32,
   "id": "3045db1c",
   "metadata": {
    "ExecuteTime": {
     "end_time": "2023-11-24T20:19:06.279884Z",
     "start_time": "2023-11-24T20:19:06.266874Z"
    }
   },
   "outputs": [],
   "source": [
    "import nltk\n",
    "import re\n",
    "import numpy as np\n",
    "from nltk import word_tokenize\n",
    "from nltk.corpus import stopwords\n",
    "from nltk.stem.wordnet import WordNetLemmatizer\n",
    "\n",
    "stop_words_es = stopwords.words('spanish')\n",
    "from nltk.stem.wordnet import WordNetLemmatizer\n",
    "lemmatizer = WordNetLemmatizer()"
   ]
  },
  {
   "cell_type": "code",
   "execution_count": 33,
   "id": "26f0c8b0",
   "metadata": {
    "ExecuteTime": {
     "end_time": "2023-11-24T20:19:06.968677Z",
     "start_time": "2023-11-24T20:19:06.954506Z"
    }
   },
   "outputs": [],
   "source": [
    "mapper = {\n",
    "    'exterior': 0,\n",
    "    'seguridad':1,\n",
    "    'economia': 2,\n",
    "    'opinion':3,\n",
    "    'competencia': 4,\n",
    "    'apoyo':5,\n",
    "}\n",
    "df['Clasificacion'] = df['Clasificacion'].map(mapper)"
   ]
  },
  {
   "cell_type": "code",
   "execution_count": 34,
   "id": "499904e3",
   "metadata": {
    "ExecuteTime": {
     "end_time": "2023-11-24T20:19:08.044190Z",
     "start_time": "2023-11-24T20:19:07.999042Z"
    }
   },
   "outputs": [],
   "source": [
    "df['vector'] = df[\"vector\"].apply(lambda x: \n",
    "                           np.fromstring(\n",
    "                               x.replace('\\n','')\n",
    "                                .replace('[','')\n",
    "                                .replace(']','')\n",
    "                                .replace('  ',' '), sep=' '))"
   ]
  },
  {
   "cell_type": "code",
   "execution_count": 35,
   "id": "497b8877",
   "metadata": {
    "ExecuteTime": {
     "end_time": "2023-11-24T20:19:08.310788Z",
     "start_time": "2023-11-24T20:19:08.289784Z"
    }
   },
   "outputs": [],
   "source": [
    "from sklearn.model_selection import train_test_split\n",
    "\n",
    "X = df[\"vector\"]\n",
    "X = np.concatenate(X, axis=0).reshape(-1,300)\n",
    "y = df[\"Clasificacion\"]\n",
    "\n",
    "X_train, X_test, y_train, y_test = train_test_split(X,y,train_size=.80, random_state = 101, stratify = y)"
   ]
  },
  {
   "cell_type": "code",
   "execution_count": 36,
   "id": "dc3f291b",
   "metadata": {
    "ExecuteTime": {
     "end_time": "2023-11-24T20:19:08.625376Z",
     "start_time": "2023-11-24T20:19:08.606961Z"
    }
   },
   "outputs": [],
   "source": [
    "from sklearn.preprocessing import MinMaxScaler\n",
    "\n",
    "scaler = MinMaxScaler()\n",
    "X_train = scaler.fit_transform(X_train)\n",
    "X_test = scaler.transform(X_test)"
   ]
  },
  {
   "cell_type": "code",
   "execution_count": 37,
   "id": "6fdeaeb9",
   "metadata": {
    "ExecuteTime": {
     "end_time": "2023-11-24T20:19:08.872614Z",
     "start_time": "2023-11-24T20:19:08.854512Z"
    }
   },
   "outputs": [],
   "source": [
    "from sklearn.metrics import classification_report, confusion_matrix"
   ]
  },
  {
   "cell_type": "code",
   "execution_count": 38,
   "id": "d5b2276a",
   "metadata": {
    "ExecuteTime": {
     "end_time": "2023-11-24T20:19:09.183138Z",
     "start_time": "2023-11-24T20:19:09.168537Z"
    }
   },
   "outputs": [],
   "source": [
    "from tensorflow import keras\n",
    "from tensorflow.keras import Sequential\n",
    "from tensorflow.keras.layers import Dense, Dropout\n",
    "from tensorflow.keras.optimizers import Adam"
   ]
  },
  {
   "cell_type": "code",
   "execution_count": 39,
   "id": "dc0cbaf2",
   "metadata": {
    "ExecuteTime": {
     "end_time": "2023-11-24T20:19:09.650476Z",
     "start_time": "2023-11-24T20:19:09.635865Z"
    }
   },
   "outputs": [],
   "source": [
    "from keras.src.callbacks import EarlyStopping\n",
    "early_stopping = EarlyStopping(monitor = 'val_loss', patience = 10, restore_best_weights = True)"
   ]
  },
  {
   "cell_type": "code",
   "execution_count": 40,
   "id": "784ef9ce",
   "metadata": {
    "ExecuteTime": {
     "end_time": "2023-11-24T20:19:10.431445Z",
     "start_time": "2023-11-24T20:19:10.416443Z"
    }
   },
   "outputs": [],
   "source": [
    "from tensorflow.keras.utils import to_categorical"
   ]
  },
  {
   "cell_type": "code",
   "execution_count": 41,
   "id": "bba7d6a7",
   "metadata": {
    "ExecuteTime": {
     "end_time": "2023-11-24T20:19:10.635664Z",
     "start_time": "2023-11-24T20:19:10.616677Z"
    }
   },
   "outputs": [],
   "source": [
    "y_train = to_categorical(y_train,6)\n",
    "y_test = to_categorical(y_test,6)"
   ]
  },
  {
   "cell_type": "code",
   "execution_count": 46,
   "id": "977cf83c",
   "metadata": {
    "ExecuteTime": {
     "end_time": "2023-11-24T20:26:14.329410Z",
     "start_time": "2023-11-24T20:26:14.282184Z"
    }
   },
   "outputs": [],
   "source": [
    "model = Sequential()\n",
    "model.add(Dense(units = 54, activation='relu', input_dim=300))\n",
    "model.add(Dropout(0.2))\n",
    "model.add(Dense(units = 64, activation=\"relu\"))\n",
    "model.add(Dropout(0.2))\n",
    "model.add(Dense(units = 6,   activation=\"softmax\"))\n",
    "\n",
    "model.compile(optimizer=Adam(learning_rate=0.001),\n",
    "              loss='categorical_crossentropy', metrics=['accuracy'])"
   ]
  },
  {
   "cell_type": "code",
   "execution_count": 49,
   "id": "b5ac9e4e",
   "metadata": {
    "ExecuteTime": {
     "end_time": "2023-11-24T20:26:31.705983Z",
     "start_time": "2023-11-24T20:26:30.266705Z"
    }
   },
   "outputs": [
    {
     "name": "stdout",
     "output_type": "stream",
     "text": [
      "Epoch 1/100\n",
      "37/37 [==============================] - 0s 2ms/step - loss: 1.1978 - accuracy: 0.5427 - val_loss: 1.3465 - val_accuracy: 0.4725\n",
      "Epoch 2/100\n",
      "37/37 [==============================] - 0s 2ms/step - loss: 1.1484 - accuracy: 0.5372 - val_loss: 1.3164 - val_accuracy: 0.4396\n",
      "Epoch 3/100\n",
      "37/37 [==============================] - 0s 2ms/step - loss: 1.1461 - accuracy: 0.5399 - val_loss: 1.3462 - val_accuracy: 0.4835\n",
      "Epoch 4/100\n",
      "37/37 [==============================] - 0s 2ms/step - loss: 1.1241 - accuracy: 0.5730 - val_loss: 1.3563 - val_accuracy: 0.4396\n",
      "Epoch 5/100\n",
      "37/37 [==============================] - 0s 2ms/step - loss: 1.1241 - accuracy: 0.5702 - val_loss: 1.2989 - val_accuracy: 0.4945\n",
      "Epoch 6/100\n",
      "37/37 [==============================] - 0s 2ms/step - loss: 1.1657 - accuracy: 0.5317 - val_loss: 1.2896 - val_accuracy: 0.4725\n",
      "Epoch 7/100\n",
      "37/37 [==============================] - 0s 2ms/step - loss: 1.1406 - accuracy: 0.5537 - val_loss: 1.3063 - val_accuracy: 0.4945\n",
      "Epoch 8/100\n",
      "37/37 [==============================] - 0s 2ms/step - loss: 1.1353 - accuracy: 0.5455 - val_loss: 1.2725 - val_accuracy: 0.5055\n",
      "Epoch 9/100\n",
      "37/37 [==============================] - 0s 2ms/step - loss: 1.1649 - accuracy: 0.5399 - val_loss: 1.3657 - val_accuracy: 0.4505\n",
      "Epoch 10/100\n",
      "37/37 [==============================] - 0s 2ms/step - loss: 1.1444 - accuracy: 0.5592 - val_loss: 1.2771 - val_accuracy: 0.4945\n",
      "Epoch 11/100\n",
      "37/37 [==============================] - 0s 2ms/step - loss: 1.0974 - accuracy: 0.5923 - val_loss: 1.3368 - val_accuracy: 0.4615\n",
      "Epoch 12/100\n",
      "37/37 [==============================] - 0s 2ms/step - loss: 1.1064 - accuracy: 0.5895 - val_loss: 1.3052 - val_accuracy: 0.4725\n",
      "Epoch 13/100\n",
      "37/37 [==============================] - 0s 2ms/step - loss: 1.1253 - accuracy: 0.5620 - val_loss: 1.2702 - val_accuracy: 0.4615\n",
      "Epoch 14/100\n",
      "37/37 [==============================] - 0s 2ms/step - loss: 1.0939 - accuracy: 0.5950 - val_loss: 1.4437 - val_accuracy: 0.4286\n",
      "Epoch 15/100\n",
      "37/37 [==============================] - 0s 1ms/step - loss: 1.0840 - accuracy: 0.6006 - val_loss: 1.3920 - val_accuracy: 0.4725\n",
      "Epoch 16/100\n",
      "37/37 [==============================] - 0s 2ms/step - loss: 1.1317 - accuracy: 0.5427 - val_loss: 1.3266 - val_accuracy: 0.4945\n",
      "Epoch 17/100\n",
      "37/37 [==============================] - 0s 1ms/step - loss: 1.0878 - accuracy: 0.5620 - val_loss: 1.3555 - val_accuracy: 0.5055\n",
      "Epoch 18/100\n",
      "37/37 [==============================] - 0s 2ms/step - loss: 1.1142 - accuracy: 0.5950 - val_loss: 1.3719 - val_accuracy: 0.4835\n",
      "Epoch 19/100\n",
      "37/37 [==============================] - 0s 1ms/step - loss: 1.1656 - accuracy: 0.5455 - val_loss: 1.3690 - val_accuracy: 0.4396\n",
      "Epoch 20/100\n",
      "37/37 [==============================] - 0s 1ms/step - loss: 1.0866 - accuracy: 0.5675 - val_loss: 1.2987 - val_accuracy: 0.4945\n",
      "Epoch 21/100\n",
      "37/37 [==============================] - 0s 1ms/step - loss: 1.0431 - accuracy: 0.5950 - val_loss: 1.3682 - val_accuracy: 0.4176\n",
      "Epoch 22/100\n",
      "37/37 [==============================] - 0s 1ms/step - loss: 1.0526 - accuracy: 0.5923 - val_loss: 1.2823 - val_accuracy: 0.4615\n",
      "Epoch 23/100\n",
      "37/37 [==============================] - 0s 1ms/step - loss: 1.0689 - accuracy: 0.5895 - val_loss: 1.3005 - val_accuracy: 0.5055\n"
     ]
    }
   ],
   "source": [
    "history = model.fit(X_train, y_train,\n",
    "                    batch_size=10, epochs=100,\n",
    "                    validation_data = (X_test,y_test),\n",
    "                    callbacks=(early_stopping))"
   ]
  },
  {
   "cell_type": "code",
   "execution_count": 50,
   "id": "71356f72",
   "metadata": {
    "ExecuteTime": {
     "end_time": "2023-11-24T20:26:31.722009Z",
     "start_time": "2023-11-24T20:26:31.707968Z"
    }
   },
   "outputs": [
    {
     "data": {
      "text/html": [
       "<div>\n",
       "<style scoped>\n",
       "    .dataframe tbody tr th:only-of-type {\n",
       "        vertical-align: middle;\n",
       "    }\n",
       "\n",
       "    .dataframe tbody tr th {\n",
       "        vertical-align: top;\n",
       "    }\n",
       "\n",
       "    .dataframe thead th {\n",
       "        text-align: right;\n",
       "    }\n",
       "</style>\n",
       "<table border=\"1\" class=\"dataframe\">\n",
       "  <thead>\n",
       "    <tr style=\"text-align: right;\">\n",
       "      <th></th>\n",
       "      <th>loss</th>\n",
       "      <th>accuracy</th>\n",
       "      <th>val_loss</th>\n",
       "      <th>val_accuracy</th>\n",
       "    </tr>\n",
       "  </thead>\n",
       "  <tbody>\n",
       "    <tr>\n",
       "      <th>0</th>\n",
       "      <td>1.197765</td>\n",
       "      <td>0.542700</td>\n",
       "      <td>1.346488</td>\n",
       "      <td>0.472527</td>\n",
       "    </tr>\n",
       "    <tr>\n",
       "      <th>1</th>\n",
       "      <td>1.148410</td>\n",
       "      <td>0.537190</td>\n",
       "      <td>1.316378</td>\n",
       "      <td>0.439560</td>\n",
       "    </tr>\n",
       "    <tr>\n",
       "      <th>2</th>\n",
       "      <td>1.146110</td>\n",
       "      <td>0.539945</td>\n",
       "      <td>1.346176</td>\n",
       "      <td>0.483516</td>\n",
       "    </tr>\n",
       "    <tr>\n",
       "      <th>3</th>\n",
       "      <td>1.124079</td>\n",
       "      <td>0.573003</td>\n",
       "      <td>1.356302</td>\n",
       "      <td>0.439560</td>\n",
       "    </tr>\n",
       "    <tr>\n",
       "      <th>4</th>\n",
       "      <td>1.124105</td>\n",
       "      <td>0.570248</td>\n",
       "      <td>1.298872</td>\n",
       "      <td>0.494505</td>\n",
       "    </tr>\n",
       "  </tbody>\n",
       "</table>\n",
       "</div>"
      ],
      "text/plain": [
       "       loss  accuracy  val_loss  val_accuracy\n",
       "0  1.197765  0.542700  1.346488      0.472527\n",
       "1  1.148410  0.537190  1.316378      0.439560\n",
       "2  1.146110  0.539945  1.346176      0.483516\n",
       "3  1.124079  0.573003  1.356302      0.439560\n",
       "4  1.124105  0.570248  1.298872      0.494505"
      ]
     },
     "execution_count": 50,
     "metadata": {},
     "output_type": "execute_result"
    }
   ],
   "source": [
    "metrics = pd.DataFrame(history.history)\n",
    "metrics.head()"
   ]
  },
  {
   "cell_type": "code",
   "execution_count": 52,
   "id": "4bbdeca9",
   "metadata": {
    "ExecuteTime": {
     "end_time": "2023-11-24T20:27:19.920184Z",
     "start_time": "2023-11-24T20:27:19.577519Z"
    }
   },
   "outputs": [
    {
     "data": {
      "text/plain": [
       "<Axes: >"
      ]
     },
     "execution_count": 52,
     "metadata": {},
     "output_type": "execute_result"
    },
    {
     "data": {
      "image/png": "[encoded data removed]",
      "text/plain": [
       "<Figure size 640x480 with 1 Axes>"
      ]
     },
     "metadata": {},
     "output_type": "display_data"
    }
   ],
   "source": [
    "import seaborn as sns\n",
    "sns.lineplot(data=metrics[['loss','val_loss']])"
   ]
  },
  {
   "cell_type": "code",
   "execution_count": 53,
   "id": "11683722",
   "metadata": {
    "ExecuteTime": {
     "end_time": "2023-11-24T20:27:31.920492Z",
     "start_time": "2023-11-24T20:27:31.763554Z"
    }
   },
   "outputs": [
    {
     "data": {
      "text/plain": [
       "<Axes: >"
      ]
     },
     "execution_count": 53,
     "metadata": {},
     "output_type": "execute_result"
    },
    {
     "data": {
      "image/png": "[encoded data removed]",
      "text/plain": [
       "<Figure size 640x480 with 1 Axes>"
      ]
     },
     "metadata": {},
     "output_type": "display_data"
    }
   ],
   "source": [
    "import seaborn as sns\n",
    "sns.lineplot(data=metrics[['accuracy','val_loss']])"
   ]
  },
  {
   "cell_type": "code",
   "execution_count": 54,
   "id": "7dfa611c",
   "metadata": {
    "ExecuteTime": {
     "end_time": "2023-11-24T20:27:38.917586Z",
     "start_time": "2023-11-24T20:27:38.757983Z"
    }
   },
   "outputs": [
    {
     "name": "stdout",
     "output_type": "stream",
     "text": [
      "3/3 [==============================] - 0s 1ms/step\n"
     ]
    },
    {
     "data": {
      "text/plain": [
       "array([[1.44990891e-01, 1.10148728e-01, 1.59964383e-01, 1.89089105e-01,\n",
       "        1.76268727e-01, 2.19538212e-01],\n",
       "       [1.36832476e-01, 6.77843466e-02, 2.19143271e-01, 4.40472752e-01,\n",
       "        9.53915492e-02, 4.03756090e-02],\n",
       "       [4.52228300e-02, 1.07932203e-01, 6.05894744e-01, 1.26172584e-02,\n",
       "        1.72105841e-02, 2.11122349e-01],\n",
       "       [6.52670801e-01, 7.55347535e-02, 6.82979524e-02, 1.13140391e-02,\n",
       "        2.78858468e-02, 1.64296567e-01],\n",
       "       [1.79828063e-01, 1.89583465e-01, 7.36578181e-02, 3.94997180e-01,\n",
       "        1.35206446e-01, 2.67269742e-02],\n",
       "       [4.61614653e-02, 9.48648155e-02, 4.59028751e-01, 3.23531800e-03,\n",
       "        3.92083265e-03, 3.92788798e-01],\n",
       "       [3.35963964e-01, 3.74477774e-01, 9.38669667e-02, 8.99668708e-02,\n",
       "        7.16332868e-02, 3.40910368e-02],\n",
       "       [3.90638635e-02, 4.09233533e-02, 4.58139777e-01, 1.02397986e-03,\n",
       "        2.26854044e-03, 4.58580405e-01],\n",
       "       [2.45878667e-01, 1.10306688e-01, 3.66322547e-02, 2.40793765e-01,\n",
       "        3.53822798e-01, 1.25658503e-02],\n",
       "       [6.67356029e-02, 1.06535427e-01, 5.47896661e-02, 1.54138252e-01,\n",
       "        6.06110871e-01, 1.16901807e-02],\n",
       "       [2.29022369e-01, 9.06965286e-02, 5.08288033e-02, 3.51290554e-01,\n",
       "        2.68569201e-01, 9.59252659e-03],\n",
       "       [5.53628989e-02, 5.70741594e-02, 2.56230116e-01, 5.00672534e-02,\n",
       "        6.44935817e-02, 5.16772032e-01],\n",
       "       [7.92625099e-02, 1.21794596e-01, 5.27221262e-01, 3.11660953e-02,\n",
       "        2.22904980e-02, 2.18265072e-01],\n",
       "       [1.23972362e-02, 1.11067407e-01, 7.49805093e-01, 3.28286104e-02,\n",
       "        4.37549725e-02, 5.01466468e-02],\n",
       "       [1.92084894e-01, 9.69138667e-02, 4.61809672e-02, 3.20591450e-01,\n",
       "        3.33674014e-01, 1.05548557e-02],\n",
       "       [9.51578319e-01, 2.14783382e-02, 1.98205300e-02, 8.69879324e-04,\n",
       "        4.92309779e-03, 1.32993713e-03],\n",
       "       [3.78768772e-01, 6.98854551e-02, 2.39437558e-02, 2.13589087e-01,\n",
       "        3.09092551e-01, 4.72035585e-03],\n",
       "       [2.78254636e-02, 9.26482156e-02, 5.79106748e-01, 1.68408174e-02,\n",
       "        2.72240229e-02, 2.56354719e-01],\n",
       "       [3.28052533e-03, 5.20899706e-03, 6.11052334e-01, 5.31017031e-05,\n",
       "        1.63195160e-04, 3.80241901e-01],\n",
       "       [1.79246157e-01, 1.91008329e-01, 6.55607805e-02, 2.11601928e-01,\n",
       "        3.27552974e-01, 2.50298101e-02],\n",
       "       [4.26330417e-01, 2.32998937e-01, 7.41554722e-02, 8.99197087e-02,\n",
       "        1.66238725e-01, 1.03567047e-02],\n",
       "       [1.19520470e-01, 1.15630649e-01, 5.92118539e-02, 1.89359337e-01,\n",
       "        4.97955441e-01, 1.83222257e-02],\n",
       "       [2.69503705e-02, 8.29701066e-01, 1.29200658e-02, 7.81622306e-02,\n",
       "        5.00250421e-02, 2.24119611e-03],\n",
       "       [9.14713740e-02, 2.10573763e-01, 5.07089436e-01, 7.83921853e-02,\n",
       "        4.44875658e-02, 6.79856464e-02],\n",
       "       [3.39690536e-01, 1.24159217e-01, 6.32962957e-02, 3.16638738e-01,\n",
       "        1.30925581e-01, 2.52896566e-02],\n",
       "       [1.62011608e-01, 1.45708382e-01, 4.04219627e-02, 1.89158365e-01,\n",
       "        4.48509514e-01, 1.41901057e-02],\n",
       "       [3.51231098e-02, 6.45503700e-02, 5.81802666e-01, 5.22324890e-02,\n",
       "        4.93024513e-02, 2.16988876e-01],\n",
       "       [3.29974860e-01, 1.70082614e-01, 3.99445742e-02, 1.73227236e-01,\n",
       "        2.70405978e-01, 1.63647458e-02],\n",
       "       [7.99855888e-02, 2.08924875e-01, 1.82705089e-01, 1.68477565e-01,\n",
       "        2.91403830e-01, 6.85029998e-02],\n",
       "       [1.74917787e-01, 1.17251925e-01, 1.04246028e-01, 1.52903631e-01,\n",
       "        3.16634476e-01, 1.34046182e-01],\n",
       "       [2.69512296e-01, 1.16700001e-01, 2.79365573e-02, 4.55889463e-01,\n",
       "        1.26395494e-01, 3.56616871e-03],\n",
       "       [2.05750972e-01, 1.24167077e-01, 7.22253025e-02, 2.50542969e-01,\n",
       "        3.15459937e-01, 3.18536386e-02],\n",
       "       [1.50752857e-01, 1.55097276e-01, 6.79369047e-02, 2.89642900e-01,\n",
       "        3.24161619e-01, 1.24083748e-02],\n",
       "       [1.85381651e-01, 5.34201384e-01, 4.80379090e-02, 1.31649762e-01,\n",
       "        7.61071816e-02, 2.46221013e-02],\n",
       "       [7.60356307e-01, 8.03138465e-02, 4.55390587e-02, 2.83500385e-02,\n",
       "        6.76363558e-02, 1.78044159e-02],\n",
       "       [1.57543365e-02, 3.32304507e-01, 2.46558428e-01, 4.24313266e-03,\n",
       "        9.91535001e-03, 3.91224265e-01],\n",
       "       [3.17463994e-01, 1.12639286e-01, 7.10827336e-02, 1.24647014e-01,\n",
       "        2.98535287e-01, 7.56316483e-02],\n",
       "       [3.62688959e-01, 2.06232920e-01, 9.75442603e-02, 8.75846222e-02,\n",
       "        1.51379138e-01, 9.45701897e-02],\n",
       "       [2.60417789e-01, 9.81716514e-02, 3.45847122e-02, 1.99950114e-01,\n",
       "        3.99410516e-01, 7.46526569e-03],\n",
       "       [6.87545836e-02, 2.77515575e-02, 4.88230661e-02, 7.77423739e-01,\n",
       "        6.73390031e-02, 9.90801677e-03],\n",
       "       [2.63067633e-01, 2.06530303e-01, 6.31958842e-02, 1.49114773e-01,\n",
       "        3.01105827e-01, 1.69856250e-02],\n",
       "       [9.26193967e-02, 3.91924530e-02, 2.86905468e-02, 6.64977551e-01,\n",
       "        1.73015043e-01, 1.50493660e-03],\n",
       "       [8.48105773e-02, 4.43557769e-01, 1.49494454e-01, 1.55279964e-01,\n",
       "        6.33832142e-02, 1.03473976e-01],\n",
       "       [5.09064674e-01, 1.09882414e-01, 3.88648994e-02, 1.58240706e-01,\n",
       "        1.69216633e-01, 1.47306742e-02],\n",
       "       [2.39646003e-01, 2.58304119e-01, 6.09081089e-02, 1.38710797e-01,\n",
       "        2.55501598e-01, 4.69293930e-02],\n",
       "       [1.29091963e-01, 1.23738982e-01, 5.87235838e-02, 3.72143239e-01,\n",
       "        3.08630437e-01, 7.67176645e-03],\n",
       "       [5.72638333e-01, 2.02619359e-01, 5.20560779e-02, 6.03390336e-02,\n",
       "        5.45245372e-02, 5.78226447e-02],\n",
       "       [1.37702942e-01, 3.20637494e-01, 3.29262614e-02, 2.30893344e-01,\n",
       "        2.75127918e-01, 2.71204510e-03],\n",
       "       [6.98335916e-02, 4.81957257e-01, 2.62029290e-01, 3.25426348e-02,\n",
       "        1.15901893e-02, 1.42046973e-01],\n",
       "       [1.09473892e-01, 7.83474296e-02, 3.32036726e-02, 4.97012913e-01,\n",
       "        2.79988885e-01, 1.97321246e-03],\n",
       "       [1.40847683e-01, 2.73712903e-01, 2.24555016e-01, 2.99050100e-02,\n",
       "        2.10820120e-02, 3.09897423e-01],\n",
       "       [1.99183792e-01, 8.27357024e-02, 5.28415591e-02, 4.03775543e-01,\n",
       "        2.48237178e-01, 1.32263200e-02],\n",
       "       [8.45036879e-02, 2.51985956e-02, 1.60396025e-02, 3.56414430e-02,\n",
       "        8.29889774e-01, 8.72687250e-03],\n",
       "       [3.88461277e-02, 4.79247153e-01, 2.66436376e-02, 2.52912909e-01,\n",
       "        1.99910387e-01, 2.43968656e-03],\n",
       "       [1.48953140e-01, 1.20585971e-01, 6.55747652e-02, 1.48999617e-01,\n",
       "        4.79549736e-01, 3.63367312e-02],\n",
       "       [2.75651105e-02, 4.25577722e-02, 7.00062573e-01, 1.21604837e-03,\n",
       "        3.36965942e-03, 2.25228846e-01],\n",
       "       [1.12376288e-01, 6.19386770e-02, 1.57468960e-01, 2.05918849e-01,\n",
       "        2.19303191e-01, 2.42994010e-01],\n",
       "       [1.09140212e-02, 2.43143104e-02, 6.23663247e-01, 6.72091322e-04,\n",
       "        1.57769327e-03, 3.38858634e-01],\n",
       "       [1.83078982e-02, 5.33698462e-02, 6.36126697e-01, 2.12857518e-02,\n",
       "        1.22433286e-02, 2.58666545e-01],\n",
       "       [1.65989414e-01, 1.29433945e-01, 1.43222600e-01, 9.79739130e-02,\n",
       "        3.50740820e-01, 1.12639226e-01],\n",
       "       [2.33942526e-03, 4.85565886e-03, 7.82734811e-01, 4.96360663e-05,\n",
       "        4.14237671e-04, 2.09606230e-01],\n",
       "       [4.32564914e-02, 5.56649454e-02, 2.92699169e-02, 2.04027146e-01,\n",
       "        6.64144456e-01, 3.63709452e-03],\n",
       "       [2.55204618e-01, 1.39579982e-01, 3.66534263e-01, 6.86084777e-02,\n",
       "        9.88614559e-02, 7.12111071e-02],\n",
       "       [1.72259971e-01, 6.49230957e-01, 5.08637615e-02, 5.83109483e-02,\n",
       "        4.33815904e-02, 2.59527601e-02],\n",
       "       [6.54968321e-01, 1.07481800e-01, 6.82516843e-02, 7.24698305e-02,\n",
       "        8.71723816e-02, 9.65606235e-03],\n",
       "       [1.34104714e-01, 9.40515697e-02, 1.38023183e-01, 2.90184259e-01,\n",
       "        3.05972129e-01, 3.76640707e-02],\n",
       "       [3.98769170e-01, 1.46749392e-01, 1.85723171e-01, 2.02964786e-02,\n",
       "        3.65915187e-02, 2.11870223e-01],\n",
       "       [1.13138869e-01, 1.64080203e-01, 1.38938054e-01, 1.97483152e-01,\n",
       "        3.25105160e-01, 6.12545349e-02],\n",
       "       [3.71628404e-01, 1.38671413e-01, 8.40659514e-02, 2.33649850e-01,\n",
       "        1.56011552e-01, 1.59728304e-02],\n",
       "       [7.45291889e-01, 1.97800621e-01, 1.75083429e-02, 1.65850576e-02,\n",
       "        1.80065893e-02, 4.80744289e-03],\n",
       "       [4.53450710e-01, 7.36736953e-02, 2.49951016e-02, 1.47353590e-01,\n",
       "        2.96745926e-01, 3.78093310e-03],\n",
       "       [2.80474514e-01, 1.60980105e-01, 3.44209462e-01, 4.40248055e-03,\n",
       "        7.63427373e-03, 2.02299148e-01],\n",
       "       [2.65500546e-02, 1.09610900e-01, 3.58139604e-01, 1.42970249e-01,\n",
       "        1.94787234e-02, 3.43250453e-01],\n",
       "       [4.10342589e-02, 3.03642750e-02, 2.45046213e-01, 6.18071016e-03,\n",
       "        1.30683389e-02, 6.64306164e-01],\n",
       "       [1.37085915e-01, 2.29302347e-01, 1.02460258e-01, 2.92989939e-01,\n",
       "        1.99196517e-01, 3.89649644e-02],\n",
       "       [8.82251441e-01, 3.99246439e-02, 2.64930427e-02, 1.85535811e-02,\n",
       "        2.55487431e-02, 7.22850906e-03],\n",
       "       [9.46580321e-02, 3.94494921e-01, 1.04872577e-01, 2.08126307e-01,\n",
       "        1.59917399e-01, 3.79307345e-02],\n",
       "       [3.30186859e-02, 6.33420885e-01, 7.15618506e-02, 1.75176546e-01,\n",
       "        7.69972876e-02, 9.82475653e-03],\n",
       "       [1.59396976e-02, 5.32192830e-03, 1.15298834e-02, 6.28813386e-01,\n",
       "        3.38163555e-01, 2.31446335e-04],\n",
       "       [1.90831330e-02, 5.80519550e-02, 4.62981969e-01, 1.45245576e-02,\n",
       "        1.11257117e-02, 4.34232682e-01],\n",
       "       [1.45011008e-01, 5.72001711e-02, 5.39857335e-02, 4.19815511e-01,\n",
       "        3.16472411e-01, 7.51519622e-03],\n",
       "       [4.50298861e-02, 1.84369192e-01, 1.84568152e-01, 2.03344569e-01,\n",
       "        3.60572666e-01, 2.21155211e-02],\n",
       "       [1.15592174e-01, 1.44790143e-01, 2.77260095e-01, 2.17159778e-01,\n",
       "        2.14878649e-01, 3.03191580e-02],\n",
       "       [1.07199691e-01, 7.08571374e-01, 6.97530583e-02, 4.21199277e-02,\n",
       "        1.89332776e-02, 5.34226000e-02],\n",
       "       [1.51924118e-01, 7.14239106e-02, 1.00246161e-01, 1.64776891e-01,\n",
       "        4.08896059e-01, 1.02732867e-01],\n",
       "       [6.51712194e-02, 4.58702445e-01, 6.11577593e-02, 2.53960252e-01,\n",
       "        1.50842726e-01, 1.01655936e-02],\n",
       "       [1.89002186e-01, 6.30068257e-02, 3.86628099e-02, 5.81193745e-01,\n",
       "        1.20504357e-01, 7.63007253e-03],\n",
       "       [1.70332000e-01, 8.20877776e-02, 2.74171028e-02, 3.62332106e-01,\n",
       "        3.54049593e-01, 3.78142460e-03],\n",
       "       [1.05366722e-01, 3.27048190e-02, 1.80527437e-02, 3.35998952e-01,\n",
       "        5.07020593e-01, 8.56193888e-04],\n",
       "       [2.58731216e-01, 1.88602820e-01, 8.79549459e-02, 2.55478412e-01,\n",
       "        1.30711913e-01, 7.85206705e-02],\n",
       "       [4.51243483e-02, 1.35666311e-01, 5.70926845e-01, 2.07739715e-02,\n",
       "        2.92034335e-02, 1.98305011e-01]], dtype=float32)"
      ]
     },
     "execution_count": 54,
     "metadata": {},
     "output_type": "execute_result"
    }
   ],
   "source": [
    "y_pred = model.predict(X_test)\n",
    "y_pred"
   ]
  },
  {
   "cell_type": "code",
   "execution_count": 56,
   "id": "7cab1774",
   "metadata": {
    "ExecuteTime": {
     "end_time": "2023-11-24T20:27:51.584626Z",
     "start_time": "2023-11-24T20:27:51.566692Z"
    },
    "scrolled": true
   },
   "outputs": [
    {
     "data": {
      "text/plain": [
       "array([[0, 0, 0, 0, 0, 0],\n",
       "       [0, 0, 0, 0, 0, 0],\n",
       "       [0, 0, 1, 0, 0, 0],\n",
       "       [1, 0, 0, 0, 0, 0],\n",
       "       [0, 0, 0, 0, 0, 0],\n",
       "       [0, 0, 0, 0, 0, 0],\n",
       "       [0, 0, 0, 0, 0, 0],\n",
       "       [0, 0, 0, 0, 0, 0],\n",
       "       [0, 0, 0, 0, 0, 0],\n",
       "       [0, 0, 0, 0, 1, 0],\n",
       "       [0, 0, 0, 0, 0, 0],\n",
       "       [0, 0, 0, 0, 0, 1],\n",
       "       [0, 0, 1, 0, 0, 0],\n",
       "       [0, 0, 1, 0, 0, 0],\n",
       "       [0, 0, 0, 0, 0, 0],\n",
       "       [1, 0, 0, 0, 0, 0],\n",
       "       [0, 0, 0, 0, 0, 0],\n",
       "       [0, 0, 1, 0, 0, 0],\n",
       "       [0, 0, 1, 0, 0, 0],\n",
       "       [0, 0, 0, 0, 0, 0],\n",
       "       [0, 0, 0, 0, 0, 0],\n",
       "       [0, 0, 0, 0, 0, 0],\n",
       "       [0, 1, 0, 0, 0, 0],\n",
       "       [0, 0, 1, 0, 0, 0],\n",
       "       [0, 0, 0, 0, 0, 0],\n",
       "       [0, 0, 0, 0, 0, 0],\n",
       "       [0, 0, 1, 0, 0, 0],\n",
       "       [0, 0, 0, 0, 0, 0],\n",
       "       [0, 0, 0, 0, 0, 0],\n",
       "       [0, 0, 0, 0, 0, 0],\n",
       "       [0, 0, 0, 0, 0, 0],\n",
       "       [0, 0, 0, 0, 0, 0],\n",
       "       [0, 0, 0, 0, 0, 0],\n",
       "       [0, 1, 0, 0, 0, 0],\n",
       "       [1, 0, 0, 0, 0, 0],\n",
       "       [0, 0, 0, 0, 0, 0],\n",
       "       [0, 0, 0, 0, 0, 0],\n",
       "       [0, 0, 0, 0, 0, 0],\n",
       "       [0, 0, 0, 0, 0, 0],\n",
       "       [0, 0, 0, 1, 0, 0],\n",
       "       [0, 0, 0, 0, 0, 0],\n",
       "       [0, 0, 0, 1, 0, 0],\n",
       "       [0, 0, 0, 0, 0, 0],\n",
       "       [1, 0, 0, 0, 0, 0],\n",
       "       [0, 0, 0, 0, 0, 0],\n",
       "       [0, 0, 0, 0, 0, 0],\n",
       "       [1, 0, 0, 0, 0, 0],\n",
       "       [0, 0, 0, 0, 0, 0],\n",
       "       [0, 0, 0, 0, 0, 0],\n",
       "       [0, 0, 0, 0, 0, 0],\n",
       "       [0, 0, 0, 0, 0, 0],\n",
       "       [0, 0, 0, 0, 0, 0],\n",
       "       [0, 0, 0, 0, 1, 0],\n",
       "       [0, 0, 0, 0, 0, 0],\n",
       "       [0, 0, 0, 0, 0, 0],\n",
       "       [0, 0, 1, 0, 0, 0],\n",
       "       [0, 0, 0, 0, 0, 0],\n",
       "       [0, 0, 1, 0, 0, 0],\n",
       "       [0, 0, 1, 0, 0, 0],\n",
       "       [0, 0, 0, 0, 0, 0],\n",
       "       [0, 0, 1, 0, 0, 0],\n",
       "       [0, 0, 0, 0, 1, 0],\n",
       "       [0, 0, 0, 0, 0, 0],\n",
       "       [0, 1, 0, 0, 0, 0],\n",
       "       [1, 0, 0, 0, 0, 0],\n",
       "       [0, 0, 0, 0, 0, 0],\n",
       "       [0, 0, 0, 0, 0, 0],\n",
       "       [0, 0, 0, 0, 0, 0],\n",
       "       [0, 0, 0, 0, 0, 0],\n",
       "       [1, 0, 0, 0, 0, 0],\n",
       "       [0, 0, 0, 0, 0, 0],\n",
       "       [0, 0, 0, 0, 0, 0],\n",
       "       [0, 0, 0, 0, 0, 0],\n",
       "       [0, 0, 0, 0, 0, 1],\n",
       "       [0, 0, 0, 0, 0, 0],\n",
       "       [1, 0, 0, 0, 0, 0],\n",
       "       [0, 0, 0, 0, 0, 0],\n",
       "       [0, 1, 0, 0, 0, 0],\n",
       "       [0, 0, 0, 1, 0, 0],\n",
       "       [0, 0, 0, 0, 0, 0],\n",
       "       [0, 0, 0, 0, 0, 0],\n",
       "       [0, 0, 0, 0, 0, 0],\n",
       "       [0, 0, 0, 0, 0, 0],\n",
       "       [0, 1, 0, 0, 0, 0],\n",
       "       [0, 0, 0, 0, 0, 0],\n",
       "       [0, 0, 0, 0, 0, 0],\n",
       "       [0, 0, 0, 1, 0, 0],\n",
       "       [0, 0, 0, 0, 0, 0],\n",
       "       [0, 0, 0, 0, 1, 0],\n",
       "       [0, 0, 0, 0, 0, 0],\n",
       "       [0, 0, 1, 0, 0, 0]])"
      ]
     },
     "execution_count": 56,
     "metadata": {},
     "output_type": "execute_result"
    }
   ],
   "source": [
    "umbral = 0.5\n",
    "y_pred = np.where(y_pred > umbral, 1,0)\n",
    "y_pred"
   ]
  },
  {
   "cell_type": "code",
   "execution_count": 57,
   "id": "6dbad7d1",
   "metadata": {
    "ExecuteTime": {
     "end_time": "2023-11-24T20:27:59.135196Z",
     "start_time": "2023-11-24T20:27:59.089923Z"
    }
   },
   "outputs": [
    {
     "name": "stdout",
     "output_type": "stream",
     "text": [
      "              precision    recall  f1-score   support\n",
      "\n",
      "           0       0.88      0.35      0.50        20\n",
      "           1       1.00      0.31      0.48        16\n",
      "           2       0.58      0.44      0.50        16\n",
      "           3       0.25      0.07      0.11        15\n",
      "           4       0.75      0.20      0.32        15\n",
      "           5       0.50      0.11      0.18         9\n",
      "\n",
      "   micro avg       0.69      0.26      0.38        91\n",
      "   macro avg       0.66      0.25      0.35        91\n",
      "weighted avg       0.68      0.26      0.37        91\n",
      " samples avg       0.26      0.26      0.26        91\n",
      "\n"
     ]
    },
    {
     "name": "stderr",
     "output_type": "stream",
     "text": [
      "C:\\ProgramData\\anaconda3\\lib\\site-packages\\sklearn\\metrics\\_classification.py:1469: UndefinedMetricWarning: Precision and F-score are ill-defined and being set to 0.0 in samples with no predicted labels. Use `zero_division` parameter to control this behavior.\n",
      "  _warn_prf(average, modifier, msg_start, len(result))\n"
     ]
    }
   ],
   "source": [
    "print(classification_report(y_test,y_pred))"
   ]
  },
  {
   "cell_type": "code",
   "execution_count": null,
   "id": "0bd28f5f",
   "metadata": {},
   "outputs": [],
   "source": []
  }
 ],
 "metadata": {
  "kernelspec": {
   "display_name": "Python 3 (ipykernel)",
   "language": "python",
   "name": "python3"
  },
  "language_info": {
   "codemirror_mode": {
    "name": "ipython",
    "version": 3
   },
   "file_extension": ".py",
   "mimetype": "text/x-python",
   "name": "python",
   "nbconvert_exporter": "python",
   "pygments_lexer": "ipython3",
   "version": "3.10.12"
  }
 },
 "nbformat": 4,
 "nbformat_minor": 5
}
