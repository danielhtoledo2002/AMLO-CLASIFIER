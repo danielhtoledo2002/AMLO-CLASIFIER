{
 "cells": [
  {
   "cell_type": "code",
   "execution_count": 1,
   "metadata": {},
   "outputs": [
    {
     "data": {
      "text/plain": [
       "<Axes: xlabel='Clasificacion'>"
      ]
     },
     "execution_count": 1,
     "metadata": {},
     "output_type": "execute_result"
    },
    {
     "data": {
      "image/png": "[encoded data removed]",
      "text/plain": [
       "<Figure size 640x480 with 1 Axes>"
      ]
     },
     "metadata": {},
     "output_type": "display_data"
    }
   ],
   "source": [
    "# file to experiment\n",
    "import seaborn as sns\n",
    "import matplotlib.pyplot as plt\n",
    "import re\n",
    "import nltk\n",
    "import numpy as np\n",
    "import pandas as pd\n",
    "import plotly.express as px\n",
    "import spacy\n",
    "from nltk.corpus import stopwords\n",
    "from spacy.lang.es.examples import sentences\n",
    "\n",
    "nlp = spacy.load(\"es_core_news_sm\")\n",
    "df = pd.read_csv(\"amlo.csv\")\n",
    "spanish_stopwords = stopwords.words(\"spanish\")\n",
    "\n",
    "# code to delete information that doesn't have enought words\n",
    "# df = df[df[\"Texto\"].str.split().str.len() >= 15 ]\n",
    "# df.to_csv(\"amlo.csv\", index=False)\n",
    "\n",
    "# experiments\n",
    "def text_processing(text):\n",
    "    text = text.lower()\n",
    "    text = re.sub(r\"(@[A-Za-z0-9_]+)|([^0-9A-Za-zÁáÉéÍíÓóÚúÜüÑñ \\t])|(\\w+:\\/\\/\\S+)\", \"\", text)\n",
    "    text = nlp(text)\n",
    "    lema = []\n",
    "    for token in text:\n",
    "        lema.append(token.lemma_)\n",
    "    text = lema\n",
    "    text = ' '.join(text)\n",
    "    text = nlp(text).vector\n",
    "    return text\n",
    "def aaa(text):\n",
    "    text = text.lower()\n",
    "    text = re.sub(r\"(@[A-Za-z0-9_]+)|([^0-9A-Za-zÁáÉéÍíÓóÚúÜüÑñ \\t])|(\\w+:\\/\\/\\S+)\", \"\", text)\n",
    "    text = nlp(text)\n",
    "    lema = []\n",
    "    for token in text:\n",
    "        lema.append(token.lemma_)\n",
    "    text = lema\n",
    "    text = ' '.join(text)\n",
    "\n",
    "    return text\n",
    "\n",
    "\n",
    "df[\"vector\"] = df[\"Texto\"].apply(text_processing)\n",
    "df[\"text_proc\"] = df[\"Texto\"].apply(aaa)\n",
    "\n",
    "\n",
    "df['Clasificacion'].value_counts().plot(kind='bar')\n",
    "\n"
   ]
  },
  {
   "cell_type": "code",
   "execution_count": 2,
   "metadata": {},
   "outputs": [
    {
     "data": {
      "text/html": [
       "<div>\n",
       "<style scoped>\n",
       "    .dataframe tbody tr th:only-of-type {\n",
       "        vertical-align: middle;\n",
       "    }\n",
       "\n",
       "    .dataframe tbody tr th {\n",
       "        vertical-align: top;\n",
       "    }\n",
       "\n",
       "    .dataframe thead th {\n",
       "        text-align: right;\n",
       "    }\n",
       "</style>\n",
       "<table border=\"1\" class=\"dataframe\">\n",
       "  <thead>\n",
       "    <tr style=\"text-align: right;\">\n",
       "      <th></th>\n",
       "      <th>Texto</th>\n",
       "      <th>Clasificacion</th>\n",
       "      <th>vector</th>\n",
       "      <th>text_proc</th>\n",
       "      <th>cla_num</th>\n",
       "    </tr>\n",
       "  </thead>\n",
       "  <tbody>\n",
       "    <tr>\n",
       "      <th>0</th>\n",
       "      <td>También vamos a informar este primer día hábil...</td>\n",
       "      <td>apoyo</td>\n",
       "      <td>[0.79579973, 0.42409912, 0.19724745, -0.840587...</td>\n",
       "      <td>también ir a informar este primero día hábil d...</td>\n",
       "      <td>4</td>\n",
       "    </tr>\n",
       "    <tr>\n",
       "      <th>1</th>\n",
       "      <td>Y ahora se va a informar porque se está optand...</td>\n",
       "      <td>apoyo</td>\n",
       "      <td>[0.6353484, 0.49206573, 0.27349722, -0.8813032...</td>\n",
       "      <td>y ahora él ir a informar porque él estar optar...</td>\n",
       "      <td>4</td>\n",
       "    </tr>\n",
       "    <tr>\n",
       "      <th>2</th>\n",
       "      <td>En esta etapa se combinan los bancos particula...</td>\n",
       "      <td>apoyo</td>\n",
       "      <td>[0.3584754, 0.4897973, 0.14290081, -1.0719811,...</td>\n",
       "      <td>en este etapa él combinar el banco particular ...</td>\n",
       "      <td>4</td>\n",
       "    </tr>\n",
       "    <tr>\n",
       "      <th>3</th>\n",
       "      <td>También Ariadna Montiel, que es la secretaria ...</td>\n",
       "      <td>apoyo</td>\n",
       "      <td>[0.5383173, 0.47535262, 0.24838983, -0.7503995...</td>\n",
       "      <td>también ariadna montiel que ser el secretaria ...</td>\n",
       "      <td>4</td>\n",
       "    </tr>\n",
       "    <tr>\n",
       "      <th>4</th>\n",
       "      <td>Pero tenerlas terminadas no significa tenerlas...</td>\n",
       "      <td>apoyo</td>\n",
       "      <td>[0.33861512, 0.8603513, 0.22871493, -0.8091768...</td>\n",
       "      <td>pero tenerla terminado no significar tenerlos ...</td>\n",
       "      <td>4</td>\n",
       "    </tr>\n",
       "    <tr>\n",
       "      <th>...</th>\n",
       "      <td>...</td>\n",
       "      <td>...</td>\n",
       "      <td>...</td>\n",
       "      <td>...</td>\n",
       "      <td>...</td>\n",
       "    </tr>\n",
       "    <tr>\n",
       "      <th>449</th>\n",
       "      <td>Eso es lo que le puedo decir, con todo respeto...</td>\n",
       "      <td>exterior</td>\n",
       "      <td>[0.08910938, 0.42923826, 0.11195223, -0.818825...</td>\n",
       "      <td>ese ser él que él poder decir con todo respeto...</td>\n",
       "      <td>0</td>\n",
       "    </tr>\n",
       "    <tr>\n",
       "      <th>450</th>\n",
       "      <td>Se va a llegar a concretar porque es que los ...</td>\n",
       "      <td>exterior</td>\n",
       "      <td>[0.62809396, 0.23875064, 0.13055657, -1.398253...</td>\n",
       "      <td>él ir a llegar a concretar porque ser que el...</td>\n",
       "      <td>0</td>\n",
       "    </tr>\n",
       "    <tr>\n",
       "      <th>451</th>\n",
       "      <td>Entonces, tenemos que hablar mucho con nuestro...</td>\n",
       "      <td>seguridad</td>\n",
       "      <td>[0.5037492, 0.47401336, 0.49750805, -0.8337091...</td>\n",
       "      <td>entonces tener que hablar mucho con nuestro pa...</td>\n",
       "      <td>5</td>\n",
       "    </tr>\n",
       "    <tr>\n",
       "      <th>452</th>\n",
       "      <td>Es que ya lo están haciendo. Y a lo mejor el…...</td>\n",
       "      <td>exterior</td>\n",
       "      <td>[0.6371676, 0.5459179, 0.19836979, -0.9584494,...</td>\n",
       "      <td>ser que ya él estar hacer y a él mejor el bu...</td>\n",
       "      <td>0</td>\n",
       "    </tr>\n",
       "    <tr>\n",
       "      <th>453</th>\n",
       "      <td>¿Y qué? ¿No importa el pueblo? ¿No un bloqueo ...</td>\n",
       "      <td>seguridad</td>\n",
       "      <td>[0.7102826, 0.8576276, 0.16033341, -0.7847715,...</td>\n",
       "      <td>y qué no importar el pueblo no uno bloqueo él ...</td>\n",
       "      <td>5</td>\n",
       "    </tr>\n",
       "  </tbody>\n",
       "</table>\n",
       "<p>454 rows × 5 columns</p>\n",
       "</div>"
      ],
      "text/plain": [
       "                                                 Texto Clasificacion  \\\n",
       "0    También vamos a informar este primer día hábil...         apoyo   \n",
       "1    Y ahora se va a informar porque se está optand...         apoyo   \n",
       "2    En esta etapa se combinan los bancos particula...         apoyo   \n",
       "3    También Ariadna Montiel, que es la secretaria ...         apoyo   \n",
       "4    Pero tenerlas terminadas no significa tenerlas...         apoyo   \n",
       "..                                                 ...           ...   \n",
       "449  Eso es lo que le puedo decir, con todo respeto...      exterior   \n",
       "450   Se va a llegar a concretar porque es que los ...      exterior   \n",
       "451  Entonces, tenemos que hablar mucho con nuestro...     seguridad   \n",
       "452   Es que ya lo están haciendo. Y a lo mejor el…...      exterior   \n",
       "453  ¿Y qué? ¿No importa el pueblo? ¿No un bloqueo ...     seguridad   \n",
       "\n",
       "                                                vector  \\\n",
       "0    [0.79579973, 0.42409912, 0.19724745, -0.840587...   \n",
       "1    [0.6353484, 0.49206573, 0.27349722, -0.8813032...   \n",
       "2    [0.3584754, 0.4897973, 0.14290081, -1.0719811,...   \n",
       "3    [0.5383173, 0.47535262, 0.24838983, -0.7503995...   \n",
       "4    [0.33861512, 0.8603513, 0.22871493, -0.8091768...   \n",
       "..                                                 ...   \n",
       "449  [0.08910938, 0.42923826, 0.11195223, -0.818825...   \n",
       "450  [0.62809396, 0.23875064, 0.13055657, -1.398253...   \n",
       "451  [0.5037492, 0.47401336, 0.49750805, -0.8337091...   \n",
       "452  [0.6371676, 0.5459179, 0.19836979, -0.9584494,...   \n",
       "453  [0.7102826, 0.8576276, 0.16033341, -0.7847715,...   \n",
       "\n",
       "                                             text_proc  cla_num  \n",
       "0    también ir a informar este primero día hábil d...        4  \n",
       "1    y ahora él ir a informar porque él estar optar...        4  \n",
       "2    en este etapa él combinar el banco particular ...        4  \n",
       "3    también ariadna montiel que ser el secretaria ...        4  \n",
       "4    pero tenerla terminado no significar tenerlos ...        4  \n",
       "..                                                 ...      ...  \n",
       "449  ese ser él que él poder decir con todo respeto...        0  \n",
       "450    él ir a llegar a concretar porque ser que el...        0  \n",
       "451  entonces tener que hablar mucho con nuestro pa...        5  \n",
       "452    ser que ya él estar hacer y a él mejor el bu...        0  \n",
       "453  y qué no importar el pueblo no uno bloqueo él ...        5  \n",
       "\n",
       "[454 rows x 5 columns]"
      ]
     },
     "execution_count": 2,
     "metadata": {},
     "output_type": "execute_result"
    }
   ],
   "source": [
    "df.head(10)\n",
    "def clasification_to_num(text):\n",
    "  if text == 'exterior':\n",
    "    return 0\n",
    "  elif text == 'economia':\n",
    "    return 1\n",
    "  elif text == 'opinion' :\n",
    "    return 2\n",
    "  elif text == 'competencia':\n",
    "    return 3\n",
    "  elif text == 'apoyo':\n",
    "    return 4\n",
    "  elif text == 'seguridad':\n",
    "    return 5\n",
    "  \n",
    "df['cla_num'] = df['Clasificacion'].apply(clasification_to_num)\n",
    "df.head(9)\n",
    "\n",
    "df\n",
    "  \n",
    "  "
   ]
  },
  {
   "cell_type": "code",
   "execution_count": 30,
   "metadata": {},
   "outputs": [
    {
     "data": {
      "text/plain": [
       "(227, 192)"
      ]
     },
     "execution_count": 30,
     "metadata": {},
     "output_type": "execute_result"
    }
   ],
   "source": [
    "\n",
    "from nltk.util import ngrams\n",
    "from nltk import word_tokenize\n",
    "import matplotlib.pyplot as plt\n",
    "\n",
    "from nltk.corpus import stopwords\n",
    "from nltk.stem.wordnet import WordNetLemmatizer\n",
    "from PIL import Image\n",
    "import numpy as np\n",
    "from sklearn.feature_extraction.text import TfidfVectorizer\n",
    "from sklearn.manifold import TSNE\n",
    "import plotly.express as px\n",
    "from sklearn.model_selection import train_test_split\n",
    "from sklearn.linear_model import LogisticRegression\n",
    "from sklearn.metrics import classification_report, confusion_matrix\n",
    "import seaborn as sns\n",
    "\n",
    "X = df['vector']\n",
    "X = np.concatenate(X,axis=0).reshape(-1,192)\n",
    "X.shape\n",
    "#43584"
   ]
  },
  {
   "cell_type": "code",
   "execution_count": 33,
   "metadata": {},
   "outputs": [
    {
     "name": "stdout",
     "output_type": "stream",
     "text": [
      "     tsne_1    tsne_2  label  \\\n",
      "0  0.315666 -0.264069  apoyo   \n",
      "1 -3.003079  5.069626  apoyo   \n",
      "2  0.574104  3.719620  apoyo   \n",
      "3  0.468149  1.621474  apoyo   \n",
      "4 -0.404253 -1.497009  apoyo   \n",
      "\n",
      "                                                text  \n",
      "0  También vamos a informar este primer día hábil...  \n",
      "1  Y ahora se va a informar porque se está optand...  \n",
      "2  En esta etapa se combinan los bancos particula...  \n",
      "3  También Ariadna Montiel, que es la secretaria ...  \n",
      "4  Pero tenerlas terminadas no significa tenerlas...  \n"
     ]
    },
    {
     "data": {
      "application/vnd.plotly.v1+json": {
       "config": {
        "plotlyServerURL": "https://plot.ly"
       },
       "data": [
        {
         "customdata": [
          [
           "También vamos a informar este primer día hábil del año 2023 sobre la dispersión de los fondos para los adultos mayores, que va a iniciar esta semana. Y queremos informar porque ya son muchos y cuando no hay información, están inquietos, esperando que lleguen sus pensiones que por derecho la corresponden."
          ],
          [
           "Y ahora se va a informar porque se está optando por un calendario de acuerdo a las letras del primer apellido, la primera letra del primer apellido, para que vayan al banco cuando les toque. Y esto va a ayudar mucho, porque ya estamos hablando de millones de adultos mayores, y hay además otros beneficiarios que también tienen que llegar a los bancos."
          ],
          [
           "En esta etapa se combinan los bancos particulares, comerciales, con el Banco del Bienestar, pero hacia adelante ya va a ser sólo el Banco del Bienestar. También sobre cómo se va a llevar a cabo esta transición se va a ir informando. Y es un proceso, no es de un día para otro."
          ],
          [
           "También Ariadna Montiel, que es la secretaria de Bienestar, va a informarnos hoy sobre cuándo empiezan los pagos, que todavía se tienen que hacer en efectivo porque son comunidades muy apartadas, en donde estamos en proceso de construcción y de operación de Bancos del Bienestar. Pero todavía, de los cerca de tres mil sucursales, tenemos ya como dos mil 300, dos 500 terminadas, vamos por 500, este primer semestre vamos a terminar."
          ],
          [
           "Pero tenerlas terminadas no significa tenerlas operando, porque se requiere tener cajeros, se requiere comunicación, se requiere, pues, que funcionen. Entonces, nos va a llevar toda la primera mitad de este año que ya estén las tres mil sucursales del Banco del Bienestar, entonces sí ya no se va a pagar en efectivo y va a estar muy cerca la sucursal del banco de la gente."
          ],
          [
           "Entonces, analicé qué voy a hacer. Tenemos otras cosas: lo principal, acabar con la corrupción; lo principal, ayudar a la gente; lo principal es que se haga consciencia de que, por el bien de todos, primero los pobres. Y así fuimos definiendo las prioridades, que deben de ser como 100 porque también como el gobierno no estaba orientado a servir al pueblo, sino a simular que se representaba al pueblo, porque en realidad lo que era, como ya lo expresé, era un facilitador del saqueo, un comité al servicio de una minoría, pero tenían que hacer la faramalla de que hacían cosas: y el instituto de la transparencia, y el instituto anticorrupción, y el instituto contra el monopolio o los monopolios, y el instituto de las comunicaciones, y la defensa de derechos humanos, y la defensa de las mujeres, y la defensa de los obreros, y la defensa… Todas, organizaciones no gubernamentales. Pero puro cuento, ahí se gastaba mucho presupuesto, en el aparato."
          ],
          [
           "Entonces, decidimos: Bueno, estas son las prioridades, vámonos, que no haya instituto para apoyar a los adultos mayores, sino mejor vamos a destinarles… A ver, pon la lámina de cuánto es el presupuesto para el 2023. La anterior, otra, otra, esta: 339 mil millones para los adultos mayores, casi 340 mil millones, nunca en la historia. Sólo el bimestre, 52 mil millones, es lo que tiene en un año en promedio de presupuesto un estado de la república, y no hay instituto, o sea, todo ese andamiaje que crearon para simular, esto es directo."
          ],
          [
           "Bueno, regresando a lo del Poder Judicial, estaba muy complicado, entonces, a ver, qué hacemos. Ya se los platiqué, que son 11 ministros, me va corresponder proponer a cuatro o cuatro ternas. Si cuido y mando cuatro buenas personas, ya nada más faltarían dos, para que de 11 tengamos seis, porque se va a requerir para la transformación. Tan es así que las leyes que nos aprueban en el Legislativo, los conservadores acuden a la Corte para pedir que se declaren inconstitucionales."
          ],
          [
           "Entonces sí ayuda, por ejemplo, la ley eléctrica, que los conservadores la vetaron para ayudar a Iberdrola, de España, en contra de la Comisión Federal de Electricidad y para que aumentaran las tarifas de luz. Todavía, como se ganó por mayoría simple en la cámara, acudieron al Poder Judicial para declararla inconstitucional."
          ],
          [
           "No, prefiero ir a hablar con las comunidades de la Sierra Norte, de la Sierra Juárez, prefiero ir a Sonora, a Yécora, a ver cómo va la ampliación del camino de Chihuahua a Guaymas, prefiero ir con los yaquis. ¿Qué, no es justicia devolverles 30 mil hectáreas a los yaquis? ¿Qué se hace ahí en la Corte, en el Poder Judicial? Si les digo que para defender la industria eléctrica nacional nos cuesta trabajo."
          ],
          [
           "Luego, tenemos trabajo jueves, viernes. Vamos a hacer una visita a Oaxaca, vamos a ver unos caminos que estamos construyendo, tanto caminos artesanales como carreteras que queremos ir a supervisar, y también el avance de las obras que se están realizando en Oaxaca para mejorar la situación de los caminos y de la infraestructura que se afectaron con el pasado huracán."
          ],
          [
           "Posteriormente, vamos a seguir recorriendo el país y yo espero que estemos en Sonora a finales del mes o a principios de febrero. Vamos a estar allá, que tenemos también muchos temas pendientes, obras en proceso:"
          ],
          [
           "Y vamos también a evaluar qué han hecho los presidentes municipales de la sierra, que les entregamos sus presupuestos para mejorar los caminos. Y tenemos que ir a Sonora a ver cómo vamos con el Plan Sonora, cómo vamos con lo del litio, cómo vamos con la construcción de la planta solar, que va a ser la más grande e importante de América Latina que se está haciendo en Puerto Peñasco, en fin, tenemos muchas cosas, a ver si nos alcanza el fin de semana."
          ],
          [
           "Yo les comentaba ayer que, como nunca, hay inversión pública en el país. Ya no había inversión pública, todo eran concesiones, autopistas concesionadas, hospitales concesionados, reclusorios concesionados. Era una oficina el gobierno para entregar concesiones y facilitar las transas, para decirlo coloquialmente."
          ],
          [
           "Ahora no, ahora el presupuesto está llegando de manera directa a la gente y se está usando para obras de infraestructura que antes se concesionaban, ahora se realizan esas obras con presupuesto público. Por eso no se cobra en las carreteras que se están realizando, porque también tenemos la filosofía, la concepción de que ya el ciudadano contribuye, como se dice comúnmente, paga impuestos —que no deben de ser impuestos, deben de ser contribuciones, pero, bueno— ya se paga el impuesto y además de que se paga el impuesto para usar un servicio hay que pagar otro impuesto, eso es indebido."
          ],
          [
           "Estamos construyendo un puente de 10 kilómetros para comunicar a Cancún, la población con la zona hotelera, que ya se convirtió en un problema vial serio, la zona hotelera; ya hasta por cuestiones de seguridad, de protección civil hacía falta un puente, una salida de la zona hotelera a Cancún, al territorio. Bueno, es un puente como de 10, 12 kilómetros sobre la laguna, con un costo estimado también de 10, 12 mil millones de pesos. Ya estaba el proyecto para hacer el puente, pero de paga, cobrando, dijimos: No, entre otras cosas, porque Quintana Roo y Cancún en especial le aportaron mucho a México en los momentos más difíciles, más críticos."
          ],
          [
           "Esa ampliación de la carretera de Chihuahua a Guaymas, pues no va a ser de paga, y así muchas otras obras. Pero sí voy a ir a Sonora."
          ],
          [
           "La que más me complace de todas fue el que logramos que la pensión a los adultos mayores, la pensión a niñas, a niños con discapacidad, y las becas para estudiantes de familias pobres sean un derecho constitucional; o sea, se elevó a rango constitucional lo de las pensiones y ahí sí venga quien venga, esté quien esté, no va a poder dejar de entregar las pensiones a los adultos mayores."
          ],
          [
           "Ayer lo decía yo, hacer justicia es devolverles 30 mil hectáreas a los yaquis; hacer justicia es que todos los adultos mayores del país tengan una pensión; hacer justicia es que tengan pensión todos los discapacitados; hacer justicia es que se apoye a los productores del campo; hacer justicia es que se entreguen 11 millones de becas a estudiantes pobres, y eso lo vamos a seguir haciendo, eso no nos lo pueden impedir."
          ],
          [
           "Ah, una que es buenísima, de primera, que no sé cómo no se dieron cuenta o no pudieron, los agarramos como dormidos, pero fue buenísima la reforma al artículo 28 de la Constitución para no permitir la condonación de impuestos, esa fue clave. Porque imagínense cuánto dinero se dejaba de recibir en la hacienda pública porque se condonaban los impuestos, no pagaban impuestos los potentados, esa es la gran reforma."
          ],
          [
           "Y hay presupuesto suficiente, siguen las búsquedas, es un tema prioritario, fundamental, que tiene que ver con la preocupación de familiares, es algo muy humano y se está atendiendo."
          ],
          [
           "Y luego, algo muy importante, mucho muy importante, sobre todo para los productores. Como decía el maestro Pellicer, que coman los que nos dan de comer, lo campesinos. Se va a explicar sobre el programa de Fertilizantes para el Bienestar, porque se va a ampliar, va a ser fertilizante gratuito para dos millones de productores, sobre todo para campesinos con pocas hectáreas, algunos que siembran media hectárea, una hectárea, dos hectáreas, otros más; pero para ellos, el fertilizante gratuito."
          ]
         ],
         "hovertemplate": "label=apoyo<br>tsne_1=%{x}<br>tsne_2=%{y}<br>text=%{customdata[0]}<extra></extra>",
         "legendgroup": "apoyo",
         "marker": {
          "color": "#636efa",
          "symbol": "circle"
         },
         "mode": "markers",
         "name": "apoyo",
         "orientation": "v",
         "showlegend": true,
         "type": "scatter",
         "x": [
          0.31566566228866577,
          -3.003079414367676,
          0.5741038918495178,
          0.46814924478530884,
          -0.4042533338069916,
          3.4028797149658203,
          3.9802682399749756,
          1.1103368997573853,
          -3.7847213745117188,
          -2.804866075515747,
          3.536179304122925,
          0.5682651996612549,
          2.412714719772339,
          2.0846457481384277,
          2.791255474090576,
          -4.586297035217285,
          -4.79524040222168,
          1.6337388753890991,
          1.6883283853530884,
          -0.20877911150455475,
          2.182319402694702,
          -1.6698365211486816
         ],
         "xaxis": "x",
         "y": [
          -0.26406893134117126,
          5.069626331329346,
          3.7196204662323,
          1.6214735507965088,
          -1.4970091581344604,
          -3.216442584991455,
          -1.0149258375167847,
          -3.5019567012786865,
          3.9803109169006348,
          1.3041415214538574,
          3.6317296028137207,
          0.3701098561286926,
          2.6764752864837646,
          2.141972064971924,
          0.15637938678264618,
          -2.686034679412842,
          1.8542968034744263,
          -4.484020233154297,
          3.1504721641540527,
          0.4713132977485657,
          0.7453186511993408,
          0.7521832585334778
         ],
         "yaxis": "y"
        },
        {
         "customdata": [
          [
           "También lo ocurrido ayer en Chihuahua, en Ciudad Juárez. Les adelanto, va a haber una conferencia de prensa a las 11:00 por parte del Gabinete de Seguridad aquí mismo para informarles sobre todo lo sucedido. Se está también esperando que informe más el gobierno del estado de Chihuahua, que ya lo está haciendo, pero para informar por completo a las 11:00 de la mañana, aquí mismo va a estar el Gabinete de Seguridad."
          ],
          [
           " Bueno, ahora que estuvo con nosotros el gobernador Alfredo del Mazo se habló del tema, él informó, están conscientes de que hace falta más actividad, más acciones, en lo que tiene que ver con el feminicidio y dio a conocer el que ya están aplicándose en esta necesidad de garantizar la paz, la tranquilidad, el que no se agredan a las mujeres, que no haya feminicidios."
          ],
          [
           "Y vamos a estar nosotros pendientes. Mañana vamos a informar sobre seguridad a nivel del país, pero va a estar la secretaria de Seguridad Pública, Rosa Icela Rodríguez, y ella puede ampliar la información sobre lo que está sucediendo en el Estado de México."
          ],
          [
           "Vamos a seguir garantizando la paz, la tranquilidad, que vaya bajando, disminuyendo la incidencia delictiva."
          ],
          [
           "Hay cuestiones muy importantes como, por ejemplo, el que sigamos combatiendo la inseguridad, la violencia, lo que le importa a la gente, que siga mejorando el ingreso, que haya empleos, que se controle la inflación, esos son los temas, lo demás no es tan importante."
          ],
          [
           "Parte de lo que sí voy a hacer, no sé si pública o en corto, a quien vaya a entregarle, es dejarle un testimonio de lo que considero queda pendiente. Esto que estamos hablando, por ejemplo, del Poder Judicial. Me faltó ya va a ser muy difícil, desmantelar todo el gobierno paralelo que crearon para proteger las políticas neoliberales y otras cosas."
          ],
          [
           "Si hay un país en el mundo lamentablemente vinculado a fraudes es México, y eso es lo que tenemos que liquidar, acabar, y por eso es una de las cosas pendientes que van a quedar, una verdadera reforma democrática, porque la corrupción se gestó en México al amparo de la falta de democracia."
          ],
          [
           "Imagínense la fuerza que tenía ese gremio que en la época de Salinas quitaron del Código Penal que la corrupción era delito grave, lo quitaron del Código Penal; es hasta ahora con nuestras reformas que ya es delito grave. Pero estos ministros regresaron, nos echaron para atrás el que la defraudación fiscal fuese delito grave con detención preventiva, lo echaron para atrás."
          ],
          [
           " Pues que no vamos a poder, ya eso está podrido, o sea, eso nació para ser un parapeto, para simular de que hay transparencia en el país, o para eso lo crearon. Es un organismo del conservadurismo corrupto de México, ya no hay ni qué pensar que van a salir cosas buenas de ahí."
          ],
          [
           "Bueno, pues hoy martes, como lo hacemos cada 15 días, se va a informar sobre seguridad. Vamos a presentar un informe amplio de toda la labor que se lleva a cabo para garantizar la paz, la tranquilidad en el país; sobre todo, garantizar la tranquilidad y proteger a los mexicanos."
          ],
          [
           "Quiero expresar mi satisfacción, porque se va avanzando en este asunto tan delicado y al mismo tiempo tan importante, el de garantizar la paz y la tranquilidad en nuestro país. Estamos trabajando todos los días, es el gabinete que más se reúne de todo el gobierno, es con el que más me reúno, diario."
          ],
          [
           "Y quiero aprovechar para agradecer el apoyo de todos los integrantes del Gabinete de Seguridad. No están todos, pero agradecer a Rosa Icela Rodríguez, secretaria de Seguridad; al almirante José Rafael Ojeda Durán, secretario de Marina; al general Luis Cresencio Sandoval González, secretario de la Defensa."
          ],
          [
           "Uno de los avances importantes en la estrategia es el que trabajamos de manera coordinada. Hay muchas otras acciones que han dado resultado, desde luego lo principal es no olvidar que la paz es fruto de la justicia. Atender a los jóvenes, atender a la gente que más lo necesita para que se detenga el empobrecimiento del pueblo, que no haya frustración, que se pueda salir adelante con trabajo honrado y que se pueda ser feliz en el país sin caer en el camino de las conductas antisociales, esa es la base de todo."
          ],
          [
           "Pero también ayuda mucho el que trabajemos unidos y que haya profesionalismo, que no haya corrupción, que no haya impunidad, todo eso es lo que nos ha permitido enfrentar este complejo asunto de la inseguridad y la violencia. Pero van a ver ahora los resultados, van a escuchar cómo hemos avanzado, y le damos la palabra a la secretaria de Seguridad y Protección Ciudadana."
          ],
          [
           "Entonces, escogimos como 10 reformas muy importantes, nos quedaron pendientes otras. Pero, por ejemplo, se logró aprobar de que las Fuerzas Armadas nos ayudaran en tareas de seguridad pública, eso era indispensable. Imagínense cómo íbamos a enfrentar el problema de la inseguridad, de la violencia, creciendo como lo recibimos, con una Policía Federal echada a perder, con 40 mil elementos, contando con las Fuerzas Armadas, pero sin poder utilizarlas en lo que más le importa a la gente: la seguridad pública."
          ],
          [
           "Entonces, afortunadamente se llevó a cabo la reforma constitucional, se creó la Guardia Nacional y ahora de esos 40 mil elementos de la Policía Federal, que realmente eran 20 mil los operativos, sin cuarteles, con mucha indisciplina y corrupción, ahora tenemos una Guardia Nacional con 128 mil."
          ],
          [
           " Doscientos cincuenta, fíjense el cambio; pero, además, trabajando juntos. Antier que hubo este motín en Ciudad Juárez, si no es por la Guardia Nacional, por la Defensa, ¿cómo se enfrenta? Entonces, esa fue una buena reforma, importante, claro."
          ],
          [
           "La tercera reforma importante es que ya no hay fuero para el presidente. Llevaba como siglo y medio que al presidente sólo se le podía juzgar por traición a la patria, y ahora se le puede juzgar por cualquier delito, como a cualquier otro ciudadano."
          ],
          [
           "Otra reforma importantísima, que ya se convirtió en delito grave la corrupción, que no lo era; o sea, que el que robaba podía salir bajo fianza."
          ],
          [
           "También estaba considerado como delito grave y además con prisión preventiva los delitos fiscales, pero esa reforma la modificaron en la Suprema Corte de Justicia y ahí la maestra, la abogada Piña votó para que se quitara, y así otros. Pero, digo, yo no estoy aquí para hacerle ningún cuestionamiento."
          ],
          [
           " Sí, sí, sí, todo lo que tiene que ver con justicia va a avanzar muchísimo, mucho, mucho, como nunca. Puede ser una obra material se nos quede pendiente o esto que hablábamos de la reforma al Poder Judicial, que hace falta, pero que tiene que hacerlo de manera autónoma."
          ],
          [
           "La justicia también es prevenir, la justicia también es el estigmatizar la corrupción, porque antes ni siquiera perdían su respetabilidad los corruptos. Entonces, lo que hemos venido haciendo es no permitir la corrupción y les puedo decir, miren, pañuelito blanco, aquí está; a cuatro años no se permiten negocios al amparo del poder público, como era antes."
          ],
          [
           "Entonces, eso es lo más importante. Y no perseguir a nadie, sólo que haya un juicio, una demanda. Existe ahora lo del juicio de García Luna, que ya va a iniciar, eso lo presentaron los estadounidenses, y ojalá y sepamos todo, la vida pública tiene que ser cada vez más pública y una regla de oro de la democracia, y esto debe saberse en México y en Estados Unidos y en el mundo, una regla de oro de la democracia es la transparencia. ¡Cómo ocultar información!"
          ],
          [
           " Bueno, en todos los juicios que están en proceso por corrupción, si hay detenidos que quieren resolver su asunto, lo que se le está pidiendo respetuosamente a la fiscalía y a los jueces es que se repare el daño, que eso sea lo primero."
          ],
          [
           "Imagínense, hubo una vez, no hace mucho, un hermano de un presidente que fue a la cárcel, lo acusaron por manejo ilícito de dinero, lo que se conoce como lavado de dinero, incluso hasta una institución bancaria de Estados Unidos estuvo involucrada, porque se demostró que se habían transferido 100 millones de dólares de México por este banco famoso de Estados Unidos a Suiza o a no sé dónde, intervino hasta el Senado de Estados Unidos, se demostró. Pasa el tiempo, sale de la cárcel y le devuelven todo. Así era antes y así quieren ahora los conservadores que siga México. Entonces, nosotros lo que estamos buscando es que reparen daño, devolverle al pueblo lo robado."
          ],
          [
           "Si el señor Lozoya está dispuesto, sus abogados, en la reparación del daño, pues sí hay posibilidad de que pueda llevar su proceso en libertad, pero se tiene que reparar el daño."
          ],
          [
           " Ah, no, da muy poquito. No, no, eso lo ve el Ministerio Público y lo ve Pemex, pero no es esa la cantidad. O sea, aquí no se puede asegurar cuánto fue el daño, pero sí hay peritajes y sí hay auditorías. Estoy seguro que esa cantidad de tres millones…"
          ],
          [
           " No, no, no es, pero, de todas maneras, si ellos están dispuestos a eso, creo yo que la fiscalía y el juzgado podrían tomar en consideración de que hay esa disposición a la reparación del daño, eso ayuda mucho."
          ]
         ],
         "hovertemplate": "label=seguridad<br>tsne_1=%{x}<br>tsne_2=%{y}<br>text=%{customdata[0]}<extra></extra>",
         "legendgroup": "seguridad",
         "marker": {
          "color": "#EF553B",
          "symbol": "circle"
         },
         "mode": "markers",
         "name": "seguridad",
         "orientation": "v",
         "showlegend": true,
         "type": "scatter",
         "x": [
          -5.493913650512695,
          -4.616646766662598,
          -2.195984363555908,
          3.9813034534454346,
          3.7160704135894775,
          0.21491047739982605,
          -3.8351612091064453,
          -1.920659065246582,
          1.8335707187652588,
          -1.9334731101989746,
          -2.457371711730957,
          -1.5725278854370117,
          1.3321387767791748,
          -2.3274004459381104,
          -6.527966499328613,
          2.20992112159729,
          -3.009878396987915,
          -0.32146233320236206,
          0.6990156173706055,
          2.606602907180786,
          -2.4643828868865967,
          -3.1252732276916504,
          -1.9333677291870117,
          -3.2286736965179443,
          -2.195643424987793,
          3.477245330810547,
          -3.1307008266448975,
          -2.609757423400879
         ],
         "xaxis": "x",
         "y": [
          1.464909315109253,
          0.3906957507133484,
          1.7739229202270508,
          -2.488011360168457,
          1.8163197040557861,
          -1.0903195142745972,
          -3.5614101886749268,
          -1.2430142164230347,
          -1.2258808612823486,
          0.9480242729187012,
          -2.4343979358673096,
          -0.8472864031791687,
          -0.7875498533248901,
          -1.3201632499694824,
          0.45071089267730713,
          -3.4222841262817383,
          5.034775257110596,
          -4.065007209777832,
          2.374629497528076,
          -0.42201319336891174,
          -1.744748592376709,
          -1.4681718349456787,
          1.7003401517868042,
          2.718210458755493,
          2.4492383003234863,
          -0.42868950963020325,
          -2.3856043815612793,
          -3.8269572257995605
         ],
         "yaxis": "y"
        },
        {
         "customdata": [
          [
           "Quiero decir que tenemos muy buena relación con el gobierno del Estado de México, que consideramos que está funcionando bien la fiscalía del Estado de México, y un ejemplo reciente es que se revisó el caso de una persona que atropelló a un peatón, un trabajador de la calle, alguien que se buscaba la vida vendiendo tamales y que se le había dado la libertad. Y se planteó aquí, y le agradecemos mucho al gobierno del Estado de México, a la fiscalía, que retomaron el caso y se volvió a detener a esta persona. Porque fue muy comentado, hablándose de influyentismo, y ya hemos llegado a la conclusión, y así lo demuestran los hechos, que no se permite el influyentismo ni en el gobierno federal y en este caso en gobiernos estatales, como quedó demostrado en el caso del gobierno del Estado de México. Por eso mi reconocimiento a lo que hicieron."
          ],
          [
           " No, pero si podemos ayudar orientando a los pensionados, nos ponemos de acuerdo, que vengan aquí y nosotros les ayudamos en la gestión. Si es algo que tenga que ver con lo federal, tiene que atenderse, tiene que haber justicia; si es un asunto del estado, hacemos la gestión, el trámite. Y repito, tenemos muy buena relación con el gobierno del Estado de México."
          ],
          [
           "Primero, en la fortaleza cultural de nuestro pueblo, de ahí viene todo, de ahí dimana nuestra fortaleza para resistir cualquier calamidad, llámese pandemia, crisis económica, malos gobiernos, huracanes, temblores."
          ],
          [
           "No hemos valorado lo suficiente la importancia que tiene el haber heredado virtudes de las sociedades prehispánicas, yo creo que hay que replantearnos eso. Porque nos hemos limitado a estudiar la historia de México y sus culturas a partir de la llegada de los europeos, a partir de la invasión de España, que son 500 años, pero este país tiene culturas y civilizaciones milenarias."
          ],
          [
           "México no se fundó con la llegada de los españoles hace 500 años; es más, ni siquiera se fundó a partir de la llegada de los mexicas a lo que hoy es la Ciudad de México, antes Tenochtitlan, porque eso se da 200 años antes de la llegada de los europeos, 1322, 1323, de acuerdo a las investigaciones arqueológicas, históricas."
          ],
          [
           "Pero estuve ahora en Palenque y resulta que ese sitio arqueológico se construye mil años antes de que llegaran los españoles. Y ahí está el arte, ahí está el conocimiento de la astronomía, de las matemáticas, de la arquitectura, de la ciencia. Y más atrás la cultura madre, la cultura olmeca, 900 años antes de Cristo. Entonces, imagínense lo que heredamos, históricamente eso es lo que nos ha salvado siempre."
          ],
          [
           "Y lo otro es nuestro proceso histórico, que es de los más importantes y fecundos en el mundo, por eso los neoliberales querían que ya no se hablara de historia, cuando impusieron su modelo neoliberal hablaron del fin de la historia."
          ],
          [
           "Pues, cómo a un conservador le va a gustar que se recuerde a Hidalgo, si planteó la abolición de la esclavitud y los realistas de ese entonces se oponían, toda la llamada clase gobernante. Y lo asesinan, y le cortan la cabeza y la exhiben como escarmiento 10 años en la plaza de Guanajuato. Imagínense el odio de tener la cabeza del padre de nuestra patria, del cura Hidalgo, 10 años. Cómo van a querer que se hable de eso."
          ],
          [
           "Yo estoy seguro que la mayoría de los mexicanos no lo sabía, de que habían asesinado al padre Hidalgo, que le cortaron la cabeza y luego la exhibieron 10 años. Al contrario, lo que hicieron durante el periodo neoliberal hasta financiaban películas para distorsionar la historia y proyectar una imagen de Hidalgo distinta y lo mismo hicieron con Morelos."
          ],
          [
           "Todavía recuerdo, creo que fue en los 80 que un buen actor, presentaron una obra de Morelos, El martirio de Morelos, una obra de teatro, pero ya no volví a ver nada de Morelos. Y Juárez."
          ],
          [
           "¿Pero dónde están los Hidalgos en el mundo? ¿Dónde están los Morelos? ¿Dónde están los Juárez? ¿Dónde están los Maderos? ¿Dónde están los Villas? ¿Dónde están los Zapatas? ¿Dónde está el general Cárdenas? ¿Cuáles son los gobiernos como los del general Cárdenas en el mundo?"
          ],
          [
           "Porque tenemos todo ese bagaje, todo ese legado que nos guía. Y por eso tenemos un pueblo excepcional, un pueblo bueno, un pueblo fraterno, solidario, trabajador."
          ],
          [
           "No. Sí, en la mayoría de los pueblos del mundo hay humanismo, hay fraternidad, pero lo nuestro es algo excepcional, el humanismo mexicano."
          ],
          [
           "Que como si hubiesen dado cuenta los del avión, cuando ya aterrizamos, un aplauso. Claro, venía yo de mi estado, no fue una encuesta tan objetiva, estaba un poco, no cuchareada, sino jicareada."
          ],
          [
           "Ya les platiqué cómo en la última reunión que tuve en el Consejo de Hombres de… ya no es Hombres de Negocios, es Consejo Mexicano de Negocios, me preguntó Claudio X. González, papá, lo mismo, que si por qué la polarización. Le dije: No hay polarización, es politización. Y le dije con toda claridad que nos habíamos propuesto transformar al país y que no iba a ser posible la transformación si no le dábamos atención preferente a los pobres, que además esa era la razón de ser de nuestro movimiento, eso es lo que tiene que ver con nuestras convicciones, el amor al pueblo y sobre todo el amor a los más necesitados, a los desposeídos, a los humillados."
          ],
          [
           "Pero que además los pobres eran leales y que se podía confiar en ellos, no así en los potentados, no así en los medios de comunicación, no así en los intelectuales del régimen, no así en sectores de clases medias aspiracionistas, individualistas."
          ],
          [
           "Claro, en todo hay excepciones: en empresarios hay excepciones, empresarios que tienen dimensión social, dimensión cívica, en los periodistas claro que hay excepciones; además es importante diferenciar entre lo que es la élite del periodismo y los periodistas, no sólo incluyendo a quienes hacen las notas, sino a los que trabajan en los talleres, a los fotógrafos, a los camarógrafos. Entonces, sí hay diferencias."
          ],
          [
           "Pero, imagínense, si nosotros queremos transformar al país y nos apoyamos en los potentados, es como poner la Iglesia en manos de Lutero. No estoy generalizando, pero, de acuerdo a mi experiencia de muchos años, los pobres son muy leales. Pues ahí está lo que sucedió en Bolivia, ¿quiénes fueron los que recuperaron el movimiento de transformación en ese país? En Brasil, ¿quiénes fueron los que votaron por Lula?"
          ],
          [
           "Entonces, no hay que andarnos por las ramas, es muy claro: si se le tiene amor al pueblo, si se apoya a todos, si se atiende a todos, si se escucha a todos, si se respeta a todos, pero se le da preferencia a los pobres, no hay nada qué temer, esa es la estrategia."
          ],
          [
           "Pero ¿ustedes creen, como era antes, de que atendiendo a los potentados…? Como en la época de Porfirio Díaz y de Limantur, que la Secretaría de Hacienda nada más estaba para recibir a los llamados hombres de negocio, en la Secretaría de Hacienda nunca se recibía a campesinos, ni a obreros, ni a comerciantes pequeños, medianos, ni a pequeños, medianos empresarios, todo era arriba."
          ],
          [
           "Entonces, esto ya cambió. Y repito, no es nada personal, no es de odios, es que nosotros consideramos que esa es la forma de tener una sociedad mejor, ahora sí que la aplicación correcta del término del concepto ‘sociedad’, de tener un pueblo mejor, una ciudadanía mejor. Esto nos significa estabilidad."
          ],
          [
           "Un régimen corrupto, autoritario, antidemocrático, no dura, es subversivo, eso fue lo que nos dejó como lección el porfiriato."
          ],
          [
           "Y también la otra lección es que una democracia sólo puede tener éxito si atiende al pueblo, porque si no se voltea a ver al pueblo y se ayuda al pueblo pues no se cuenta con una base social, que es fundamental para poder transformar."
          ],
          [
           "Y el ejemplo de nuestra historia lo tenemos con lo que le hicieron al presidente Madero, un hombre bueno, con una idea sobre la política muy bien enfocada hacia la libertad, pero con poca importancia en lo social, sobre todo en el conflicto agrario, en el problema de la tierra. Él por eso no pudo o no quiso hacer la alianza con los campesinos, con el zapatismo, que era lo que le podía… No fácil, porque estaba complicadísimo el asunto, eran 34 años de dominio porfirista, imagínense cómo estaba enraizado ese régimen que ni la Revolución pudo cambiarlo. Se avanzó, pero en lo político no."
          ],
          [
           "Entonces era muy difícil, pero la única posibilidad de enfrentarlos era apoyándose en el pueblo. Entonces, cuando lo dividen, porque hicieron una labor de zapa para que no se uniera con Zapata, y los separan… Es muy triste, por ejemplo, que, en el Plan de Ayala de 1911, Zapata lo que plantea, además del derecho a la tierra, es el desconocimiento del presidente Madero y el reconocimiento de alguien que después, inmediatamente después de su buena labor en el inicio de la Revolución, sobre todo en la batalla de Ciudad Juárez, de Chihuahua, Pascual Orozco, en el documento reconocen a Pascual Orozco los zapatistas como el dirigente, porque ya estaba hecha la labor de separación."
          ],
          [
           "No es un asunto personal, también no es un asunto de polarización, no es un asunto de exclusión, no, es que tenemos muchos millones de mexicanos el deseo de lograr una sociedad mejor y para eso se necesitan cambios, transformaciones que no quieren los conservadores. Y hablo del conservador porque es eso, el conservador es el que quiere conservar el régimen, mantener el estatus quo, que nada cambie, conservar fueros, conservar privilegios."
          ],
          [
           "Entonces, nosotros lo que queremos es la transformación. Se está avanzando o se va a avanzar más este año, este año va a ser importantísimo porque vamos ya a dejar sentadas las bases de la transformación futura."
          ],
          [
           "No me gusta decir que los procesos son irreversibles, no, todo cambia, pero sí vamos a avanzar, mucho, mucho, por el bien de México."
          ],
          [
           " Bueno, hablábamos de una transformación que se inicia, hablábamos de sentar las bases, pero una transformación es un proceso, es como una transformación permanente; nosotros avanzamos."
          ],
          [
           "También hace un momento mencionaba que el porfiriato significó 34 años de dominio, pero el neoliberalismo o neoporfirismo se llevó 36 años, imagínense, se metió hasta lo más profundo, hasta la médula, pero también —vuelvo a la importancia de nuestras culturas— no pudo con el México profundo, no pudo el neoliberalismo, por eso estamos aquí."
          ],
          [
           "Entonces, fue bastante lo que avanzaron en querer que México fuese país de unos cuantos, 36 años con lo mismo, entonces tomaron las instituciones, crearon una república aparente, dedicaron el gobierno a facilitar el saqueo, impulsaron mucho un estilo de vida en donde vale el que tiene, un estilo de vida materialista, individualista, egoísta; se fomentó desde luego el racismo, el clasismo, y se secuestraron a las instituciones."
          ],
          [
           "Yo podría decir, con todo respeto y también hay honrosas excepciones, que el Poder Judicial está secuestrado, como estaba secuestrado el Poder Ejecutivo. Entonces, va a ser labor hacia adelante liberar el Poder Judicial, que jueces, que magistrados, que ministros, internalicen lo que es la justicia. Porque parece paradójico o contradictorio, pero no tienen claro o no tienen sentimientos, emoción social, en favor de la justicia."
          ],
          [
           "El Poder Judicial se fue eclipsando con el dinero, el poder económico eclipsó casi por completo al Poder Judicial. Entonces, sí hace falta una renovación ahí, profunda."
          ],
          [
           "Nosotros no lo hicimos porque teníamos que optar entre inconvenientes, eso es la política, decir: Importa esto, importa esto, lo mismo esto otro, tenemos muchas cosas, cómo priorizamos qué es primero, qué es segundo, qué es tercero, para no fracasar. Es toda una estrategia."
          ],
          [
           "Entonces, dijimos: Hagamos la lucha en el Poder Judicial. Ya se los expliqué un día, me planteaban una reforma constitucional como la de Zedillo que llevó a cabo en el Poder Judicial para cambiar ministros; dije: No, eso no porque además no resuelve, el problema viene de abajo hacia arriba, y también de arriba hacia abajo, pero es todo el cuerpo; o sea, son jueces, es una pirámide, luego magistrados en medio y hasta arriba la Suprema Corte de Justicia, los ministros que son 11."
          ],
          [
           "Entonces, cómo hacerle si desde los jueces, no todos, pero hay una concepción conservadora que están siempre a favor del cliente, no a favor del pueblo, no a favor del ciudadano, mucho menos a favor del pobre. Cómo hacerle ahí, ni modo que se les despida a todos. Pero aun en ese caso, que sería un acto autoritario, ¿con quién se sustituye, si durante el periodo neoliberal, en las universidades se dejaron de formar abogados y otros profesionales con mística, con principios, con ideales, con amor al pueblo?, ¿con quién se les sustituye? Es un asunto complejo."
          ],
          [
           "Yo recuerdo que —se los he comentado— cuando era jefe de gobierno me asomé por la ventana y vi en la plaza que había una manifestación, pero me llamó la atención de que caminaban en la plancha y todos con traje y corbata. Y ya fui observando más y me di cuenta que no sólo era una manifestación de personas con traje, sino que traían alhajas y cadenas, y se veían los relojes de estos de oro y anillos, y me llamó la atención."
          ],
          [
           "Entonces, pedí que me investigaran quiénes eran. Pues puro policía judicial que habían despedido y que estaban protestando por eso."
          ],
          [
           "Entonces, ahí para que se declare inconstitucional una ley se requiere dos terceras partes. Entonces, de los 11 ministros, si se cuenta con cuatro ya con eso se asegura que no declaren inconstitucional una ley. Cuatro no incondicionales, cuatro que defiendan el proyecto de transformación, que no pertenezcan al viejo régimen."
          ],
          [
           "Entonces, viene ahora el cambio de presidente. ¿Cómo era antes? Pues el presidente de la República lo nombraba, pero nosotros no tenemos mayoría, ni siquiera aspiramos a eso, a tener dominio de otro poder, porque somos demócratas y queremos que haya un verdadero Estado de derecho, no como sucedía antes, que lo que había era un Estado de chueco, pero eso, es como el señor de avión de ayer, ¿cuándo lo van a entender los del gremio de abogados?, también con honrosas excepciones. Es como lo que natura no da, Salamanca no otorga, o sea, no se puede."
          ],
          [
           " Hagan ustedes la investigación, ustedes ya quieren que yo haga todo el trabajo. O sea, cuándo… No, pero cuántos años han pasado, cuántos años han pasado y los medios no dicen nada, y callan."
          ],
          [
           "Entonces, como imaginaron que la ministra Yasmín era, en la mentalidad autoritaria que tienen estas personas, la designada por el presidente, pobre abogada Yasmín, toda una guerra de potentados, medios de información, columnistas, intelectuales del régimen, vendidos y alquilados, pero una lanzada en contra de la señora."
          ],
          [
           "Ya les expliqué de que nosotros no tenemos posibilidad, ni siquiera nos importa. Va a ser tarea, eso sí, de los que vengan, van a tener que reformar el Poder Judicial, que está muy mal. Ahora se avanzó algo, pero faltan convicciones, faltan ideales, faltan principios."
          ],
          [
           "Nos cuesta trabajo que se considere a los factureros como delincuentes, porque ahí está la macolla arriba, pero eso no significa que el país está en manos del conservadurismo y de Claudio X. González, y de Héctor Aguilar Camín, y de Krauze, aunque diga que no quiere polemizar conmigo; yo tampoco, no es un asunto personal, lo que pasa es que durante mucho tiempo callaron, y no es porque les falta inteligencia, sino porque son muy conservadores y acomodaticios."
          ],
          [
           "Entonces, hay que esperar lo que decidan libremente los ministros. Y también institucionalmente, porque ni modo que vamos a declararle la guerra al Poder Judicial, institucionalmente el que quede será reconocido, porque somos autónomos, somos independientes y tiene que haber colaboración, porque por encima de todo está el pueblo de México, y adelante."
          ],
          [
           " Ya no voy a opinar sobre eso, lo que sí es que recomendaría desde ahora que se tenga comunicación con la gente, lo más abierto posible y de manera directa, porque si no el gobernante queda atrapado por los medios de información, lo cercan, y hay que brincar el cerco y hay que estarle informándole de manera directa a la gente."
          ],
          [
           "Cuando nosotros triunfamos fue porque teníamos comunicación con la gente, no teníamos el apoyo de los medios convencionales. Pero llegamos a entregar 10 millones de ejemplares del periódico Regeneración, era el medio más visto en el país. O sea, la información es poder; también que se entienda que el poder sólo es puro y se convierte en virtud cuando se pone al servicio de los demás, pero información es poder."
          ],
          [
           "Si se dedican a fabricar vehículos, si se dedican a tener bancos, si son banqueros, tienen también medios de información, porque el medio de información lo usan para extorsionar a los gobiernos."
          ],
          [
           "Entonces, para que la autoridad no esté sometida, chantajeada por esos corporativos, se requiere tener información directa."
          ],
          [
           "Además, hay que garantizarle al pueblo el derecho a la información, puede ser que no sea mañanera, que sea al mediodía, en la tarde, que se tome, ¿cómo se llama?, un video diario o dos veces al día, pero que se esté informando."
          ],
          [
           "Y yo para ese entonces voy estar allá escribiendo mi libro sobre el pensamiento conservador, que me va a llevar como cinco años terminarlo, de tres a cinco años, ya para entonces. Porque ya voy a terminar mi ciclo y ya dije que ni a los familiares ni a mis hijos… Que me lleguen a visitar, sí, pero va a estar ahí el letrerito: ‘Nada de política’, porque si no, imagínense."
          ],
          [
           " Bueno, las dos cosas que planteas son muy buenas. A mí me gustaría dar respuesta, primero, a tu última reflexión. Eso es parte del pensamiento conservador, se afianzó mucho en el porfiriato, aunque viene de tiempo atrás, pero en el porfiriato se decía que era un asunto de la fortuna, de la suerte, que desde que existía el mundo había quienes tenían la suerte de salir adelante y otros, la mayoría, que no iban a poder salir adelante, es decir, que el que nace pobre muere pobre, el pensamiento conservador es eso."
          ],
          [
           "Nosotros pensamos distinto, nosotros pensamos que tiene que ver con oportunidades, y que tiene que ver con la movilidad social, que es responsabilidad del Estado o de los gobiernos, porque el más pobre, el hijo de un campesino, de un obrero, de un maestro, de un pequeño comerciante, con el estudio, con el trabajo, puede ascender en la escala social."
          ],
          [
           "¿Y cómo es de que se van los mexicanos por necesidad a buscarse la vida en Estados Unidos y allá mejoran sus condiciones económicas, y hoy nos envían casi 60 mil millones de dólares, envían a sus familias casi 60 mil millones de dólares, es la principal fuente de ingresos del país? ¿Qué demuestra esto?"
          ],
          [
           "Y por eso hablamos que neoliberalismo es neoporfirismo, esto ya se aplicó, esta política de entreguismo de apoyar a los de arriba, a las élites, se aplicó cuando Porfirio Díaz. Él era un dirigente popular, no tan vinculado al pueblo, pero sí venía de abajo y se propuso llegar al poder y entrar a la aristocracia de aquél entonces."
          ],
          [
           "Entonces, va a ser muy difícil que se encuentre algo de Porfirio Díaz a favor de los pobres. Yo lo he estudiado y casi no hay nada, lo que hay es la justificación de la esclavitud, de decir: ‘Ni modo, es muy doloroso, pero se necesita’ o ‘es muy doloroso aplicar la leva —es decir, obligar a los jóvenes, a las personas a formar parte, por la fuerza, del Ejército—, pero hay que hacerlo’."
          ],
          [
           "Cada vez que hay una transformación, hay una nueva Constitución, me refiero a una Constitución federal, no a las constituciones conservadoras, centralistas: después de la Independencia se elabora la Constitución de 1824 para normar el desarrollo de la primera República del país; durante el movimiento de Reforma surge la Constitución de 1857, es una Constitución liberal; después de la Revolución, que es la tercera transformación de México, en 1917, se elabora la Constitución vigente de 1917."
          ],
          [
           "La segunda que yo considero muy importante, la revocación del mandato, que ya se llevó a cabo, ya está el precedente, para que, si el presidente es electo por seis años, pero a la mitad las cosas no funcionan y la gente dice: ‘No estoy de acuerdo con lo que está pasando’, porque el pueblo pone y el pueblo quita, esa es la democracia, consulta: ‘¿quieres que continúe el presidente o que se vaya?’"
          ],
          [
           "Porque lo que contaba antes era nada más la democracia representativa, no la democracia participativa, esa que consiste en que el pueblo en todo momento tiene el derecho de cambiar la forma de su gobierno. El pueblo manda, el pueblo es el soberano. ‘Yo te puse, pero no estuviste a la altura, yo te quito’. Esa fue una segunda reforma importante."
          ],
          [
           " Lo está viendo la Secretaría de Gobernación, lo está viendo Alejandro Encinas, y a quien corresponda. Hay que hacerlo, o sea, nada humano nos debe ser ajeno, nada humano. O sea, nosotros estamos aquí por ideales, por principios, estamos aquí porque luchamos por la justicia, por la igualdad, no estamos aquí para servir a grupos de poder económicos o autoritarios, estamos aquí porque nos eligió el pueblo para ayudar al pueblo."
          ],
          [
           "Antes de eso, es que me llamó mucho la atención lo de los rieles. Para que quede contento el Reforma y Xóchitl, ¿qué les parece si los pintamos de amarillo?, no de amarillo por el amarillismo."
          ],
          [
           "Y de ahí viene Sheridan. Nada más basta… ¿Por qué no lo pones otra vez a Sheridan?, para darnos una idea, independientemente si da clases o no clases, si cobra sin trabajar, si es titulado o no es titulado."
          ],
          [
           "‘Según un periódico —es que es una joya esto, es igual como lo de los rieles— según un periódico, AMLO declaró hoy: Le tengo un profundo amor y admiración al pueblo de México’. Pues claro, son mis convicciones, me siento orgulloso, son mis ideales, es mi humanismo."
          ],
          [
           "‘Lo mejor que tenemos en México’. Siempre he dicho que la mayor riqueza de México es la honestidad de su pueblo, muy contrario a lo que piensan los conservadores, muy contrario. Por siglos, el pensamiento conservador siempre ha sostenido que el pueblo es flojo, es indolente, que no sabe."
          ]
         ],
         "hovertemplate": "label=opinion<br>tsne_1=%{x}<br>tsne_2=%{y}<br>text=%{customdata[0]}<extra></extra>",
         "legendgroup": "opinion",
         "marker": {
          "color": "#00cc96",
          "symbol": "circle"
         },
         "mode": "markers",
         "name": "opinion",
         "orientation": "v",
         "showlegend": true,
         "type": "scatter",
         "x": [
          -0.44638165831565857,
          -0.2655016779899597,
          1.538674235343933,
          -4.443074703216553,
          -2.013607978820801,
          2.269374132156372,
          4.484726428985596,
          3.2292706966400146,
          4.067951679229736,
          0.9532699584960938,
          0.5204595923423767,
          -2.561218023300171,
          -1.9593205451965332,
          3.0075864791870117,
          -3.962589979171753,
          -0.8676782250404358,
          -1.0100140571594238,
          -2.487260341644287,
          -3.752352476119995,
          -2.5653114318847656,
          -0.045583222061395645,
          -0.5525128245353699,
          -6.723069190979004,
          0.043919213116168976,
          2.600428581237793,
          -1.9741157293319702,
          -0.14129774272441864,
          -0.08942911028862,
          1.83873450756073,
          -4.224906921386719,
          -1.8454712629318237,
          -1.0545485019683838,
          -3.504561424255371,
          0.5680864453315735,
          -1.1495121717453003,
          1.4957410097122192,
          0.944929301738739,
          -2.9819176197052,
          2.633218288421631,
          1.7014598846435547,
          1.7720047235488892,
          -2.170227289199829,
          3.3501381874084473,
          4.400903224945068,
          0.5220957398414612,
          -0.960503101348877,
          -0.29471373558044434,
          -4.097407341003418,
          2.8631198406219482,
          -2.540116310119629,
          0.8854809999465942,
          -1.7519795894622803,
          2.025815486907959,
          -0.2397419959306717,
          -0.8189336657524109,
          1.4505115747451782,
          -0.6608129739761353,
          -4.77335786819458,
          -4.647864818572998,
          -1.6242629289627075,
          -0.08621189743280411,
          -1.6958050727844238,
          -4.7384867668151855,
          -3.456529140472412
         ],
         "xaxis": "x",
         "y": [
          0.22537291049957275,
          0.7484611868858337,
          -4.5316081047058105,
          0.4210013151168823,
          -5.211877822875977,
          4.478946685791016,
          1.2431972026824951,
          -4.497324466705322,
          -0.18487924337387085,
          -1.8019163608551025,
          -0.5712724924087524,
          -3.772545337677002,
          2.903999090194702,
          2.278473377227783,
          3.0046494007110596,
          -1.5976967811584473,
          1.6431604623794556,
          3.033299207687378,
          -2.204551935195923,
          -1.7941720485687256,
          -1.573867917060852,
          1.4584040641784668,
          0.4293406903743744,
          -1.4176912307739258,
          1.4083797931671143,
          2.265977382659912,
          -4.007008075714111,
          -4.076068878173828,
          -1.9490023851394653,
          0.6504976749420166,
          -3.3011276721954346,
          3.0736899375915527,
          3.369205951690674,
          -1.078718900680542,
          1.2905855178833008,
          1.2698277235031128,
          -0.7411983013153076,
          1.503455400466919,
          3.399857759475708,
          0.6828567981719971,
          -0.12346409261226654,
          -0.07666756212711334,
          1.1069406270980835,
          2.39890456199646,
          1.7093687057495117,
          2.6767756938934326,
          -2.011051654815674,
          -0.9459510445594788,
          1.715295433998108,
          -0.9086645841598511,
          0.15402871370315552,
          -0.20388413965702057,
          1.6216177940368652,
          1.6652790307998657,
          -5.448988914489746,
          -1.3997282981872559,
          0.6144229769706726,
          1.0032382011413574,
          -0.1809869110584259,
          0.17169682681560516,
          2.9980051517486572,
          1.1586954593658447,
          3.3772246837615967,
          1.2245885133743286
         ],
         "yaxis": "y"
        },
        {
         "customdata": [
          [
           "Entonces, por eso creo que vamos a salir adelante, que se va a consolidar nuestra economía este año, que vamos a seguir creciendo, que vamos a seguir manteniendo equilibrios macroeconómicos, que vamos a tener buena recaudación, que como no se permite la corrupción y no se permite el que haya lujos en el gobierno el presupuesto nos va a alcanzar, rinde."
          ],
          [
           "Yo siempre les hablaba de que cuando llegamos al gobierno el presupuesto del 2018 en Presidencia de la República ascendió a tres mil 600 millones de pesos, ahí está en la cuenta pública, lo pueden constatar, y este año apenas vamos a llegar —o el año del 22, porque ya se cerró— a 500 millones, de tres mil 600 a 500. Ya podrían hasta hacerse las cuentas de gastos de viáticos de Presidencia con los otros poderes o con los organismos autónomos y se van a encontrar cosas muy importantes."
          ],
          [
           "Entonces, en lo económico bien, en lo social mucho mejor. Aquí estamos viendo cómo estamos garantizando el compromiso de aumentar 25 por ciento la pensión a adultos mayores, y como nunca se está incrementando el presupuesto para el bienestar del pueblo, sobre todo de la gente humilde este año."
          ],
          [
           "Entonces, todo eso son empleos, trabajo. Por eso hablo que en lo económico bien, en lo social bien, en lo político lo mismo. Porque si se atiende al pueblo, si no hay autoritarismo, si no hay corrupción, si no se violan los derechos humanos, pues no se tienen porque presentar problemas."
          ],
          [
           "Lo veo con mucho optimismo, nos va a ir muy bien. En lo económico vamos a seguir mejorando las condiciones de vida y de trabajo de la mayoría de los mexicanos."
          ],
          [
           "Si ustedes hacen un análisis económico sobre lo que deja una empresa de información como tal, puede ser que pierdan, pero como no es esa empresa, sino es un consorcio y esa empresa juega un papel, entonces pueden perder en esa empresa, pero ganan en todas las demás y ganan muchísimo."
          ],
          [
           "México ya es no sólo una potencia economía, México es de los países en la actualidad con mejor distribución del ingreso, con mejor distribución de la riqueza, es uno de los países con más felicidad, con más esperanza. Nos querían quitar hasta el derecho a la esperanza; no han podido, por eso es el coraje. Y tenemos que seguir adelante, ese es el pensamiento que tenemos que seguir enfrentando."
          ],
          [
           "Y no enfrascarnos en discusiones que no nos van a llevar a nada. Es como se dice en mi tierra y en mi agua, cuando alguien está muy cerrado: Ya no hablemos, siga usted su camino, es muy difícil que nos entendamos. Ah, su hijo quién sabe, su hija, porque es una nueva generación, pero ya el caso de usted ya está muy avanzado. Y así nos pasa a todos."
          ],
          [
           "Pues yo tengo la experiencia de que devolvió impuestos. Ya hablamos aquí de un juicio, no sé si de Jumex o de El Valle, donde a esta empresa le devolvieron el IVA, esta empresa asesorada por Diego Fernández de Cevallos, y todo lo que le devolvieron lo recogieron del presupuesto de las participaciones federales a los estados. Como yo era jefe de gobierno, además de que protesté, pues me dolió mucho porque tuvimos que regresar dinero de las participaciones para que le entregaran a esta empresa su devolución del IVA."
          ],
          [
           "Yo no sé si entonces este señor era el director jurídico del SAT. Pero luego lo ponen de director de grandes contribuyentes del SAT."
          ],
          [
           "Y luego, director del SAT en la época de los grandes contribuyentes y de las facturaciones falsas."
          ],
          [
           "Por eso, como nunca se está invirtiendo en desarrollo económico y social; como nunca se está apoyando al pueblo; y, como nunca, se está dando atención a los jóvenes. Esa es la base."
          ],
          [
           "Y además algo también importantísimo, porque puede estar el enunciado como un principio en la Constitución, pero pueden alegar de que no hay presupuesto, y en el caso de esta reforma se logró que en un transitorio se estableciera que año con año tenía que aumentar el presupuesto para las pensiones, para las becas de estudiantes pobres, y para las personas con discapacidad."
          ],
          [
           "Imagínense cuánto ingresa ahora. Les estoy hablando de operaciones que llevaban a cabo. Por ejemplo, cuando venden Banamex a Citigroup, tenían que haber pagado 12 mil millones de pesos de impuestos, y no pagaron nada."
          ],
          [
           "Ahora que una parte de Televisa se vende a Univisión, creo que pagaron —¿no pones la gráfica de inversión extranjera?, y además agradecerles que ya entendieron, en este caso Televisa y muchos otros— creo que como ocho o 10 mil millones de impuestos."
          ],
          [
           "Los Oxxos como 12 mil millones, Walmart también como 12, 14 mil millones, y antes no pagaban nada. Pero esto fue por la reforma."
          ],
          [
           "Acaba de vender una planta Bimbo, lo único que sé es que son las Paletas Payaso."
          ],
          [
           " Ricolino, sí. Hay que tener mucho cuidado con… Bueno, no, eso no lo digo. Seis mil millones de impuesto pagaron la familia Servitje, un poquito más de seis mil por esa planta."
          ],
          [
           "Pues por eso no tenemos que aumentar impuestos, ni hay gasolinazos, ni tenemos que endeudar al país. Eso sí los tiene un poquito enojados, pero cosa de nada, algunos, algunos. Porque no es el que no pagaran impuestos, es que vivían además en un mundo de hipocresías hablando de que el problema de país era que los vendedores ambulantes no pagaban impuestos, que los que se dedicaban a la economía informal no pagaban impuestos."
          ],
          [
           "Cómo mintieron con eso, era una cantaleta: ‘El problema de México es que es muy baja su recaudación si se compara con Chile, si se compara con Brasil, si se compara con España, si se compara con Alemania, es muy poco lo que se recauda porque no se cobra impuestos a la economía informal’, a la gente que se busca la vida como puede, cuando el problema era que no pagaban los grandes, los bancos, las grandes empresas."
          ],
          [
           " Ah, 10 mil millones. Ese era el problema, pero a muchos, a los que son muy susceptibles de manipulación, los tenían convencidísimos con eso, y todavía puede ser que hay quienes sigan pensando en lo mismo."
          ],
          [
           "Era como lo otro, la mentira de que si aumentaban los salarios se incrementaba la inflación y que por lo mismo no aumentaban los salarios, se aventaron 30 años así con esa mentira, 30 años."
          ],
          [
           "Otra mentira, esto de un secretario de Hacienda, que si subían el precio de la gasolina no afectaba porque la mayoría de la gente no tenía automóvil, no usaba gasolina. Una eminencia de estas. Y así muchísimas mentiras, pero, bueno."
          ],
          [
           "Y es muy importante porque, además del autoconsumo, la economía campesina es fundamental. Se siembra el maíz, que es una planta bendita que se da en todos lados, en la costa, en la sierra, en clima frio, en clima caliente, en la montaña, en los valles, y se hacen como 600 alimentos del maíz."
          ],
          [
           "Pero no sólo eso. Bueno, se hace ahora sí que lo mero principal: la tortilla. Y con el maíz se alimentan los animales de patio, de corral: las gallinas, los pavos, los puerquitos. Y por lo general, el maíz se siembra asociado al frijol, porque el frijol, entre otras virtudes alimenticias, también ayuda a fertilizar el suelo, es nutriente para el suelo, porque eso se combina. Y ahí mismo, en la milpa y donde está el frijol sembrado, también se cultiva la calabaza y otros alimentos. Entonces, maíz-frijol, pues es carbohidratos y proteína, es lo más sano, es exactamente lo opuesto a la comida chatarra."
          ],
          [
           "Por eso se dice bien cuando se habla de que sin maíz no hay país. Y nos da muchísimo gusto que estos programas lleguen a todas las regiones de México, hasta los pueblos más apartados. Ya, por ejemplo, en Guerrero es 100 por ciento la entrega de fertilizantes y ahora van ustedes a escuchar cómo ha ido creciendo la producción, primero era producción para el autoconsumo y ahora ya hay excedentes, incluso ya pueden vender maíz, porque se está incrementando la producción con el abono, así se le llama en el campo al fertilizante."
          ],
          [
           "En el caso de Nitrogenados, pues fue una compra que se hizo y se pagó más de lo que valía la planta, se hizo una auditoría y se encontró que se pagaron 200 millones de dólares adicionales en esa planta. Entonces, el señor que participó en la venta para llevar su proceso en libertad se comprometió a devolver los 200 millones de dólares; ya ha devuelto 100."
          ],
          [
           "Entonces, esto aplica para todos. Si no hay devolución de dinero, si no hay reparación del daño, pues no podemos nosotros estar de acuerdo con la fiscalía o con los jueces, que son al final los encargados de decidir sobre este asunto."
          ],
          [
           "Por ejemplo, estos 100 millones de dólares que ya se recuperaron del pago excesivo en la planta de Nitrogenados pues son para fertilizantes, es para los productores y es para producir alimentos, eso sí estamos nosotros en condiciones de que se llegue a acuerdos."
          ],
          [
           "No tenemos ningún problema financiero en el país; tan es así, que por eso está muy fuerte el peso, es de las monedas, si no es que es la moneda más fuerte del mundo con relación al dólar. No sé cómo amaneció hoy, pero a ver si…"
          ],
          [
           "Miren, está muy fuerte el peso porque está muy fuerte la economía de México y sus finanzas."
          ],
          [
           "En el caso de que hiciera falta ayudar a Pemex, lo haríamos. Ya Pemex va a pasar este año, a finales, a estar entre los países del mundo que producen petróleo con más capacidad de refinación, es un salto cualitativo."
          ],
          [
           "Ayer dio el Banco de México a conocer la cifra de las remesas de noviembre, ya tenemos la proyección de lo que viene en diciembre, vamos a estar como en 58 mil 500 millones de dólares de remesas el año pasado, 13 por ciento más que las remesas del 22, perdón, del 21. Ya tenemos la proyección de que para diciembre hay un aumento considerable, porque aumentaron en noviembre."
          ]
         ],
         "hovertemplate": "label=economia<br>tsne_1=%{x}<br>tsne_2=%{y}<br>text=%{customdata[0]}<extra></extra>",
         "legendgroup": "economia",
         "marker": {
          "color": "#ab63fa",
          "symbol": "circle"
         },
         "mode": "markers",
         "name": "economia",
         "orientation": "v",
         "showlegend": true,
         "type": "scatter",
         "x": [
          1.4451878070831299,
          -3.5624289512634277,
          -1.9063459634780884,
          -0.3042598068714142,
          1.0210617780685425,
          -0.631867527961731,
          2.8509371280670166,
          1.7241371870040894,
          -5.803915023803711,
          -2.849252462387085,
          4.121902942657471,
          -3.0626025199890137,
          2.9363200664520264,
          2.742225408554077,
          0.776387095451355,
          2.0546388626098633,
          -0.9549999833106995,
          -0.14967019855976105,
          -1.479675054550171,
          -2.0124828815460205,
          -4.920068264007568,
          2.4027953147888184,
          0.4022003412246704,
          -3.963099479675293,
          3.256624460220337,
          -0.1296379417181015,
          -0.3574785888195038,
          3.362469434738159,
          -1.339343547821045,
          -4.651815891265869,
          0.8154542446136475,
          1.5834360122680664,
          0.4760948419570923
         ],
         "xaxis": "x",
         "y": [
          -4.82965612411499,
          1.9746838808059692,
          2.285127878189087,
          3.602674961090088,
          2.4075534343719482,
          -1.9960851669311523,
          -1.122305989265442,
          1.8361215591430664,
          -0.8883510231971741,
          0.8167397379875183,
          -3.0903735160827637,
          2.020458936691284,
          -1.417714238166809,
          -1.9025599956512451,
          0.9750466346740723,
          0.9435116648674011,
          -1.5965522527694702,
          -0.2325485497713089,
          -2.4430160522460938,
          3.473623037338257,
          -1.5630840063095093,
          -3.18538498878479,
          -3.1853973865509033,
          2.276857376098633,
          -4.529673099517822,
          -2.2399120330810547,
          -0.06432401388883591,
          -1.994181752204895,
          -0.21371854841709137,
          2.3180744647979736,
          -5.2682414054870605,
          -0.25560837984085083,
          -1.8642899990081787
         ],
         "yaxis": "y"
        },
        {
         "customdata": [
          [
           "Claro, nuestros adversarios tienen otros propósitos para el 2023, como los tuvieron para el 2022, como los tuvieron para el 2021. Decían que —como no me cae bien el dictador y además ya falleció— decían los opositores a la dictadura de ese país y a ese dictador, que estaban aquí en México, se reunían y le hacían así en la mesa, ‘este año cae’, y se les fue enchuecando el dedo. Yo ya lo tengo chueco. Pero así están nuestros adversarios."
          ],
          [
           "Este año, ¿se acuerdan de Aguilar Camín, que les dio el consejo, la receta?: ‘Vamos a ganarles el Congreso y si les ganamos el Congreso los paramos y después de ganar el Congreso le vamos a ganar la revocación del mandato y se va a tener que ir a Palenque’. Así de enfático."
          ],
          [
           "‘Y luego vienen las gubernaturas, les vamos a ganar la mayoría de las gubernaturas’. Se les enchuecó un poquito más el dedo."
          ],
          [
           "Pero, ¿quieren conocer cuál es su pronóstico —que a mí me ayuda, para saber a ver qué están pensando— de los conservadores corruptos?"
          ],
          [
           "Ayer estaba yo viendo, a ver si lo consiguen, un mensaje de Claudio X. González, y ahí está su pronóstico en contra nuestra. Nada más para que la gente lo conozca porque, si no, se queda sólo en el círculo rojo. Y ahí sí, ahí sí le creen, lamentablemente."
          ],
          [
           "Ayer venía yo en el avión de regreso y un señor se paró con su teléfono y dice: ‘Tengo unas cosas que decirle. ¿No se enoja?’ No, no, no, para nada, para nada, para nada. Dice: ‘Lo hago con respeto’. Sí, cómo no, le escucho."
          ],
          [
           "Y entonces: ‘¿Por qué está destruyendo el país? ¿Usted sabe que es uno de los gobiernos más corruptos que ha habido en México? ¿Por qué quería o quiere destruir el INE? ¿Por qué las empresas están cerrando y no tienen empleo los trabajadores?’"
          ],
          [
           "Y me dice: ‘Se lo digo con respeto’. ¿Qué me puede usted decir? ¿Qué me contesta?, porque tengo otras cosas’. Le digo: No, ya con eso tengo. Le digo: Mira, lo que te puedo decir es que entre nosotros no nos vamos a poder entender porque somos distintos, y yo te respeto. Y qué bien que me planteas esto, también con respeto, pero no nos vamos a poder entender."
          ],
          [
           "Me hablaste del bien común, le digo. Busca el origen del término, cómo se aplica en México. Y para qué te respondo, mejor sigue tu camino, ya no es posible que tu cambies ni yo voy a cambiar mi manera de pensar. Y lo único que me faltó fue decirle: Si tienes hijos, pues sí les daría yo tiempo para explicarle cosas a tus hijos."
          ],
          [
           "Y sí le dije a la gente humilde, a la gente que le cuesta más trabajo obtener información, les dedico mucho tiempo, pero ya en tu caso para qué pierdo el tiempo, mejor vamos a respetarnos, no nos vamos a entender, son dos pensamientos completamente distintos."
          ],
          [
           "‘Los estragos del más gobierno de Morena se hacen más evidentes’. Eso es lo que él apuesta, a que los estragos, todo el mal que ha hecho el gobierno se haga más evidente. Pues esto va a servir porque ya está anunciando que va a arreciar la guerra sucia, ¿no?"
          ],
          [
           "‘Y las divisiones a su interior más marcadas’, o sea, apostando a que va a haber ruptura, también seguramente ya tienen un plan sobre eso."
          ],
          [
           "‘La unión de Va por México ―o sea, la que él encabeza― se consolida ―eso es lo que él desea― con triunfos en el Estado de México y en Coahuila’. Así como decía Aguilar: ‘Vamos a ganarles la mayoría en el Congreso y luego les ganamos la revocación del mandato’."
          ],
          [
           "‘Tres, la sociedad marca pauta’ —la sociedad. A ver, politólogos, sociólogos, ¿qué es la sociedad?, ¿qué no es pueblo? Es la sociedad."
          ],
          [
           "‘Marca pauta’. Porque la sociedad somos todos, desde el punto de vista conceptual somos todos, pobres, ricos, somos sociedad, pero aquí la sociedad tiene que ver con la élite. Porque si se usara, por ejemplo, ‘la ciudadanía’, es más igualitario, porque el ciudadano es todo aquel que después de 18 años tiene derechos y tiene obligaciones, de acuerdo a la Constitución, somos todos los mexicanos, pero ‘la sociedad’, la connotación, es elitista; aunque desde el punto de vista teórico la sociedad somos también todos, pero la connotación para un conservador es que la sociedad es una élite."
          ],
          [
           "Entonces, dice: ‘En la sociedad marca pauta —la élite, léase— en el método de selección de candidato o candidata opositor a la Presidencia’."
          ],
          [
           "Y en la parte política, que sigamos avanzando en la revolución de las consciencias, en la politización, que no es polarización, para defender el proyecto de transformación y que nunca más regrese una forma de gobierno autoritaria y corrupta. Eso en lo político."
          ],
          [
           "Y lograr todo esto por la vía democrática y con el respeto absoluto a las libertades."
          ],
          [
           " No, no tengo ahí ninguna injerencia de ningún tipo. Si yo fuese como piensan mis adversarios, quedaría quién el presidente decidiera, pero no es así, no somos iguales, no se puede gobernar México sin autoridad moral. Si yo quisiera que quedara un ministro, una ministra, pues a ver, como era antes, en lo oscurito: Le pido el favor que considere la posibilidad…"
          ],
          [
           "Ah, y el tema de la transformación, el que nunca más regresen los corruptos, la gente lo está viendo así. Porque ellos están pensando que pueden regresar, aquí están los deseos de Claudio, pero no. Además, fíjense, qué desfigure, qué falta de respeto de las formas. ¿Dónde están los partidos? Él suplanta a los partidos. De acuerdo a la Constitución, los partidos son entidades de interés público, y un representante del sector privado ya decide sobre los partidos. A lo mejor hoy le va a responder el del PRI o el del PAN que ellos no son peleles, que no son títeres, que no son floreros, que no están de adorno."
          ],
          [
           "A veces me dan ganas de ponerle Fin, pero lo estoy pensando. Pero ya tengo la idea de cómo lo voy articulando. Ya va a ser mi legado político y ya lo demás que escriba… Porque sí, no voy a dejar de escribir porque, si no, no podría salir adelante. Pero sí va a ser más académico, más teórico y para publicar cada tres años, cada cinco años. Pero sí van a tener muchas tareas."
          ],
          [
           "No, si el INE sigue como está, es un peligro para la democracia, lo vimos en la elección pasada, cómo quitaron candidatos sin fundamento legal. Al candidato de Michoacán lo quitaron porque supuestamente no comprobó 30 mil pesos, o los comprobó a destiempo."
          ],
          [
           "No, no, no, es mafia, claro que eso hay que cambiarlo, quitarlo, hay que reformarlo. En cambio, el señor de ayer estaba pensando en que lo opuesto, lo que buscamos es destruir el INE."
          ],
          [
           "Ellos desde que nacieron con Fox lo primero que plantearon fue mantener el secreto tanto el fraude de Odebrecht, como precisamente la lista de todos los que recibieron apoyos en condonación de impuestos durante Fox, las dos cosas, y es el instituto de la transparencia."
          ],
          [
           "Pon a Carmen Aristegui, pon lo que puso del peso. Un experto, o sea, cómo no se van a cuidar en eso, son cuestiones elementales. Pero no estoy poniendo los enfados de Marín, el gruñón de Marín, con todo respeto, no, es Carmen Aristegui, para que vean qué nivel es sobre el peso, de cómo nos daña. O sea, el que no se devalúe el peso, el que esté fuerte el peso no nos ayuda, es lo que dice, según un experto. Y así es el periodismo del Reforma, Y claro, gentes como el señor del avión, pues desde luego que sí tienen razón, es correcto, o sea, ‘ya se me hacía que esto estaba mal, pero aquí viene un experto y me lo explica y ya me convencí’."
          ],
          [
           "Eso no lo van a aceptar nunca nuestros adversarios, pero es la verdad. Nosotros no imponemos nada en la Corte y es tan evidente, aunque no lo quieran aceptar, que la presidenta Norma Piña siempre ha votado en contra de las iniciativas que nosotros hemos defendido. Es único el momento que estamos viviendo, nadie puede decir que hay subordinación, como era antes, de los poderes al Ejecutivo."
          ],
          [
           "Durante décadas el poder de los poderes era el Ejecutivo. El Poder Legislativo y el Poder Judicial eran apéndices, estaban subordinados, desde la Presidencia se daban órdenes, y eso ya se terminó. Por eso sí estamos en la Cuarta Transformación de la vida pública del país. Y me da mucho gusto que esto esté sucediendo en México, porque es para bien, para que haya un auténtico Estado de derecho, no como antes, que era un Estado de chueco."
          ],
          [
           "Y ojalá y de manera independiente, autónoma, se lleve a cabo una reforma en el Poder Judicial, que urge, por la corrupción que impera. Hay que seguir limpiando todo el gobierno, los tres poderes, purificando la vida pública. Y que cada vez se respete más al pueblo, se atienda más al pueblo, que las instituciones no estén al servicio de minorías rapaces, que no estén al servicio de la corrupción, al servicio del dinero."
          ],
          [
           "Yo les he dado a conocer, nada más que no sale en los periódicos, de que cuando gobernó Salinas modificó el Código Penal para que la corrupción no se considerara como delito grave, y ahora sí es delito grave."
          ],
          [
           "También votaron para que no se aplicara el artículo 127 y que nadie ganara más que el presidente de la República, eso también con amparos lo echaron para atrás y sigue ganando un ministro pues tres veces más que lo que gana el presidente."
          ],
          [
           "Lo electoral, que quedó ahí pendiente, porque la ley electoral que se aprobó tiene que ver sólo con cuestiones administrativas, no con el fondo, porque el bloque conservador no quiso que se redujera el número de diputados, como lo estábamos proponiendo, de 500 a 300. No quiso quitar a los plurinominales, no quiso reducir el presupuesto en 10 mil millones de pesos del INE, no quiso que los consejeros del INE en vez de que los elijan los partidos los elija el pueblo, pero eso ya queda pendiente."
          ],
          [
           "Entonces, ya, la verdad, no tenemos nada que temer en cuanto a que bloquee el Poder Judicial, si esa fuese su intención, que no creo que estén pensando en frenar la transformación; pero si fuese esa su intención, no pasaría absolutamente nada, porque nosotros seguimos haciendo justicia."
          ],
          [
           " No, nada absolutamente, no le corresponde, tendrían que modificar la Constitución y eso lo tendría que hacer el bloque conservador en el Congreso, y para eso también se requiere tener mayoría y no la tienen; o sea, tienen mayoría para bloquear, pero no para cambiar las leyes."
          ],
          [
           "Dicen: ‘¡Plagio!’ Ojalá y los problemas de México fuesen por plagio; los problemas de México son por robo. Y todos los que dicen ‘¡plagio!’, o se quedan callados ante los robos o se han quedado callados ante los robos, o ante la corrupción, nada más que si no les parece algo y más si se trata de perjudicarnos a nosotros, inmediatamente se enfilan. No tienen escrúpulos morales de ninguna índole, los conservadores son muy corruptos y muy hipócritas, pero también vivimos en una democracia y somos libres."
          ],
          [
           "Y no somos iguales, eso es lo que no van a entender, porque no les conviene, nuestros adversarios, que si tenemos autoridad moral vamos a tener autoridad política. Hay otras maneras de decirlo, pero no tiene caso."
          ],
          [
           " Sí, sí, sí, además es deshonestidad, pero a lo que voy es que el que acusa de plagio o los que acusan de plagio están metidos en la corrupción o avalaron la corrupción o viven de la corrupción. Aquí es aplicable aquello de que el que esté libre de pecado que tire la primera piedra, pero como son muy hipócritas, son finísimas personas, se les olvida todo. El increíble el cinismo, el cretinismo. Pero, repito, somos libres y lo más importante de todo es que hay un pueblo muy consciente, un pueblo que es mucha pieza."
          ],
          [
           "Además, no pueden los medios de información, están moralmente derrotados, igual que el conservadurismo, con honrosas excepciones, pero ellos se lo buscaron porque están metidos en la desinformación, es el hampa del periodismo bajo la consigna de que la calumnia, cuando no mancha, tizna. No cambian en nada."
          ],
          [
           "Y sí hay honrosas excepciones, tan es así que por eso no han podido con nosotros y se desesperan."
          ],
          [
           "Pero ¿dónde está la credibilidad de los medios? La credibilidad que tenía antes Proceso, ¿dónde quedó?, o sea, por lo mismo. La credibilidad del Reforma, no hay un solo escritor articulista en Reformaobjetivo, todos entregados por entero a la mentira, todos, programas de radio, de televisión. Y no sólo es México, ¿eh?, es lamentablemente en la mayoría de los países del mundo, es el poder mediático."
          ],
          [
           "Por ejemplo, la pregunta que ella me hace, que tiene que ver con la mala leche de los editores de Proceso, sobre Segalmex."
          ],
          [
           " Ah, ‘es que viene ahora un tribunal, sí, y va a descubrir la gran corrupción en el gobierno que tiene que ver con Segalmex y que va a afectar al presidente’. No, no, porque yo no soy corrupto, tan sencillo como eso."
          ],
          [
           "Entonces, llevo años luchando por mis ideales y lo que considero más importante en mi vida es mi honestidad. Entonces, qué me van a hacer con una denuncia de Segalmex."
          ],
          [
           "Yo di la instrucción de que se presentara la investigación, la denuncia y que se fuese a fondo. Pero no sólo eso, no le permito la corrupción a nadie, ni a mis familiares. Por eso ese periodismo amarillista de ahora de Proceso, pues no hace mella. Pero ustedes no van a cambiar porque ya ustedes tienen una definición que tiene que ver con apoyar al bloque conservador."
          ],
          [
           " Se está avanzando con la Subsecretaría de Gobernación, Alejandro Encinas, y se está buscando resolver esto."
          ],
          [
           "Ya les he platicado de cómo cuando Fox quiso desaforarme mandó a hablar al presidente de la Corte y echaron a andar la denuncia en mi contra, y todos los ministros aplaudiendo mi desafuero y hasta publicaron un manifiesto, y así siempre."
          ],
          [
           "No, por eso celebro el que haya independencia, división y equilibrio de poderes, eso no había antes. Ya les he dicho, el poder de los poderes era el Ejecutivo. ¿O ustedes se acuerdan de que hubo un tiempo que fue distinto?"
          ],
          [
           "¿Quién mandaba cuando Echeverría mandaba a los ministros de la Corte o López Portillo, con Miguel de Madrid, con Salinas? ¿Eran independientes con Zedillo? Bueno, Zedillo los desapareció, hizo una reforma. ¿Con Fox, con Calderón?"
          ],
          [
           "¿Qué, no se informó de cuando declaró el actual presidente de la Corte, bueno, el que estaba de presidente de la Corte, Arturo Zaldívar, de que lo amenazó Calderón o lo mando amenazar Calderón?"
          ],
          [
           "La postura nuestra fue desde el principio que serían los mexicanos los que iban a decidir con su voto si querían o no que se enjuiciara a los expresidentes. Y se llevó a cabo una consulta. Aunque la mayoría votó para que se enjuiciara a los expresidentes de acuerdo a la ley, no se llegó al porcentaje requerido, por eso la consulta no fue vinculatoria."
          ],
          [
           "Y nosotros no hemos iniciado ninguna investigación contra el expresidente, pero, además, desde que tomé posesión aclaré de que yo era partidario de ver hacia adelante, que lo más importante es la no repetición."
          ],
          [
           "Bueno, pues vamos a informar, como todos los miércoles, sobre quién es quién en las mentiras. Es una mínima parte, muy poquito, ni siquiera llega a botón de muestra para todo el bombardeo de mentiras de la guerra sucia que han echado a andar los del bloque conservador con sus medios de desinformación. Pero, bueno, para tener una idea y no dejar de ejercer el derecho de réplica, vamos a que Elizabeth nos dé la información."
          ],
          [
           " Pues ya se ha hablado mucho, es toda una intelectualidad vinculada al conservadurismo. Antes se encargaban de legitimar la corrupción, de legalizar la corrupción, tenían el papel de alcahuetes del régimen, recibían muchas prebendas, eran como sociedades de grupos de intelectuales orgánicos manejados unos por Krauze y otros por Héctor Aguilar Camín, esto desde Salinas, que los cooptó a todos."
          ],
          [
           "Entonces, Salinas los maneja a los dos, a los dos grupos, y va cooptando tanto a los intelectuales abiertamente de derecha, que pertenecían a los cercanos a Paz, como a los de Héctor Aguilar Camín, que no quiero mencionar, porque es muy lamentable la forma cómo los cooptaron."
          ],
          [
           "Entonces, Krauze hizo mucha obra así. Ya hablábamos de un libro que financió la Secretaría de Gobernación cuando estaba Creel, exaltando a Luis Terrazas de Chihuahua. ¿Se acuerdan que se decía que Terrazas no era de Chihuahua, sino Chihuahua era de Terrazas? Pues lo convierte en un héroe Krauze."
          ],
          [
           "Miren esto, porque esto muestra la decadencia intelectual a la que llegamos, a la que nos llevó la política neoliberal, que no fue nada más crisis en lo económico, en lo social o en lo político, o en lo moral, fue también esto. ¿Dónde están los intelectuales que defienden al pueblo?"
          ],
          [
           "Dice él: ‘No estoy de acuerdo’. Aclaro, así como él, piensan millones, así como él piensa, el señor del que hablaba yo hace unos días que me vio en el avión, pero ellos no lo ven como algo raro o irracional, ellos lo ven como algo normal, por eso con ellos no hay que debatir, hay que ser respetuosos y decirles: Siga usted su camino, ahí la lleva."
          ],
          [
           "Pero pensamos distinto, ¿para qué nos vamos a enfrascar en un pleito? Si acaso, a los hijos y sobre todo a la gente humilde, que es además muy receptiva, no tiene prejuicios, no tiene la idea de que lo sabe todo. De ahí la actitud de humildad, y ahí sí se puede ir orientando, concientizando. Y no cuesta mucho porque abajo en las comunidades, en las familias, en el México profundo hay muchos valores culturales, morales, espirituales que vienen de las grandes culturas que florecieron en México antes de la llegada de los europeos. Traemos esa herencia, ese legado, y por eso digo que el pueblo de México es un pueblo bueno, noble, trabajador."
          ],
          [
           "Por ejemplo, ¿cuál fue la imagen que manejaron durante siglos los conservadores? De que el pueblo era flojo. Ya hemos hablado del ejemplo de nuestros paisanos migrantes. Si el pueblo de México fuese flojo, indolente, no saldría adelante en ninguna parte."
          ]
         ],
         "hovertemplate": "label=competencia<br>tsne_1=%{x}<br>tsne_2=%{y}<br>text=%{customdata[0]}<extra></extra>",
         "legendgroup": "competencia",
         "marker": {
          "color": "#FFA15A",
          "symbol": "circle"
         },
         "mode": "markers",
         "name": "competencia",
         "orientation": "v",
         "showlegend": true,
         "type": "scatter",
         "x": [
          -1.20621919631958,
          -2.5532078742980957,
          2.4566757678985596,
          -3.0935628414154053,
          1.5100315809249878,
          -2.2466702461242676,
          2.774529457092285,
          4.941023826599121,
          -1.9493619203567505,
          -0.39263907074928284,
          -0.754379391670227,
          2.9622063636779785,
          0.38394224643707275,
          -5.01828145980835,
          3.767439126968384,
          -3.5836710929870605,
          2.6779637336730957,
          0.4461052119731903,
          -1.2248250246047974,
          0.7220106720924377,
          4.479560852050781,
          -2.4889004230499268,
          -2.8252503871917725,
          -1.7467002868652344,
          -0.25520506501197815,
          -2.328301191329956,
          3.7870876789093018,
          0.9265946745872498,
          0.25559452176094055,
          3.769861936569214,
          -3.1485486030578613,
          -2.856116771697998,
          -4.979481220245361,
          4.688756942749023,
          3.588409662246704,
          -4.176660537719727,
          -6.748412609100342,
          -3.1939401626586914,
          -1.0322834253311157,
          -1.8665162324905396,
          -1.3989473581314087,
          0.6345503926277161,
          1.6601651906967163,
          -1.551263451576233,
          -1.3279823064804077,
          -0.43939080834388733,
          2.828618288040161,
          3.2970306873321533,
          0.7712948322296143,
          -3.3873891830444336,
          -0.710544764995575,
          -0.37553852796554565,
          3.171231508255005,
          0.7383040189743042,
          3.6751022338867188,
          -1.0588927268981934,
          0.8978590369224548,
          -1.0362119674682617
         ],
         "xaxis": "x",
         "y": [
          -2.9463725090026855,
          -0.5773659944534302,
          -0.7676844596862793,
          -1.289305329322815,
          -2.315778970718384,
          1.2820582389831543,
          -2.825141668319702,
          0.40214115381240845,
          0.2150374799966812,
          4.202646732330322,
          -0.4346446990966797,
          2.750734806060791,
          -2.913222074508667,
          0.24080419540405273,
          -2.6047544479370117,
          -1.9754685163497925,
          1.7161784172058105,
          0.10454261302947998,
          -2.0412845611572266,
          0.14737379550933838,
          -2.1682958602905273,
          0.5954994559288025,
          2.5720202922821045,
          -0.8805908560752869,
          -4.629211902618408,
          -5.548995494842529,
          0.30176520347595215,
          1.5720878839492798,
          2.523987054824829,
          -3.037788152694702,
          -0.2995092272758484,
          5.233439922332764,
          -0.3435879647731781,
          -3.241846799850464,
          2.0296220779418945,
          1.4090243577957153,
          0.43238794803619385,
          5.134695053100586,
          -0.8490780591964722,
          1.5374250411987305,
          -0.3402518630027771,
          1.2381408214569092,
          0.7337272763252258,
          0.9295079112052917,
          4.0813751220703125,
          1.1000938415527344,
          -1.5449687242507935,
          -1.9065719842910767,
          3.761449098587036,
          0.9940362572669983,
          -1.452128529548645,
          -3.131460189819336,
          0.8560406565666199,
          -2.2520596981048584,
          0.6917581558227539,
          1.9574248790740967,
          0.7635692954063416,
          -3.85478138923645
         ],
         "yaxis": "y"
        },
        {
         "customdata": [
          [
           " Bueno, que estamos muy contentos con la llegada del presidente Lula. Fue pues todo un acontecimiento porque es el regreso de un proyecto popular no oligárquico. Y el presidente Lula enfrentó una envestida muy fuerte, que lo llevó injustamente a la cárcel, y él resistió y salió de prisión para volver a gobernar Brasil."
          ],
          [
           "Lo logró, como él mismo lo expresó ayer, a pesar de que utilizaron muchísimo dinero público y privado para evitar que triunfara, y lo logró con el apoyo del pueblo de Brasil. Por eso es válida la frase de Ricardo Flores Magón, que sólo el pueblo puede salvar al pueblo, y también la frase del patricio oaxaqueño, paisano de Ricardo Flores Magón, de que sólo el pueblo puede salvar al pueblo. ‘Con el pueblo, todo; sin el pueblo nada’, decía Benito Juárez."
          ],
          [
           "Entonces, nos dio mucho gusto, me representó Beatriz, porque hay una relación de amistad. Me informó de que el presidente Lula le comentó que quiere venir, que va a venir pronto, que tiene muchos deseos de estar en nuestro país, y que ella le transmitió que siempre va a ser bienvenido a nuestro país, que el pueblo de Brasil, el pueblo de México son pueblos hermanos, somos hermanos y además ahora con muchas coincidencias con el gobierno de Brasil porque ese gobierno va a luchar por la igualdad, por la justicia, también en situaciones complejas, pero el presidente Lula tiene mucho oficio político, es un hombre muy experimentado. Va a tener una oposición beligerante."
          ],
          [
           "Ya desde ayer le pusieron la banda representantes del pueblo de Brasil, yo creo que es más simbólico, mucho más importante, porque el señor Bolsonaro decidió viajar en la víspera a Estados Unidos."
          ],
          [
           "Y tampoco para nosotros el señor Bolsonaro significó un adversario, mucho menos un enemigo, sencillamente son proyectos distintos, es un poco lo del avión de ayer con el señor, no es nada personal."
          ],
          [
           "El lunes próximo viene el presidente Biden, vamos a recibir al presidente Biden y al primer ministro Trudeau. Nos da mucho gusto que estén estos dos mandatarios de pueblos hermanos, vecinos, con nosotros. Se va a llevar a cabo una cumbre de los tres países de América del Norte y vamos a tener, también se van a realizar reuniones bilaterales, tanto con el presidente Biden como con el primer ministro Trudeau."
          ],
          [
           "El presidente Biden va a estar con nosotros el lunes. Está por definirse la agenda; desde luego, lo más relevante es el tiempo que vamos a destinar a tratar asuntos de interés, tanto para Estados Unidos, como para México y lo mismo en el caso de Canadá con asuntos de nuestro país. Entonces, es lunes, martes, miércoles."
          ],
          [
           "Cuando no había trabajo en ningún estado del sureste, cuando prevalecía la desolación del modelo neoliberal, que la gente tenía que irse del país a buscarse la vida a Estados Unidos, muchos mexicanos del sureste, inclusive hasta de la Ciudad de México, se fueron allá, porque allá había crecimiento por el turismo, y allá salieron adelante; entonces, cómo les vamos a cobrar por el uso del puente. Pero así en muchas otras obras."
          ],
          [
           "Nuestro propósito es decir: nos gustaría —como se dice en las cartas, en los oficios— si para ello no tiene inconveniente, tratar estos temas respetuosamente. Haciendo la aclaración que nosotros estamos desde luego abiertos a atender cualquier tema planteado por el presidente Biden."
          ],
          [
           "Son bienvenidos el presidente Biden y el primer ministro Trudeau. Y con el presidente Biden tenemos muy buena relación. Y estoy seguro que van a ser muy buenos los resultados del encuentro, diría trascendentes, pero hasta ahí nada más."
          ],
          [
           "Está haciendo cosas desde ayer muy importantes, está dando marcha atrás a las privatizaciones que se habían hecho, hasta del petróleo de Brasil, y está tomando decisiones importantes. Y es un buen gobernante, tiene mucha experiencia, tiene reconocimiento mundial."
          ],
          [
           "Y Brasil siempre ha buscado relaciones con Asia, con Europa y también con América Latina y con Estados Unidos y Canadá, ha optado por la diversidad en materia de política exterior."
          ],
          [
           "Nosotros lo que estamos planteando es la unión de todos los países de América, el sueño de Bolívar, pero considerando a Estados Unidos y Canadá, juntos toda la América, todo el continente americano, eso es lo que estamos planteando, porque consideramos que ya es y sería con más fuerza la región más importante del mundo, tenemos un gran potencial."
          ],
          [
           "Entonces, que la integración, y esa es la propuesta que nosotros tenemos, no se quede nada más en América del Norte. O sea, ya con el tratado hemos confirmado que funciona la integración, desde luego con respeto a nuestras soberanías, pero funciona el unirnos, el articularnos, pero no quedarnos en eso, sino buscar la unidad de toda América."
          ],
          [
           "Ya la relación comercial en el mundo empieza a estar más dominada por Asia y si no hacemos nada nos vamos a quedar rezagados."
          ],
          [
           " No, no estoy de acuerdo en eso; habría que ver qué es lo que plantea. No lo había escuchado, el presidente Lula, que es, insisto, muy inteligente, muy buen político, muy buen gobernante y además sensible, sensible, defensor de los pobres, pero no había escuchado eso."
          ],
          [
           "Se está hablando mucho, por ejemplo, de la integración de Asia con el mundo árabe y se está hablando de una moneda, o sea, que no sea precisamente el dólar. Nosotros no estamos planteando el que se sustituya al dólar, nosotros lo que estamos buscando es que se integren más las economías de los países del continente americano, que nos integremos más, y que esto vaya de la mano de dos cambios importantes:"
          ],
          [
           "Uno, que se promueva el desarrollo de todos los países del continente americano. Que, así como en su momento hubo la llamada Alianza para el Progreso y se invirtieron en aquel entonces alrededor de 10 mil millones de dólares para apoyar a países de América Latina y el Caribe, que se haga algo ahora parecido, porque no vamos a poder resolver los problemas migratorios si sigue habiendo tanta desigualdad en el continente americano. Entonces, tiene que haber un plan de desarrollo para apoyar a todos los países de América Latina y el Caribe."
          ],
          [
           "Y lo segundo es que debe de cambiar la política intervencionista. Ya no la doctrina Monroe, ya no la decisión de intervenir y bloquear y querer tener un país predominio de toda América; respetar la autonomía y la autodeterminación de los pueblos. Es un cambio importantísimo, son 200 años de esa política, eso es lo que estamos planteando, son tres cosas: integración económica, apoyo a países pobres del continente americano e independencia y respeto a las soberanías de todos los pueblos. Ese es el planteamiento."
          ],
          [
           "Lo de la moneda, no conozco bien qué esté proponiendo el presidente Lula. Y siento además que, pues son procesos, pero ya no darle la espalda a América Latina y al Caribe, o sea, que no estemos pensando nada más en América del Norte, sino que pensemos en Centroamérica y en toda América, nuestro continente."
          ],
          [
           "¿Se acuerdan cómo era antes, de que se declara confidencial? Apenas y se están desclasificando informes del asesinato del presidente Kennedy. ¿Cómo? ¿Dónde está la democracia, si no hay transparencia? Que se sepa todo, hay que subir toda la información, todos los expedientes al internet, a las redes."
          ],
          [
           "Por eso lo que hizo Assange. Queremos la libertad de Assange. Imagínense lo que ayudó. ¿Por qué los secretos? Puede ser que haya cosas así, que valga llamarles secretos de Estado o razón de Estado, pero solo cuestiones muy graves para la humanidad, pero lo demás debe de saberse todo."
          ]
         ],
         "hovertemplate": "label=exterior<br>tsne_1=%{x}<br>tsne_2=%{y}<br>text=%{customdata[0]}<extra></extra>",
         "legendgroup": "exterior",
         "marker": {
          "color": "#19d3f3",
          "symbol": "circle"
         },
         "mode": "markers",
         "name": "exterior",
         "orientation": "v",
         "showlegend": true,
         "type": "scatter",
         "x": [
          3.005974054336548,
          1.7801463603973389,
          3.7901086807250977,
          2.2817206382751465,
          2.856506824493408,
          4.728201389312744,
          -3.4752182960510254,
          -3.2689895629882812,
          -2.8063321113586426,
          -4.139384746551514,
          0.1132354810833931,
          0.5380163192749023,
          -3.7579078674316406,
          1.009101152420044,
          -0.4701312184333801,
          1.3718911409378052,
          1.011523962020874,
          1.03738534450531,
          1.7505595684051514,
          4.568792819976807,
          -0.8025394678115845,
          0.8613511919975281
         ],
         "xaxis": "x",
         "y": [
          -0.40807411074638367,
          -1.800785779953003,
          -3.176610231399536,
          2.7233498096466064,
          1.7061126232147217,
          -1.5834568738937378,
          0.038674525916576385,
          0.9066590070724487,
          -0.14107371866703033,
          0.6904118657112122,
          -3.932619571685791,
          4.59902286529541,
          -0.7813673615455627,
          2.8051419258117676,
          -0.5140728950500488,
          -2.8273234367370605,
          4.272089004516602,
          3.689528703689575,
          -0.19695280492305756,
          -0.3545457720756531,
          -1.240964412689209,
          2.0426928997039795
         ],
         "yaxis": "y"
        }
       ],
       "layout": {
        "legend": {
         "title": {
          "text": "label"
         },
         "tracegroupgap": 0
        },
        "margin": {
         "t": 60
        },
        "template": {
         "data": {
          "bar": [
           {
            "error_x": {
             "color": "#f2f5fa"
            },
            "error_y": {
             "color": "#f2f5fa"
            },
            "marker": {
             "line": {
              "color": "rgb(17,17,17)",
              "width": 0.5
             },
             "pattern": {
              "fillmode": "overlay",
              "size": 10,
              "solidity": 0.2
             }
            },
            "type": "bar"
           }
          ],
          "barpolar": [
           {
            "marker": {
             "line": {
              "color": "rgb(17,17,17)",
              "width": 0.5
             },
             "pattern": {
              "fillmode": "overlay",
              "size": 10,
              "solidity": 0.2
             }
            },
            "type": "barpolar"
           }
          ],
          "carpet": [
           {
            "aaxis": {
             "endlinecolor": "#A2B1C6",
             "gridcolor": "#506784",
             "linecolor": "#506784",
             "minorgridcolor": "#506784",
             "startlinecolor": "#A2B1C6"
            },
            "baxis": {
             "endlinecolor": "#A2B1C6",
             "gridcolor": "#506784",
             "linecolor": "#506784",
             "minorgridcolor": "#506784",
             "startlinecolor": "#A2B1C6"
            },
            "type": "carpet"
           }
          ],
          "choropleth": [
           {
            "colorbar": {
             "outlinewidth": 0,
             "ticks": ""
            },
            "type": "choropleth"
           }
          ],
          "contour": [
           {
            "colorbar": {
             "outlinewidth": 0,
             "ticks": ""
            },
            "colorscale": [
             [
              0,
              "#0d0887"
             ],
             [
              0.1111111111111111,
              "#46039f"
             ],
             [
              0.2222222222222222,
              "#7201a8"
             ],
             [
              0.3333333333333333,
              "#9c179e"
             ],
             [
              0.4444444444444444,
              "#bd3786"
             ],
             [
              0.5555555555555556,
              "#d8576b"
             ],
             [
              0.6666666666666666,
              "#ed7953"
             ],
             [
              0.7777777777777778,
              "#fb9f3a"
             ],
             [
              0.8888888888888888,
              "#fdca26"
             ],
             [
              1,
              "#f0f921"
             ]
            ],
            "type": "contour"
           }
          ],
          "contourcarpet": [
           {
            "colorbar": {
             "outlinewidth": 0,
             "ticks": ""
            },
            "type": "contourcarpet"
           }
          ],
          "heatmap": [
           {
            "colorbar": {
             "outlinewidth": 0,
             "ticks": ""
            },
            "colorscale": [
             [
              0,
              "#0d0887"
             ],
             [
              0.1111111111111111,
              "#46039f"
             ],
             [
              0.2222222222222222,
              "#7201a8"
             ],
             [
              0.3333333333333333,
              "#9c179e"
             ],
             [
              0.4444444444444444,
              "#bd3786"
             ],
             [
              0.5555555555555556,
              "#d8576b"
             ],
             [
              0.6666666666666666,
              "#ed7953"
             ],
             [
              0.7777777777777778,
              "#fb9f3a"
             ],
             [
              0.8888888888888888,
              "#fdca26"
             ],
             [
              1,
              "#f0f921"
             ]
            ],
            "type": "heatmap"
           }
          ],
          "heatmapgl": [
           {
            "colorbar": {
             "outlinewidth": 0,
             "ticks": ""
            },
            "colorscale": [
             [
              0,
              "#0d0887"
             ],
             [
              0.1111111111111111,
              "#46039f"
             ],
             [
              0.2222222222222222,
              "#7201a8"
             ],
             [
              0.3333333333333333,
              "#9c179e"
             ],
             [
              0.4444444444444444,
              "#bd3786"
             ],
             [
              0.5555555555555556,
              "#d8576b"
             ],
             [
              0.6666666666666666,
              "#ed7953"
             ],
             [
              0.7777777777777778,
              "#fb9f3a"
             ],
             [
              0.8888888888888888,
              "#fdca26"
             ],
             [
              1,
              "#f0f921"
             ]
            ],
            "type": "heatmapgl"
           }
          ],
          "histogram": [
           {
            "marker": {
             "pattern": {
              "fillmode": "overlay",
              "size": 10,
              "solidity": 0.2
             }
            },
            "type": "histogram"
           }
          ],
          "histogram2d": [
           {
            "colorbar": {
             "outlinewidth": 0,
             "ticks": ""
            },
            "colorscale": [
             [
              0,
              "#0d0887"
             ],
             [
              0.1111111111111111,
              "#46039f"
             ],
             [
              0.2222222222222222,
              "#7201a8"
             ],
             [
              0.3333333333333333,
              "#9c179e"
             ],
             [
              0.4444444444444444,
              "#bd3786"
             ],
             [
              0.5555555555555556,
              "#d8576b"
             ],
             [
              0.6666666666666666,
              "#ed7953"
             ],
             [
              0.7777777777777778,
              "#fb9f3a"
             ],
             [
              0.8888888888888888,
              "#fdca26"
             ],
             [
              1,
              "#f0f921"
             ]
            ],
            "type": "histogram2d"
           }
          ],
          "histogram2dcontour": [
           {
            "colorbar": {
             "outlinewidth": 0,
             "ticks": ""
            },
            "colorscale": [
             [
              0,
              "#0d0887"
             ],
             [
              0.1111111111111111,
              "#46039f"
             ],
             [
              0.2222222222222222,
              "#7201a8"
             ],
             [
              0.3333333333333333,
              "#9c179e"
             ],
             [
              0.4444444444444444,
              "#bd3786"
             ],
             [
              0.5555555555555556,
              "#d8576b"
             ],
             [
              0.6666666666666666,
              "#ed7953"
             ],
             [
              0.7777777777777778,
              "#fb9f3a"
             ],
             [
              0.8888888888888888,
              "#fdca26"
             ],
             [
              1,
              "#f0f921"
             ]
            ],
            "type": "histogram2dcontour"
           }
          ],
          "mesh3d": [
           {
            "colorbar": {
             "outlinewidth": 0,
             "ticks": ""
            },
            "type": "mesh3d"
           }
          ],
          "parcoords": [
           {
            "line": {
             "colorbar": {
              "outlinewidth": 0,
              "ticks": ""
             }
            },
            "type": "parcoords"
           }
          ],
          "pie": [
           {
            "automargin": true,
            "type": "pie"
           }
          ],
          "scatter": [
           {
            "marker": {
             "line": {
              "color": "#283442"
             }
            },
            "type": "scatter"
           }
          ],
          "scatter3d": [
           {
            "line": {
             "colorbar": {
              "outlinewidth": 0,
              "ticks": ""
             }
            },
            "marker": {
             "colorbar": {
              "outlinewidth": 0,
              "ticks": ""
             }
            },
            "type": "scatter3d"
           }
          ],
          "scattercarpet": [
           {
            "marker": {
             "colorbar": {
              "outlinewidth": 0,
              "ticks": ""
             }
            },
            "type": "scattercarpet"
           }
          ],
          "scattergeo": [
           {
            "marker": {
             "colorbar": {
              "outlinewidth": 0,
              "ticks": ""
             }
            },
            "type": "scattergeo"
           }
          ],
          "scattergl": [
           {
            "marker": {
             "line": {
              "color": "#283442"
             }
            },
            "type": "scattergl"
           }
          ],
          "scattermapbox": [
           {
            "marker": {
             "colorbar": {
              "outlinewidth": 0,
              "ticks": ""
             }
            },
            "type": "scattermapbox"
           }
          ],
          "scatterpolar": [
           {
            "marker": {
             "colorbar": {
              "outlinewidth": 0,
              "ticks": ""
             }
            },
            "type": "scatterpolar"
           }
          ],
          "scatterpolargl": [
           {
            "marker": {
             "colorbar": {
              "outlinewidth": 0,
              "ticks": ""
             }
            },
            "type": "scatterpolargl"
           }
          ],
          "scatterternary": [
           {
            "marker": {
             "colorbar": {
              "outlinewidth": 0,
              "ticks": ""
             }
            },
            "type": "scatterternary"
           }
          ],
          "surface": [
           {
            "colorbar": {
             "outlinewidth": 0,
             "ticks": ""
            },
            "colorscale": [
             [
              0,
              "#0d0887"
             ],
             [
              0.1111111111111111,
              "#46039f"
             ],
             [
              0.2222222222222222,
              "#7201a8"
             ],
             [
              0.3333333333333333,
              "#9c179e"
             ],
             [
              0.4444444444444444,
              "#bd3786"
             ],
             [
              0.5555555555555556,
              "#d8576b"
             ],
             [
              0.6666666666666666,
              "#ed7953"
             ],
             [
              0.7777777777777778,
              "#fb9f3a"
             ],
             [
              0.8888888888888888,
              "#fdca26"
             ],
             [
              1,
              "#f0f921"
             ]
            ],
            "type": "surface"
           }
          ],
          "table": [
           {
            "cells": {
             "fill": {
              "color": "#506784"
             },
             "line": {
              "color": "rgb(17,17,17)"
             }
            },
            "header": {
             "fill": {
              "color": "#2a3f5f"
             },
             "line": {
              "color": "rgb(17,17,17)"
             }
            },
            "type": "table"
           }
          ]
         },
         "layout": {
          "annotationdefaults": {
           "arrowcolor": "#f2f5fa",
           "arrowhead": 0,
           "arrowwidth": 1
          },
          "autotypenumbers": "strict",
          "coloraxis": {
           "colorbar": {
            "outlinewidth": 0,
            "ticks": ""
           }
          },
          "colorscale": {
           "diverging": [
            [
             0,
             "#8e0152"
            ],
            [
             0.1,
             "#c51b7d"
            ],
            [
             0.2,
             "#de77ae"
            ],
            [
             0.3,
             "#f1b6da"
            ],
            [
             0.4,
             "#fde0ef"
            ],
            [
             0.5,
             "#f7f7f7"
            ],
            [
             0.6,
             "#e6f5d0"
            ],
            [
             0.7,
             "#b8e186"
            ],
            [
             0.8,
             "#7fbc41"
            ],
            [
             0.9,
             "#4d9221"
            ],
            [
             1,
             "#276419"
            ]
           ],
           "sequential": [
            [
             0,
             "#0d0887"
            ],
            [
             0.1111111111111111,
             "#46039f"
            ],
            [
             0.2222222222222222,
             "#7201a8"
            ],
            [
             0.3333333333333333,
             "#9c179e"
            ],
            [
             0.4444444444444444,
             "#bd3786"
            ],
            [
             0.5555555555555556,
             "#d8576b"
            ],
            [
             0.6666666666666666,
             "#ed7953"
            ],
            [
             0.7777777777777778,
             "#fb9f3a"
            ],
            [
             0.8888888888888888,
             "#fdca26"
            ],
            [
             1,
             "#f0f921"
            ]
           ],
           "sequentialminus": [
            [
             0,
             "#0d0887"
            ],
            [
             0.1111111111111111,
             "#46039f"
            ],
            [
             0.2222222222222222,
             "#7201a8"
            ],
            [
             0.3333333333333333,
             "#9c179e"
            ],
            [
             0.4444444444444444,
             "#bd3786"
            ],
            [
             0.5555555555555556,
             "#d8576b"
            ],
            [
             0.6666666666666666,
             "#ed7953"
            ],
            [
             0.7777777777777778,
             "#fb9f3a"
            ],
            [
             0.8888888888888888,
             "#fdca26"
            ],
            [
             1,
             "#f0f921"
            ]
           ]
          },
          "colorway": [
           "#636efa",
           "#EF553B",
           "#00cc96",
           "#ab63fa",
           "#FFA15A",
           "#19d3f3",
           "#FF6692",
           "#B6E880",
           "#FF97FF",
           "#FECB52"
          ],
          "font": {
           "color": "#f2f5fa"
          },
          "geo": {
           "bgcolor": "rgb(17,17,17)",
           "lakecolor": "rgb(17,17,17)",
           "landcolor": "rgb(17,17,17)",
           "showlakes": true,
           "showland": true,
           "subunitcolor": "#506784"
          },
          "hoverlabel": {
           "align": "left"
          },
          "hovermode": "closest",
          "mapbox": {
           "style": "dark"
          },
          "paper_bgcolor": "rgb(17,17,17)",
          "plot_bgcolor": "rgb(17,17,17)",
          "polar": {
           "angularaxis": {
            "gridcolor": "#506784",
            "linecolor": "#506784",
            "ticks": ""
           },
           "bgcolor": "rgb(17,17,17)",
           "radialaxis": {
            "gridcolor": "#506784",
            "linecolor": "#506784",
            "ticks": ""
           }
          },
          "scene": {
           "xaxis": {
            "backgroundcolor": "rgb(17,17,17)",
            "gridcolor": "#506784",
            "gridwidth": 2,
            "linecolor": "#506784",
            "showbackground": true,
            "ticks": "",
            "zerolinecolor": "#C8D4E3"
           },
           "yaxis": {
            "backgroundcolor": "rgb(17,17,17)",
            "gridcolor": "#506784",
            "gridwidth": 2,
            "linecolor": "#506784",
            "showbackground": true,
            "ticks": "",
            "zerolinecolor": "#C8D4E3"
           },
           "zaxis": {
            "backgroundcolor": "rgb(17,17,17)",
            "gridcolor": "#506784",
            "gridwidth": 2,
            "linecolor": "#506784",
            "showbackground": true,
            "ticks": "",
            "zerolinecolor": "#C8D4E3"
           }
          },
          "shapedefaults": {
           "line": {
            "color": "#f2f5fa"
           }
          },
          "sliderdefaults": {
           "bgcolor": "#C8D4E3",
           "bordercolor": "rgb(17,17,17)",
           "borderwidth": 1,
           "tickwidth": 0
          },
          "ternary": {
           "aaxis": {
            "gridcolor": "#506784",
            "linecolor": "#506784",
            "ticks": ""
           },
           "baxis": {
            "gridcolor": "#506784",
            "linecolor": "#506784",
            "ticks": ""
           },
           "bgcolor": "rgb(17,17,17)",
           "caxis": {
            "gridcolor": "#506784",
            "linecolor": "#506784",
            "ticks": ""
           }
          },
          "title": {
           "x": 0.05
          },
          "updatemenudefaults": {
           "bgcolor": "#506784",
           "borderwidth": 0
          },
          "xaxis": {
           "automargin": true,
           "gridcolor": "#283442",
           "linecolor": "#506784",
           "ticks": "",
           "title": {
            "standoff": 15
           },
           "zerolinecolor": "#283442",
           "zerolinewidth": 2
          },
          "yaxis": {
           "automargin": true,
           "gridcolor": "#283442",
           "linecolor": "#506784",
           "ticks": "",
           "title": {
            "standoff": 15
           },
           "zerolinecolor": "#283442",
           "zerolinewidth": 2
          }
         }
        },
        "xaxis": {
         "anchor": "y",
         "domain": [
          0,
          1
         ],
         "title": {
          "text": "tsne_1"
         }
        },
        "yaxis": {
         "anchor": "x",
         "domain": [
          0,
          1
         ],
         "title": {
          "text": "tsne_2"
         }
        }
       }
      }
     },
     "metadata": {},
     "output_type": "display_data"
    }
   ],
   "source": [
    "\n",
    "model = TSNE(n_components=2, perplexity=30) # el preplexity es para que salga chido\n",
    "resultado = model.fit_transform(X)\n",
    "#get_ngrams(1, df[df['target_number'] == 'not-real-disaster']['clean_tweets'])new['tsne_1'] = resultado[:,0]\n",
    "#new['tsne_2'] = resultado[:,1]\n",
    "\n",
    "\n",
    "\n",
    "\n",
    "import plotly.express as px\n",
    "\n",
    "fsne_result = pd.DataFrame({\"tsne_1\": resultado[:, 0], \"tsne_2\":resultado[:, 1]})\n",
    "fsne_result[\"label\"] = df[\"Clasificacion\"]\n",
    "fsne_result[\"text\"] = df[\"Texto\"]\n",
    "print(fsne_result.head())\n",
    "\n",
    "fig = px.scatter(\n",
    "    data_frame=fsne_result,\n",
    "    x=fsne_result[\"tsne_1\"],\n",
    "    y=fsne_result[\"tsne_2\"],\n",
    "    color=fsne_result[\"label\"],\n",
    "    template=\"plotly_dark\",\n",
    "    hover_data=[\"text\"],\n",
    ")\n",
    "\n",
    "fig.show()"
   ]
  },
  {
   "cell_type": "code",
   "execution_count": null,
   "metadata": {},
   "outputs": [],
   "source": []
  }
 ],
 "metadata": {
  "kernelspec": {
   "display_name": "venv",
   "language": "python",
   "name": "python3"
  },
  "language_info": {
   "codemirror_mode": {
    "name": "ipython",
    "version": 3
   },
   "file_extension": ".py",
   "mimetype": "text/x-python",
   "name": "python",
   "nbconvert_exporter": "python",
   "pygments_lexer": "ipython3",
   "version": "3.11.5"
  }
 },
 "nbformat": 4,
 "nbformat_minor": 2
}
