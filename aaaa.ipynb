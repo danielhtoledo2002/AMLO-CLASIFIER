{
 "cells": [
  {
   "cell_type": "code",
   "execution_count": 1,
   "metadata": {},
   "outputs": [
    {
     "data": {
      "text/plain": [
       "<Axes: xlabel='Clasificacion'>"
      ]
     },
     "execution_count": 1,
     "metadata": {},
     "output_type": "execute_result"
    },
    {
     "data": {
      "image/png": "[encoded data removed]",
      "text/plain": [
       "<Figure size 640x480 with 1 Axes>"
      ]
     },
     "metadata": {},
     "output_type": "display_data"
    }
   ],
   "source": [
    "# file to experiment\n",
    "import seaborn as sns\n",
    "import matplotlib.pyplot as plt\n",
    "import re\n",
    "import nltk\n",
    "import numpy as np\n",
    "import pandas as pd\n",
    "import plotly.express as px\n",
    "import spacy\n",
    "from nltk.corpus import stopwords\n",
    "from spacy.lang.es.examples import sentences\n",
    "\n",
    "nlp = spacy.load(\"es_core_news_sm\")\n",
    "df = pd.read_csv(\"amlo.csv\")\n",
    "spanish_stopwords = stopwords.words(\"spanish\")\n",
    "\n",
    "# code to delete information that doesn't have enought words\n",
    "# df = df[df[\"Texto\"].str.split().str.len() >= 15 ]\n",
    "# df.to_csv(\"amlo.csv\", index=False)\n",
    "\n",
    "# experiments\n",
    "def text_processing(text):\n",
    "    text = text.lower()\n",
    "    text = re.sub(r\"(@[A-Za-z0-9_]+)|([^0-9A-Za-zÁáÉéÍíÓóÚúÜüÑñ \\t])|(\\w+:\\/\\/\\S+)\", \"\", text)\n",
    "    text = nlp(text)\n",
    "    lema = []\n",
    "    for token in text:\n",
    "        lema.append(token.lemma_)\n",
    "    text = lema\n",
    "    text = ' '.join(text)\n",
    "    text = nlp(text).vector\n",
    "    return text\n",
    "def aaa(text):\n",
    "    text = text.lower()\n",
    "    text = re.sub(r\"(@[A-Za-z0-9_]+)|([^0-9A-Za-zÁáÉéÍíÓóÚúÜüÑñ \\t])|(\\w+:\\/\\/\\S+)\", \"\", text)\n",
    "    text = nlp(text)\n",
    "    lema = []\n",
    "    for token in text:\n",
    "        lema.append(token.lemma_)\n",
    "    text = lema\n",
    "    text = ' '.join(text)\n",
    "\n",
    "    return text\n",
    "\n",
    "\n",
    "df[\"vector\"] = df[\"Texto\"].apply(text_processing)\n",
    "df[\"text_proc\"] = df[\"Texto\"].apply(aaa)\n",
    "\n",
    "\n",
    "df['Clasificacion'].value_counts().plot(kind='bar')\n",
    "\n"
   ]
  },
  {
   "cell_type": "code",
   "execution_count": 2,
   "metadata": {},
   "outputs": [
    {
     "data": {
      "text/html": [
       "<div>\n",
       "<style scoped>\n",
       "    .dataframe tbody tr th:only-of-type {\n",
       "        vertical-align: middle;\n",
       "    }\n",
       "\n",
       "    .dataframe tbody tr th {\n",
       "        vertical-align: top;\n",
       "    }\n",
       "\n",
       "    .dataframe thead th {\n",
       "        text-align: right;\n",
       "    }\n",
       "</style>\n",
       "<table border=\"1\" class=\"dataframe\">\n",
       "  <thead>\n",
       "    <tr style=\"text-align: right;\">\n",
       "      <th></th>\n",
       "      <th>Texto</th>\n",
       "      <th>Clasificacion</th>\n",
       "      <th>vector</th>\n",
       "      <th>text_proc</th>\n",
       "      <th>cla_num</th>\n",
       "    </tr>\n",
       "  </thead>\n",
       "  <tbody>\n",
       "    <tr>\n",
       "      <th>0</th>\n",
       "      <td>También vamos a informar este primer día hábil...</td>\n",
       "      <td>apoyo</td>\n",
       "      <td>[0.79579973, 0.42409912, 0.19724745, -0.840587...</td>\n",
       "      <td>también ir a informar este primero día hábil d...</td>\n",
       "      <td>4</td>\n",
       "    </tr>\n",
       "    <tr>\n",
       "      <th>1</th>\n",
       "      <td>Y ahora se va a informar porque se está optand...</td>\n",
       "      <td>apoyo</td>\n",
       "      <td>[0.6353484, 0.49206573, 0.27349722, -0.8813032...</td>\n",
       "      <td>y ahora él ir a informar porque él estar optar...</td>\n",
       "      <td>4</td>\n",
       "    </tr>\n",
       "    <tr>\n",
       "      <th>2</th>\n",
       "      <td>En esta etapa se combinan los bancos particula...</td>\n",
       "      <td>apoyo</td>\n",
       "      <td>[0.3584754, 0.4897973, 0.14290081, -1.0719811,...</td>\n",
       "      <td>en este etapa él combinar el banco particular ...</td>\n",
       "      <td>4</td>\n",
       "    </tr>\n",
       "    <tr>\n",
       "      <th>3</th>\n",
       "      <td>También Ariadna Montiel, que es la secretaria ...</td>\n",
       "      <td>apoyo</td>\n",
       "      <td>[0.5383173, 0.47535262, 0.24838983, -0.7503995...</td>\n",
       "      <td>también ariadna montiel que ser el secretaria ...</td>\n",
       "      <td>4</td>\n",
       "    </tr>\n",
       "    <tr>\n",
       "      <th>4</th>\n",
       "      <td>Pero tenerlas terminadas no significa tenerlas...</td>\n",
       "      <td>apoyo</td>\n",
       "      <td>[0.33861512, 0.8603513, 0.22871493, -0.8091768...</td>\n",
       "      <td>pero tenerla terminado no significar tenerlos ...</td>\n",
       "      <td>4</td>\n",
       "    </tr>\n",
       "    <tr>\n",
       "      <th>...</th>\n",
       "      <td>...</td>\n",
       "      <td>...</td>\n",
       "      <td>...</td>\n",
       "      <td>...</td>\n",
       "      <td>...</td>\n",
       "    </tr>\n",
       "    <tr>\n",
       "      <th>449</th>\n",
       "      <td>Eso es lo que le puedo decir, con todo respeto...</td>\n",
       "      <td>exterior</td>\n",
       "      <td>[0.08910938, 0.42923826, 0.11195223, -0.818825...</td>\n",
       "      <td>ese ser él que él poder decir con todo respeto...</td>\n",
       "      <td>0</td>\n",
       "    </tr>\n",
       "    <tr>\n",
       "      <th>450</th>\n",
       "      <td>Se va a llegar a concretar porque es que los ...</td>\n",
       "      <td>exterior</td>\n",
       "      <td>[0.62809396, 0.23875064, 0.13055657, -1.398253...</td>\n",
       "      <td>él ir a llegar a concretar porque ser que el...</td>\n",
       "      <td>0</td>\n",
       "    </tr>\n",
       "    <tr>\n",
       "      <th>451</th>\n",
       "      <td>Entonces, tenemos que hablar mucho con nuestro...</td>\n",
       "      <td>seguridad</td>\n",
       "      <td>[0.5037492, 0.47401336, 0.49750805, -0.8337091...</td>\n",
       "      <td>entonces tener que hablar mucho con nuestro pa...</td>\n",
       "      <td>5</td>\n",
       "    </tr>\n",
       "    <tr>\n",
       "      <th>452</th>\n",
       "      <td>Es que ya lo están haciendo. Y a lo mejor el…...</td>\n",
       "      <td>exterior</td>\n",
       "      <td>[0.6371676, 0.5459179, 0.19836979, -0.9584494,...</td>\n",
       "      <td>ser que ya él estar hacer y a él mejor el bu...</td>\n",
       "      <td>0</td>\n",
       "    </tr>\n",
       "    <tr>\n",
       "      <th>453</th>\n",
       "      <td>¿Y qué? ¿No importa el pueblo? ¿No un bloqueo ...</td>\n",
       "      <td>seguridad</td>\n",
       "      <td>[0.7102826, 0.8576276, 0.16033341, -0.7847715,...</td>\n",
       "      <td>y qué no importar el pueblo no uno bloqueo él ...</td>\n",
       "      <td>5</td>\n",
       "    </tr>\n",
       "  </tbody>\n",
       "</table>\n",
       "<p>454 rows × 5 columns</p>\n",
       "</div>"
      ],
      "text/plain": [
       "                                                 Texto Clasificacion  \\\n",
       "0    También vamos a informar este primer día hábil...         apoyo   \n",
       "1    Y ahora se va a informar porque se está optand...         apoyo   \n",
       "2    En esta etapa se combinan los bancos particula...         apoyo   \n",
       "3    También Ariadna Montiel, que es la secretaria ...         apoyo   \n",
       "4    Pero tenerlas terminadas no significa tenerlas...         apoyo   \n",
       "..                                                 ...           ...   \n",
       "449  Eso es lo que le puedo decir, con todo respeto...      exterior   \n",
       "450   Se va a llegar a concretar porque es que los ...      exterior   \n",
       "451  Entonces, tenemos que hablar mucho con nuestro...     seguridad   \n",
       "452   Es que ya lo están haciendo. Y a lo mejor el…...      exterior   \n",
       "453  ¿Y qué? ¿No importa el pueblo? ¿No un bloqueo ...     seguridad   \n",
       "\n",
       "                                                vector  \\\n",
       "0    [0.79579973, 0.42409912, 0.19724745, -0.840587...   \n",
       "1    [0.6353484, 0.49206573, 0.27349722, -0.8813032...   \n",
       "2    [0.3584754, 0.4897973, 0.14290081, -1.0719811,...   \n",
       "3    [0.5383173, 0.47535262, 0.24838983, -0.7503995...   \n",
       "4    [0.33861512, 0.8603513, 0.22871493, -0.8091768...   \n",
       "..                                                 ...   \n",
       "449  [0.08910938, 0.42923826, 0.11195223, -0.818825...   \n",
       "450  [0.62809396, 0.23875064, 0.13055657, -1.398253...   \n",
       "451  [0.5037492, 0.47401336, 0.49750805, -0.8337091...   \n",
       "452  [0.6371676, 0.5459179, 0.19836979, -0.9584494,...   \n",
       "453  [0.7102826, 0.8576276, 0.16033341, -0.7847715,...   \n",
       "\n",
       "                                             text_proc  cla_num  \n",
       "0    también ir a informar este primero día hábil d...        4  \n",
       "1    y ahora él ir a informar porque él estar optar...        4  \n",
       "2    en este etapa él combinar el banco particular ...        4  \n",
       "3    también ariadna montiel que ser el secretaria ...        4  \n",
       "4    pero tenerla terminado no significar tenerlos ...        4  \n",
       "..                                                 ...      ...  \n",
       "449  ese ser él que él poder decir con todo respeto...        0  \n",
       "450    él ir a llegar a concretar porque ser que el...        0  \n",
       "451  entonces tener que hablar mucho con nuestro pa...        5  \n",
       "452    ser que ya él estar hacer y a él mejor el bu...        0  \n",
       "453  y qué no importar el pueblo no uno bloqueo él ...        5  \n",
       "\n",
       "[454 rows x 5 columns]"
      ]
     },
     "execution_count": 2,
     "metadata": {},
     "output_type": "execute_result"
    }
   ],
   "source": [
    "df.head(10)\n",
    "def clasification_to_num(text):\n",
    "  if text == 'exterior':\n",
    "    return 0\n",
    "  elif text == 'economia':\n",
    "    return 1\n",
    "  elif text == 'opinion' :\n",
    "    return 2\n",
    "  elif text == 'competencia':\n",
    "    return 3\n",
    "  elif text == 'apoyo':\n",
    "    return 4\n",
    "  elif text == 'seguridad':\n",
    "    return 5\n",
    "  \n",
    "df['cla_num'] = df['Clasificacion'].apply(clasification_to_num)\n",
    "df.head(9)\n",
    "\n",
    "df\n",
    "  \n",
    "  "
   ]
  },
  {
   "cell_type": "code",
   "execution_count": 30,
   "metadata": {},
   "outputs": [
    {
     "data": {
      "text/plain": [
       "(227, 192)"
      ]
     },
     "execution_count": 30,
     "metadata": {},
     "output_type": "execute_result"
    }
   ],
   "source": [
    "\n",
    "from nltk.util import ngrams\n",
    "from nltk import word_tokenize\n",
    "import matplotlib.pyplot as plt\n",
    "\n",
    "from nltk.corpus import stopwords\n",
    "from nltk.stem.wordnet import WordNetLemmatizer\n",
    "from PIL import Image\n",
    "import numpy as np\n",
    "from sklearn.feature_extraction.text import TfidfVectorizer\n",
    "from sklearn.manifold import TSNE\n",
    "import plotly.express as px\n",
    "from sklearn.model_selection import train_test_split\n",
    "from sklearn.linear_model import LogisticRegression\n",
    "from sklearn.metrics import classification_report, confusion_matrix\n",
    "import seaborn as sns\n",
    "\n",
    "X = df['vector']\n",
    "X = np.concatenate(X,axis=0).reshape(-1,192)\n",
    "X.shape\n",
    "#43584"
   ]
  },
  {
   "cell_type": "code",
   "execution_count": 31,
   "metadata": {},
   "outputs": [
    {
     "name": "stdout",
     "output_type": "stream",
     "text": [
      "     tsne_1    tsne_2  label  \\\n",
      "0 -0.488100 -0.457282      4   \n",
      "1 -3.167167  2.505589      4   \n",
      "2 -0.274924 -1.345065      4   \n",
      "3 -0.041461 -1.066394      4   \n",
      "4 -0.548837  0.314880      4   \n",
      "\n",
      "                                                text  \n",
      "0  también ir a informar este primero día hábil d...  \n",
      "1  y ahora él ir a informar porque él estar optar...  \n",
      "2  en este etapa él combinar el banco particular ...  \n",
      "3  también ariadna montiel que ser el secretaria ...  \n",
      "4  pero tenerla terminado no significar tenerlos ...  \n"
     ]
    },
    {
     "data": {
      "application/vnd.plotly.v1+json": {
       "config": {
        "plotlyServerURL": "https://plot.ly"
       },
       "data": [
        {
         "customdata": [
          [
           "también ir a informar este primero día hábil del año 2023 sobre el dispersión de el fondo para el adulto mayor que ir a iniciar este semana y querer informar porque ya ser mucho y cuando no haber información estar inquieto esperar que llegar su pensión que por derecho él corresponder"
          ],
          [
           "y ahora él ir a informar porque él estar optar por uno calendario de acuerdo a el letra del primero apellido el primero letra del primero apellido para que ir al banco cuando él tocar y este ir a ayudar mucho porque ya estar hablar de millón de adulto mayor y haber además otro beneficiario que también tener que llegar a el banco"
          ],
          [
           "en este etapa él combinar el banco particular comercial con el banco del bienestar pero hacia adelante ya ir a ser sólo el banco del bienestar también sobre cómo él ir a llevar a cabo este transición él ir a ir informar y ser uno proceso no ser de uno día para otro"
          ],
          [
           "también ariadna montiel que ser el secretaria de bienestar ir a informarno hoy sobre cuándo empezar el pago que todavía él tener que hacer en efectivo porque ser comunidad mucho apartado en donde estar en proceso de construcción y de operación de banco del bienestar pero todavía de el cerca de tres mil sucursal tener ya como dos mil 300 dos 500 terminada ir por 500 este primero semestre ir a terminar"
          ],
          [
           "pero tenerla terminado no significar tenerlos operar porque él requerir tener cajero él requerir comunicación él requerir pues que funcionar entonces yo ir a llevar todo el primero mitad de este año que ya estar el tres mil sucursal del banco del bienestar entonces sí ya no él ir a pagar en efectivo y ir a estar mucho cerca el sucursal del banco de el gente"
          ],
          [
           "también él ocurrido ayer en chihuahua en ciudad juárez él adelanto ir a haber uno conferencia de prensa a el 1100 por parte del gabinete de seguridad aquí mismo para informar él sobre todo él sucedido él estar también esperar que informir más el gobierno del estado de chihuahua que ya él estar hacer pero para informar por completo a el 1100 de el mañana aquí mismo ir a estar el gabinete de seguridad"
          ],
          [
           "  bueno ahora que estar con yo el gobernador alfredo del mazo él hablar del tema él informar estar consciente de que hacer falta más actividad más acción en él que tener que ver con el feminicidio y dar a conocer el que ya estar aplicar él en este necesidad de garantizar el paz el tranquilidad el que no él agredar a el mujer que no haber feminicidio"
          ],
          [
           "y ir a estar yo pendiente mañana ir a informar sobre seguridad a nivel del país pero ir a estar el secretaria de seguridad público rosa icela rodríguez y él poder ampliar el información sobre él que estar suceder en el estado de méxico"
          ],
          [
           "querer decir que tener mucho buen relación con el gobierno del estado de méxico que considerar que estar funcionar bien el fiscalía del estado de méxico y uno ejemplo reciente ser que él revisar el caso de uno persona que atropellar a uno peatón uno trabajador de el calle alguien que él buscar el vida vender tamal y que él él haber dar el libertad y él plantear aquí y él agradecer mucho al gobierno del estado de méxico a el fiscalía que retomar el caso y él volver a detener a este persona porque ser mucho comentado hablar él de influyentismo y ya haber llegar a el conclusión y así él demostrar el hecho que no él permitir el influyentismo ni en el gobierno federal y en este caso en gobierno estatal como quedar demostrado en el caso del gobierno del estado de méxico por ese mi reconocimiento a él que hacer"
          ],
          [
           "  no pero si poder ayudar orientar a el pensionado yo poner de acuerdo que vengar aquí y yo él ayudar en el gestión si ser algo que tener que ver con él federal tener que atender él tener que haber justicia si ser uno asunto del estado hacer el gestión el trámite y repito tener mucho buen relación con el gobierno del estado de méxico"
          ],
          [
           "primero en el fortaleza cultural de nuestro pueblo de ahí venir todo de ahí dimán nuestro fortaleza para resistir cualquiera calamidad llámese pandemio crisis económico malo gobierno huracanser temblor"
          ],
          [
           "no haber valorar él suficiente el importancia que tener el haber heredar virtud de el sociedad prehispánica yo creer que haber que replantear yo ese porque yo haber limitar a estudiar el historia de méxico y su cultura a partir de el llegada de el europeo a partir de el invasión de españa que ser 500 año pero este país tener cultura y civilización milenaria"
          ],
          [
           "méxico no él fundar con el llegada de el español hacer 500 año ser más ni siquiera él fundar a partir de el llegada de el mexica a él que hoy ser el ciudad de méxico antes tenochtitlar porque ese él dar 200 año antes de el llegada de el europeo 1322 1323 de acuerdo a el investigación arqueológico histórico"
          ],
          [
           "pero estar ahora en palencar y resultar que ese sitio arqueológico él construir mil año antes de que llegar el español y ahí estar el arte ahí estar el conocimiento de el astronomía de el matemática de el arquitectura de el ciencia y más atrás el cultura madre el cultura olmeca 900 año antes de cristo entonces imagínense él que heredar históricamente ese ser él que yo haber salvar siempre"
          ],
          [
           "y él otro ser nuestro proceso histórico que ser de el más importante y fecundo en el mundo por ese el neoliberal querer que ya no él hablar de historia cuando imponer su modelo neoliberal hablar del fin de el historia"
          ],
          [
           "pues cómo a uno conservador él ir a gustar que él recordar a hidalgo si plantear el abolición de el esclavitud y el realista de ese entonces él oponer todo el llamado clase gobernante y él asesinar y él cortar el cabeza y él exhibir como escarmiento 10 año en el plaza de guanajuato imagínense el odio de tener el cabeza del padre de nuestro patria del cura hidalgo 10 año cómo ir a querer que él hablar de ese"
          ],
          [
           "yo estar seguro que el mayoría de el mexicano no él saber de que haber asesinar al padre hidalgo que él cortar el cabeza y luego él exhibir 10 año al contrario él que hacer durante el periodo neoliberal hasta financiar película para distorsionar el historia y proyectar uno imagen de hidalgo distinto y él mismo hacer con morelo"
          ],
          [
           "todavía recuerdo creer que ser en el 80 que uno buen actor presentar uno obra de more él el martirio de morelo uno obra de teatro pero ya no volví a ver nada de morelo y juárez"
          ],
          [
           "pero dónde estar el hidalgo en el mundo dónde estar el morelo dónde estar el juárez dónde estar el madero dónde estar el villa dónde estar el zapata dónde estar el general cárdena cuál ser el gobierno como el del general cárdena en el mundo"
          ],
          [
           "porque tener todo ese bagaje todo ese legado que yo guiar y por ese tener uno pueblo excepcional uno pueblo bueno uno pueblo fraterno solidario trabajador"
          ],
          [
           "no sí en el mayoría de el pueblo del mundo haber humanismo haber fraternidad pero él nuestro ser algo excepcional el humanismo mexicano"
          ],
          [
           "entonces por ese creer que ir a salir adelante que él ir a consolidar nuestro economía este año que ir a seguir crecer que ir a seguir mantener equilibrio macroeconómico que ir a tener buen recaudación que como no él permitir el corrupción y no él permitir el que haber lujo en el gobierno el presupuesto yo ir a alcanzar rinde"
          ],
          [
           "yo siempre él hablar de que cuando llegar al gobierno el presupuesto del 2018 en presidencia de el república ascender a tres mil 600 millón de pesos ahí estar en el cuenta público él poder constatar y este año apenas ir a llegar o el año del 22 porque ya él cerrar a 500 millón de tres mil 600 a 500 ya poder hasta hacer él el cuenta de gasto de viático de presidencia con el otro poder o con el organismo autónomo y él ir a encontrar cosa mucho importante"
          ],
          [
           "entonces en él económico bien en él social mucho mejor aquí estar ver cómo estar garantizar el compromiso de aumentar 25 por ciento el pensión a adulto mayor y como nunca él estar incrementar el presupuesto para el bienestar del pueblo sobre todo de el gente humilde este año"
          ],
          [
           "entonces todo ese ser empleo trabajo por ese hablar que en él económico bien en él social bien en él político él mismo porque si él atender al pueblo si no haber autoritarismo si no haber corrupción si no él violar el derechos humanos pues no él tener porque presentar problema"
          ],
          [
           "claro nuestro adversario tener otro propósito para el 2023 como él tener para el 2022 como él tener para el 2021 decir que como no yo caer bien el dictador y además ya fallecer decir el opositor a el dictadura de ese país y a ese dictador que estar aquí en méxico él reunir y él hacer así en el mesa este año caer y él él ser enchuecar el dedo yo ya él tener chueco pero así estar nuestro adversario"
          ],
          [
           "este año él acordar de aguilar camín que él dar el consejo el receta ir a ganar él el congreso y si él ganar el congreso él parar y después de ganar el congreso él ir a ganar el revocación del mandato y él ir a tener que ir a palencar así de enfático"
          ],
          [
           "y luego venir el gubernatura él ir a ganar el mayoría de el gubernatura él él enchuecar uno poquito más el dedo"
          ],
          [
           "pero querer conocer cuál ser su pronóstico que a yo yo ayudar para saber a ver qué estar pensar de el conservador corrupto"
          ],
          [
           "ayer estar yo ver a ver si él conseguir uno mensaje de claudio x gonzález y ahí estar su pronóstico en contra nuestro nada más para que el gente él conocer porque si no él quedar sólo en el círculo rojo y ahí sí ahí sí él creer lamentablemente"
          ],
          [
           "ayer venir yo en el avión de regreso y uno señor él parar con su teléfono y decir tener uno cosa que decir él no él enojo no no no para nada para nada para nada decir él hacer con respeto sí cómo no él escuchar"
          ],
          [
           "y entonces por qué estar destruir el país usted saber que ser uno de el gobierno más corrupto que haber haber en méxico por qué querer o querer destruir el ine por qué el empresa estar cerrar y no tener empleo el trabajador"
          ],
          [
           "y yo decir él él decir con respeto qué yo poder usted decir qué yo contestar porque tener otro cosa él decir no ya con ese tener él decir mirar él que tú poder decir ser que entre yo no yo ir a poder entender porque ser distinto y yo tú respetar y qué bien que yo plantear este también con respeto pero no yo ir a poder entender"
          ],
          [
           "yo hablastir del bien común él decir buscar el origen del término cómo él aplicar en méxico y para qué tú respondo mejor seguir tu camino ya no ser posible que tu cambi ni yo ir a cambiar mi manera de pensar y él único que yo faltar ser decir él si tener hijo pues sí él dar yo tiempo para explicar él cosa a tu hijo"
          ],
          [
           "y sí él decir a el gente humilde a el gente que él costar más trabajo obtener información él dedicar mucho tiempo pero ya en tu caso para qué pierdo el tiempo mejor ir a respetarno no yo ir a entender ser dos pensamiento completamente distinto"
          ],
          [
           "que como si haber dar cuenta el del avión cuando ya aterrizar uno aplauso claro venir yo de mi estado no ser uno encuesta tanto objetivo estar uno poco no cuchareado sino jicareado"
          ],
          [
           "el estrago del más gobierno de morena él hacer más evidente ese ser él que él apostar a que el estrago todo el mal que haber hacer el gobierno él hacer más evidente pues este ir a servir porque ya estar anunciar que ir a arreciar el guerra sucio no"
          ],
          [
           "y el división a su interior más marcado o ser apostar a que ir a haber ruptura también seguramente ya tener uno plan sobre ese"
          ],
          [
           "el unión de va por méxico o ser el que él encabezar él consolidar ese ser él que él desear con triunfo en el estado de méxico y en coahuila así como decir aguilar ir a ganar él el mayoría en el congreso y luego él ganar el revocación del mandato"
          ],
          [
           "tres el sociedad marca pautar el sociedad a ver politólogo sociólogo qué ser el sociedad qué no ser pueblo ser el sociedad"
          ],
          [
           "marca pauta porque el sociedad ser todo desde el punto de vista conceptual ser todo pobre rico ser sociedad pero aquí el sociedad tener que ver con el élite porque si él usar por ejemplo el ciudadanía ser más igualitario porque el ciudadano ser todo aquel que después de 18 año tener derecho y tener obligación de acuerdo a el constitución ser todo el mexicano pero el sociedad el connotación ser elitista aunque desde el punto de vista teórico el sociedad ser también todo pero el connotación para uno conservador ser que el sociedad ser uno élite"
          ],
          [
           "entonces decir en el sociedad marca pautar el élite léar en el método de selección de candidato o candidata opositor a el presidencia"
          ],
          [
           "él ver con mucho optimismo yo ir a ir mucho bien en él económico ir a seguir mejorar el condición de vida y de trabajo de el mayoría de el mexicano"
          ],
          [
           "ir a seguir garantizar el paz el tranquilidad que ir bajar disminuir el incidencia delictivo"
          ],
          [
           "y en el parte político que sigar avanzar en el revolución de el consciencia en el politización que no ser polarización para defender el proyecto de transformación y que nunca más regresar uno forma de gobierno autoritario y corrupto ese en él político"
          ],
          [
           "y lograr todo este por el vía democrático y con el respeto absoluto a el libertad"
          ],
          [
           "  bueno que estar mucho contento con el llegada del presidente lula ser pues todo uno acontecimiento porque ser el regreso de uno proyecto popular no oligárquico y el presidente lula enfrentar uno envestida mucho fuerte que él llevar injustamente a el cárcel y él resistió y salir de prisión para volver a gobernar brasil"
          ],
          [
           "él lograr como él mismo él expresar ayer a pesar de que utilizar muchísimo dinero público y privado para evitar que triunfar y él lograr con el apoyo del pueblo de brasil por ese ser válido el frase de ricardo flores magón que sólo el pueblo poder salvar al pueblo y también el frase del patricio oaxaqueño paisano de ricardo flores magón de que sólo el pueblo poder salvar al pueblo con el pueblo todo sin el pueblo nada decir benito juárez"
          ],
          [
           "entonces yo dar mucho gusto yo representar beatriz porque haber uno relación de amistad yo informar de que el presidente lula él comentar que querer venir que ir a venir pronto que tener mucho deseo de estar en nuestro país y que él él transmitir que siempre ir a ser bienvenir a nuestro país que el pueblo de brasil el pueblo de méxico ser pueblo hermano ser hermano y además ahora con mucho coincidencia con el gobierno de brasil porque ese gobierno ir a luchar por el igualdad por el justicia también en situación complejo pero el presidente lula tener mucho oficio político ser uno hombre mucho experimentado ir a tener uno oposición beligerante"
          ],
          [
           "ya desde ayer él poner el banda representante del pueblo de brasil yo creer que ser más simbólico mucho más importante porque el señor bolsonaro decidir viajar en el víspera a estados unidos"
          ],
          [
           "y tampoco para yo el señor bolsonaro significar uno adversario mucho menos uno enemigo sencillamente ser proyecto distinto ser uno poco él del avión de ayer con el señor no ser nada personal"
          ],
          [
           "ya él platicar cómo en el último reunión que tener en el consejo de hombre de ya no ser hombre de negocio ser consejo mexicano de negocio yo preguntar claudio x gonzález papá él mismo que si por qué el polarización él decir no haber polarización ser politización y él decir con todo claridad que yo haber proponer transformar al país y que no ir a ser posible el transformación si no él dábar atención preferente a el pobre que además ese ser el razón de ser de nuestro movimiento ese ser él que tener que ver con nuestro convicción el amor al pueblo y sobre todo el amor a el más necesitado a el desposeído a el humillado"
          ],
          [
           "pero que además el pobre ser leal y que él poder confiar en él no así en el potentado no así en el medio de comunicación no así en el intelectual del régimen no así en sector de clase medio aspiracionista individualista"
          ],
          [
           "claro en todo haber excepción en empresario haber excepción empresario que tener dimensión social dimensión cívico en el periodista claro que haber excepción además ser importante diferenciar entre él que ser el élite del periodismo y el periodista no sólo incluir a quien hacer el nota sino a el que trabajar en el taller a el fotógrafo a el camarógrafo entonces sí haber diferencia"
          ],
          [
           "pero imagínense si yo querer transformar al país y yo apoyar en el potentado ser como poner el iglesia en manos de lutero no estar generalizar pero de acuerdo a mi experiencia de mucho año el pobre ser mucho leal pues ahí estar él que suceder en bolivia quién ser el que recuperar el movimiento de transformación en ese país en brasil quiénes ser el que votar por lula"
          ],
          [
           "entonces no haber que andar yo por el rama ser mucho claro si él él tener amor al pueblo si él apoyar a todo si él atender a todo si él escuchar a todo si él respetar a todo pero él él dar preferencia a el pobre no haber nada qué temer ese ser el estrategia"
          ],
          [
           "pero tú creer como ser antes de que atender a el potentado como en el época de porfirio díaz y de limantur que él secretacer de hacienda nada más estar para recibir a el llamado hombre de negocio en el secretaría de hacienda nunca él recibir a campesino ni a obrero ni a comerciante pequeño mediano ni a pequeño mediano empresario todo ser arriba"
          ],
          [
           "entonces este ya cambiar y repito no ser nada personal no ser de odio ser que yo considerar que ese ser el forma de tener uno sociedad mejor ahora sí que el aplicación correcto del término del concepto sociedad de tener uno pueblo mejor uno ciudadanía mejor este yo significar estabilidad"
          ],
          [
           "uno régimen corrupto autoritario antidemocrático no duro ser subversivo ese ser él que yo dejar como lección el porfiriato"
          ],
          [
           "y también el otro lección ser que uno democracia sólo poder tener éxito si atender al pueblo porque si no él voltear a ver al pueblo y él ayudar al pueblo pues no él contar con uno base social que ser fundamental para poder transformar"
          ],
          [
           "y el ejemplo de nuestro historia él tener con él que él hacer al presidente madero uno hombre bueno con uno idea sobre el política mucho bien enfocado hacia el libertad pero con poco importancia en él social sobre todo en el conflicto agrario en el problema de el tierra él por ese no poder o no querer hacer el alianza con el campesino con el zapatismo que ser él que él poder no fácil porque estar complicadísimo el asunto ser 34 año de dominio porfirista imagínense cómo estar enraizar ese régimen que ni el revolución poder cambiar él él avanzar pero en él político no"
          ],
          [
           "entonces ser mucho difícil pero el único posibilidad de enfrentarlo ser apoyar él en el pueblo entonces cuando él dividir porque hacer uno labor de zapa para que no él unir con zapata y él separar ser mucho triste por ejemplo que en el plan de ayala de 1911 zapatar él que plantear además del derecho a el tierra ser el desconocimiento del presidente madero y el reconocimiento de alguien que después inmediatamente después de su buen labor en el inicio de el revolución sobre todo en el batalla de ciudad juárez de chihuahua pascual orozco en el documento reconocer a pascual orozco el zapatista como el dirigente porque ya estar hecho el labor de separación"
          ],
          [
           "no ser uno asunto personal también no ser uno asunto de polarización no ser uno asunto de exclusión no ser que tener mucho millón de mexicano el deseo de lograr uno sociedad mejor y para ese él necesitar cambio transformación que no querer el conservador y hablar del conservador porque ser ese el conservador ser el que querer conservar el régimen mantener el estatus quo que nada cambiar conservar fuero conservar privilegio"
          ],
          [
           "entonces yo él que querer ser el transformación él estar avanzar o él ir a avanzar más este año este año ir a ser importantísimo porque ir ya a dejar sentada el base de el transformación futuro"
          ],
          [
           "no yo gustar decir que el proceso ser irreversible no todo cambiar pero sí ir a avanzar mucho mucho por el bien de méxico"
          ],
          [
           "  bueno hablábar de uno transformación que él iniciar hablábar de sentar el base pero uno transformación ser uno proceso ser como uno transformación permanente yo avanzar"
          ],
          [
           "también hacer uno momento mencionar que el porfiriato significar 34 año de dominio pero el neoliberalismo o neoporfirismo él llevar 36 año imagínense él meter hasta él más profundo hasta el médula pero también volver a el importancia de nuestro cultura no poder con el méxico profundo no poder el neoliberalismo por ese estar aquí"
          ],
          [
           "entonces ser bastante él que avanzar en querer que méxico ser país de uno cuanto 36 año con él mismo entonces tomar el institución crear uno república aparente dedicar el gobierno a facilitar el saqueo impulsar mucho uno estilo de vida en donde valer el que tener uno estilo de vida materialista individualista egoísta él fomentar desde luego el racismo el clasismo y él secuestrar a el institución"
          ],
          [
           "yo poder decir con todo respeto y también haber honroso excepción que el poder judicial estar secuestrado como estar secuestrar el poder ejecutivo entonces ir a ser labor hacia adelante liberar el poder judicial que juez que magistrado que ministro internalicir él que ser el justicia porque parecer paradójico o contradictorio pero no tener claro o no tener sentimiento emoción social en favor de el justicia"
          ],
          [
           "el poder judicial él ser eclipsar con el dinero el poder económico eclipsar casi por completo al poder judicial entonces sí hacer falta uno renovación ahí profundo"
          ],
          [
           "yo no él hacer porque tener que optar entre inconveniente ese ser el política decir importo este importar este él mismo este otro tener mucho cosa cómo prioricer qué ser primero qué ser segundo qué ser tercero para no fracasar ser todo uno estrategia"
          ],
          [
           "entonces decir hacer el lucha en el poder judicial ya él el expliqué uno día yo plantear uno reforma constitucional como el de zedillo que llevar a cabo en el poder judicial para cambiar ministro decir no ese no porque además no resolver el problema venir de abajo hacia arriba y también de arriba hacia abajo pero ser todo el cuerpo o sea ser juez ser uno pirámidir luego magistrado en medio y hasta arriba el supremo corte de justicia el ministro que ser 11"
          ],
          [
           "entonces cómo hacer él si desde el juez no todo pero haber uno concepción conservador que estar siempre a favor del cliente no a favor del pueblo no a favor del ciudadano mucho menos a favor del pobre cómo hacer él ahí ni modo que él él despidar a todo pero aun en ese caso que ser uno acto autoritario con quién él sustituir si durante el periodo neoliberal en el universidad él dejar de formar abogado y otro profesional con mística con principio con ideal con amor al pueblo con quién él él sustituir ser uno asunto complejo"
          ],
          [
           "yo recordar que él él haber comentar cuando ser jefe de gobierno yo asomé por el ventana y ver en el plaza que haber uno manifestación pero yo llamar el atención de que caminar en el plancha y todo con traje y corbata y ya ir observar más y yo dar contar que no sólo ser uno manifestación de persona con traje sino que traer alhaja y cadena y él ver el reloj de este de oro y anillo y yo llamar el atención"
          ],
          [
           "entonces pedir que yo investigarar quién ser pues puro policía judicial que haber despedir y que estar protestar por ese"
          ],
          [
           "entonces analizar qué ir a hacer tener otro cosa él principal acabar con el corrupción él principal ayudar a el gente él principal ser que él hacer consciencia de que por el bien de todo primero el pobre y así ir definir el prioridad que deber de ser como 100 porque también como el gobierno no estar orientado a servir al pueblo sino a simular que él representar al pueblo porque en realidad él que ser como ya él expresé ser uno facilitador del saqueo uno comité al servicio de uno minoría pero tener que hacer el faramalla de que hacer cosa y el instituto de el transparencia y el instituto anticorrupción y el instituto contra el monopolio o el monopolio y el instituto de el comunicación y el defensa de derechos humanos y el defensa de el mujer y el defensa de el obrero y el defensa todo organización no gubernamental pero puro cuento ahí él gastar mucho presupuesto en el aparato"
          ],
          [
           "entonces decidir bueno este ser el prioridad vámono que no haber instituto para apoyar a el adulto mayor sino mejor ir a destinarl a ver pon el lámina de cuánto ser el presupuesto para el 2023 el anterior otro otro este 339 mil millón para el adulto mayor casi 340 mil millón nunca en el historia sólo el bimestre 52 mil millón ser él que tener en uno año en promedio de presupuesto uno estado de el república y no haber instituto o ser todo ese andamiaje que crear para simular este ser directo"
          ],
          [
           "bueno regresar a él del poder judicial estar mucho complicado entonces a ver qué hacer ya él el platiqué que ser 11 ministro yo ir corresponder proponer a cuatro o cuatro terna si cuidar y mandar cuatro buena persona ya nada más faltarir dos para que de 11 tener seis porque él ir a requerir para el transformación tanto ser así que el ley que yo apruer en el legislativo el conservador acudir a el corte para pedir que él declarar inconstitucional"
          ],
          [
           "entonces sí ayudar por ejemplo el ley eléctrico que el conservador él vetar para ayudar a iberdrola de españa en contra de el comisión federal de electricidad y para que aumentar el tarifa de luz todavía como él ganar por mayoría simple en el cámara acudir al poder judicial para declarar él inconstitucional"
          ],
          [
           "entonces ahí para que él declarar inconstitucional uno ley él requerir dos tercero parte entonces de el 11 ministro si él contar con cuatro ya con ese él asegurar que no declarar inconstitucional uno ley cuatro no incondicional cuatro que defiendar el proyecto de transformación que no pertenecer al viejo régimen"
          ],
          [
           "entonces venir ahora el cambio de presidente cómo ser antes pues el presidente de el república él nombrar pero yo no tener mayoría ni siquiera aspirar a ese a tener dominio de otro poder porque ser demócrata y querer que haber uno verdadero estado de derecho no como suceder antes que él que haber ser uno estado de chueco pero ese ser como el señor de avión de ayer cuándo él ir a entender el del gremio de abogado también con honroso excepción ser como él que naturar no dar salamanco no otorgar o sea no él poder"
          ],
          [
           "  hacer tú el investigación tú ya querer que yo hacer todo el trabajo o ser cuándo no pero cuánto año haber pasar cuánto año haber pasar y el medio no decir nada y callar"
          ],
          [
           "entonces como imaginar que el ministra yasmín ser en el mentalidad autoritario que tener este persona el designado por el presidente pobre abogado yasmín todo uno guerra de potentado medio de información columnista intelectual del régimen vendido y alquilado pero uno lanzado en contra de el señora"
          ],
          [
           "ya él expliqué de que yo no tener posibilidad ni siquiera yo importar ir a ser tarea ese sí de el que vengar ir a tener que reformar el poder judicial que estar mucho mal ahora él avanzar algo pero faltar convicción faltar ideal faltar principio"
          ],
          [
           "  no no tener ahí ninguno injerencia de ninguno tipo si yo ser como pensar mi adversario quedar quién el presidente decidiero pero no ser así no ser igual no él poder gobernar méxico sin autoridad moral si yo querer que quedar uno ministro uno ministra pues a ver como ser antes en él oscurito él pedir el favor que considerar el posibilidad"
          ],
          [
           "no preferir ir a hablar con el comunidad de el sierra norte de el sierra juárez preferir ir a sonora a yécora a ver cómo ir el ampliación del camino de chihuahua a guayma preferir ir con el yaqui qué no ser justicia devolverl 30 mil hectárea a el yaqui qué él hacer ahí en el corte en el poder judicial si él decir que para defender el industria eléctrico nacional yo costar trabajo"
          ],
          [
           "yo costar trabajo que él considerar a el facturero como delincuente porque ahí estar el macolla arriba pero ese no significar que el país estar en manos del conservadurismo y de claudio x gonzález y de héctor aguilar camín y de krauze aunque decir que no querer polemizar yo yo tampoco no ser uno asunto personal él que pasar ser que durante mucho tiempo callar y no ser porque él faltar inteligencia sino porque ser mucho conservador y acomodaticio"
          ],
          [
           "entonces haber que esperar él que decidir libremente el ministro y también institucionalmente porque ni modo que ir a declarar él el guerra al poder judicial institucionalmente el que quedar ser reconocer porque ser autónomo ser independiente y tener que haber colaboración porque por encima de todo estar el pueblo de méxico y adelante"
          ],
          [
           "haber cuestión mucho importante como por ejemplo el que sigar combatir el inseguridad el violencia él que él importar a el gente que seguir mejorar el ingreso que haber empleo que él controlar el inflación ese ser el tema él demá no ser tanto importante"
          ],
          [
           "ah y el tema de el transformación el que nunca más regresen el corrupto el gente él estar ver así porque él estar pensar que poder regresar aquí estar el deseo de claudio pero no además fijen él qué desfigure qué falta de respeto de el forma dónde estar el partido él suplantar a el partido de acuerdo a el constitución el partido ser entidad de interés público y uno representante del sector privado ya decidir sobre el partido a él mejor hoy él ir a responder el del pri o el del pan que él no ser pelel que no ser títer que no ser florero que no estar de adorno"
          ],
          [
           "  ya no ir a opinar sobre ese él que sí ser que recomendar desde ahora que él tener comunicación con el gente él más abierto posible y de manera directo porque si no el gobernante quedar atrapado por el medio de información él cercar y haber que brincar el cerco y haber que estar él informar él de manera directo a el gente"
          ],
          [
           "cuando yo triunfir ser porque tener comunicación con el gente no tener el apoyo de el medio convencional pero llegar a entregar 10 millón de ejemplar del periódico regeneración ser el medio más visto en el país o ser el información ser poder también que él entender que el poder sólo ser puro y él convertir en virtud cuando él poner al servicio de el demá pero información ser poder"
          ],
          [
           "si él dedicar a fabricar vehículo si él dedicar a tener banco si ser banquero tener también medio de información porque el medio de información él usar para extorsionar a el gobierno"
          ],
          [
           "si tú hacer uno análisis económico sobre él que dejar uno empresa de información como tal poder ser que perder pero como no ser ese empresa sino ser uno consorcio y ese empresa jugar uno papel entonces poder perder en ese empresa pero ganar en todo el demá y ganar muchísimo"
          ],
          [
           "entonces para que el autoridad no estar sometido chantajeado por ese corporativo él requerir tener información directo"
          ],
          [
           "además haber que garantizar él al pueblo el derecho a el información poder ser que no ser mañanero que ser al mediodía en el tarde que él tomar cómo él llamar uno video diario o dos vez al día pero que él estar informar"
          ],
          [
           "y yo para ese entonces ir estar allá escribir mi libro sobre el pensamiento conservador que yo ir a llevar como cinco año terminar él de tres a cinco año ya para entonces porque ya ir a terminar mi ciclo y ya decir que ni a el familiar ni a mi hijo que yo llegar a visitar sí pero ir a estar ahí el letrerito nada de política porque si no imaginen él"
          ],
          [
           "a veces yo dar gana de poner él fin pero él estar pensar pero ya tener el idea de cómo él ir articular ya ir a ser mi legado político y ya él demá que escribar porque sí no ir a dejar de escribir porque si no no poder salir adelante pero sí ir a ser más académico más teórico y para publicar cada tres año cada cinco año pero sí ir a tener mucho tarea"
          ],
          [
           "parte de él que sí ir a hacer no saber si público o en corto a quien ir a entregar él ser dejar él uno testimonio de él que considerar quedar pendiente este que estar hablar por ejemplo del poder judicial yo faltar ya ir a ser mucho difícil desmantelar todo el gobierno paralelo que crear para proteger el política neoliberal y otro cosa"
          ],
          [
           "no si el ine seguir como estar ser uno peligro para el democracia él ver en el elección pasado cómo quitar candidato sin fundamento legal al candidato de michoacán él quitar porque supuestamente no comprobar 30 mil pesos o él comprobar a destiempo"
          ],
          [
           "no no no ser mafio claro que ese haber que cambiar él quitar él haber que reformar él en cambio el señor de ayer estar pensar en que él opuesto él que buscar ser destruir el ine"
          ],
          [
           "  bueno el dos cosa que plantea ser mucho buena a yo yo gustar dar respuesta primero a tu último reflexión ese ser parte del pensamiento conservador él afianzar mucho en el porfiriato aunque venir de tiempo atrás pero en el porfiriato él decir que ser uno asunto de el fortuna de el suerte que desde que existir el mundo haber quien tener el suerte de salir adelante y otro el mayoría que no ir a poder salir adelante ser decir que el que nacer pobre morir pobre el pensamiento conservador ser ese"
          ],
          [
           "yo pensar distinto yo pensar que tener que ver con oportunidad y que tener que ver con el movilidad social que ser responsabilidad del estado o de el gobierno porque el más pobre el hijo de uno campesino de uno obrero de uno maestro de uno pequeño comerciante con el estudio con el trabajo poder ascender en el escala social"
          ],
          [
           "y cómo ser de que él ir el mexicano por necesidad a buscar él el vida en estados unidos y allá mejorar su condición económico y hoy yo envir casi 60 mil millón de dólares envir a su familia casi 60 mil millón de dólares ser el principal fuente de ingreso del país qué demostrar este"
          ],
          [
           "méxico ya ser no sólo uno potencia economío méxico ser de el país en el actualidad con mejor distribución del ingreso con mejor distribución de el riqueza ser uno de el país con más felicidad con más esperanza yo querer quitar hasta el derecho a el esperanza no haber poder por ese ser el coraje y tener que seguir adelante ese ser el pensamiento que tener que seguir enfrentar"
          ],
          [
           "y no enfrascarno en discusión que no yo ir a llevar a nada ser como él decir en mi tierra y en mi agua cuando alguien estar mucho cerrado ya no hablar seguir usted su camino ser mucho difícil que yo entendar ah su hijo quién saber su hija porque ser uno nuevo generación pero ya el caso de usted ya estar mucho avanzado y así yo pasar a todo"
          ],
          [
           "si haber uno país en el mundo lamentablemente vinculado a fraude ser méxico y ese ser él que tener que liquidar acabar y por ese ser uno de el cosa pendiente que ir a quedar uno verdadero reforma democrático porque el corrupción él gestar en méxico al amparo de el falta de democracia"
          ],
          [
           "pues yo tener el experiencia de que devolver impuesto ya hablar aquí de uno juicio no saber si de jumex o de el valle donde a este empresa él devolver el iva este empresa asesorado por diego fernández de cevallo y todo él que él devolver él recoger del presupuesto de el participación federal a el estado como yo ser jefe de gobierno además de que protestar pues yo doler mucho porque tener que regresar dinero de el participación para que él entregar a este empresa su devolución del iva"
          ],
          [
           "yo no saber si entonces este señor ser el director jurídico del sat pero luego él poner de director de grande contribuyente del sat"
          ],
          [
           "y luego director del sat en el época de el grande contribuyente y de el facturación falso"
          ],
          [
           "imagínense el fuerza que tener ese gremio que en el época de salinas quitar del código penal que el corrupción ser delito grave él quitar del código penal ser hasta ahora con nuestro reforma que ya ser delito grave pero este ministro regresar yo echar para atrás el que el defraudación fiscal ser delito grave con detención preventivo él echar para atrás"
          ],
          [
           "  pues que no ir a poder ya ese estar podrido o ser ese nacer para ser uno parapeto para simular de que haber transparencia en el país o para ese él crear ser uno organismo del conservadurismo corrupto de méxico ya no haber ni qué pensar que ir a salir cosa buena de ahí"
          ],
          [
           "él desde que nacer con fox él primero que plantear ser mantener el secreto tanto el fraude de odebrecht como precisamente el lista de todo el que recibir apoyo en condonación de impuesto durante fox el dos cosa y ser el instituto de el transparencia"
          ],
          [
           "pon a carmar aristegui pon él que poner del peso uno experto o sea cómo no él ir a cuidar en ese ser cuestión elemental pero no estar poner el enfado de marín el gruñón de marín con todo respeto no ser carmen aristegui para que ver qué nivel ser sobre el peso de cómo yo dañar o ser el que no él devalúe el peso el que estar fuerte el peso no yo ayudar ser él que decir según uno experto y así ser el periodismo del reforma y claro gente como el señor del avión pues desde luego que sí tener razón ser correcto o sea ya él yo hacer que este estar mal pero aquí venir uno experto y yo él explicar y ya yo convencí"
          ],
          [
           "y por ese hablar que neoliberalismo ser neoporfirismo este ya él aplicar este política de entreguismo de apoyar a el de arriba a el élite él aplicar cuando porfirio díaz él ser uno dirigente popular no tanto vinculado al pueblo pero sí venir de abajo y él proponer llegar al poder y entrar a el aristocracia de aquél entonces"
          ],
          [
           "entonces ir a ser mucho difícil que él encontrar algo de porfirio díaz a favor de el pobre yo él haber estudiar y casi no haber nada él que haber ser el justificación de el esclavitud de decir ni modo ser mucho doloroso pero él necesitar o ser mucho doloroso aplicar el leva ser decir obligar a el joven a el persona a formar parte por el fuerza del ejército pero haber que hacer él"
          ],
          [
           "bueno pues hoy martes como él hacer cada 15 día él ir a informar sobre seguridad ir a presentar uno informe amplio de todo el labor que él llevar a cabo para garantizar el paz el tranquilidad en el país sobre todo garantizar el tranquilidad y proteger a el mexicano"
          ],
          [
           "querer expresar mi satisfacción porque él ir avanzar en este asunto tanto delicado y al mismo tiempo tanto importante el de garantizar el paz y el tranquilidad en nuestro país estar trabajar todo el día ser el gabinete que más él reúnir de todo el gobierno ser con el que más yo reúno diario"
          ],
          [
           "y querer aprovechar para agradecer el apoyo de todo el integrante del gabinete de seguridad no estar todo pero agradecer a rosa icela rodríguez secretaria de seguridad al almirante josé rafael ojeda duer secretario de marina al general luis cresencio sandoval gonzález secretario de el defensa"
          ],
          [
           "uno de el avance importante en el estrategia ser el que trabajar de manera coordinado haber mucho otro acción que haber dar resultado desde luego él principal ser no olvidar que el paz ser fruto de el justicia atender a el joven atender a el gente que más él necesitar para que él detener el empobrecimiento del pueblo que no haber frustración que él poder salir adelante con trabajo honrado y que él poder ser feliz en el país sin caer en el camino de el conducta antisocial ese ser el base de todo"
          ],
          [
           "por ese como nunca él estar invertir en desarrollo económico y social como nunca él estar apoyar al pueblo y como nunca él estar dar atención a el joven ese ser el base"
          ],
          [
           "pero también ayudar mucho el que trabajar unido y que haber profesionalismo que no haber corrupción que no haber impunidad todo ese ser él que yo haber permitir enfrentar este complejo asunto de el inseguridad y el violencia pero ir a ver ahora el resultado ir a escuchar cómo haber avanzar y él dar el palabra a el secretaria de seguridad y protección ciudadano"
          ],
          [
           "ese no él ir a aceptar nunca nuestro adversario pero ser el verdad yo no imponer nada en el corte y ser tanto evidente aunque no él querer aceptar que el presidenta norma piña siempre haber votar en contra de el iniciativa que yo haber defender ser único el momento que estar vivir nadie poder decir que haber subordinación como ser antes de el poder al ejecutivo"
          ],
          [
           "durante década el poder de el poder ser el ejecutivo el poder legislativo y el poder judicial ser apéndiz estar subordinado desde el presidencia él dar órden y ese ya él terminar por ese sí estar en el cuarto transformación de el vida público del país y yo dar mucho gusto que este estar suceder en méxico porque ser para bien para que haber uno auténtico estado de derecho no como antes que ser uno estado de chueco"
          ],
          [
           "y ojalá y de manera independiente autónomo él llevar a cabo uno reforma en el poder judicial que urge por el corrupción que imperar haber que seguir limpiar todo el gobierno el tres poder purificar el vida público y que cada vez él respetar más al pueblo él atiendar más al pueblo que el institución no estar al servicio de minoría rapaz que no estar al servicio de el corrupción al servicio del dinero"
          ],
          [
           "el lunes próximo venir el presidente bidir ir a recibir al presidente bidir y al primero ministro trudeau yo dar mucho gusto que estar este dos mandatario de pueblo hermano vecino con yo él ir a llevar a cabo uno cumbre de el tres país de américa del norte y ir a tener también él ir a realizar reunión bilateral tanto con el presidente bidir como con el primero ministro trudeau"
          ],
          [
           "el presidente bidir ir a estar con yo el lunes estar por definir él el agenda desde luego él más relevante ser el tiempo que ir a destinar a tratar asunto de interés tanto para estados unidos como para méxico y él mismo en el caso de canadá con asunto de nuestro país entonces ser lunes martes miércoles"
          ],
          [
           "luego tener trabajo jueves viernes ir a hacer uno visita a oaxaca ir a ver uno camino que estar construir tanto camino artesanal como carretera que querer ir a supervisar y también el avance de el obra que él estar realizar en oaxaca para mejorar el situación de el camino y de el infraestructura que él afectar con el pasado huracán"
          ],
          [
           "posteriormente ir a seguir recorrer el país y yo esperar que est en sonora a finales del mes o a principios de febrero ir a estar allá que tener también mucho tema pendiente obra en proceso"
          ],
          [
           "y ir también a evaluar qué haber hacer el president municipal de el sierra que él entregar su presupuesto para mejorar el camino y tener que ir a sonora a ver cómo ir con el plan sonoro cómo ir con él del litio cómo ir con el construcción de el planta solar que ir a ser el más grande e importante de américa latino que él estar hacer en puerto peñasco en fin tener mucho cosa a ver si yo alcanzar el fin de semana"
          ],
          [
           "yo él comentar ayer que como nunca haber inversión público en el país ya no haber inversión público todo ser concesión autopista concesionada hospital concesionado reclusorio concesionado ser uno oficina el gobierno para entregar concesión y facilitar el transa para decir él coloquialmente"
          ],
          [
           "ahora no ahora el presupuesto estar llegar de manera directo a el gente y él estar usar para obra de infraestructura que antes él concesionar ahora él realizar ese obra con presupuesto público por ese no él cobrar en el carretera que él estar realizar porque también tener el filosofía el concepción de que ya el ciudadano contribuir como él decir comúnmente pagar impuesto que no deber de ser impuesto deber de ser contribución pero bueno ya él pagar el impuesto y además de que él pagar el impuesto para usar uno servicio haber que pagar otro impuesto ese ser indebir"
          ],
          [
           "estar construir uno puente de 10 kilómetro para comunicar a cancún el población con el zona hotelero que ya él convertir en uno problema vial serio el zona hotelero ya hasta por cuestión de seguridad de protección civil hacer falta uno puente uno salida de el zona hotelero a cancún al territorio bueno ser uno puente como de 10 12 kilómetro sobre el laguna con uno costo estimado también de 10 12 mil millón de pesos ya estar el proyecto para hacer el puente pero de paga cobrar decir no entre otro cosa porque quintanar roo y cancún en especial él aportar mucho a méxico en el momento más difícil más crítico"
          ],
          [
           "cuando no haber trabajo en ninguno estado del sureste cuando prevalecer el desolación del modelo neoliberal que el gente tener que ir él del país a buscar él el vida a estados unido mucho mexicano del sureste inclusivar hasta de el ciudad de méxico él ser allá porque allá haber crecimiento por el turismo y allá salir adelante entonces cómo él ir a cobrar por el uso del puente pero así en mucho otro obra"
          ],
          [
           "ese ampliación de el carretera de chihuahua a guayma pues no ir a ser de paga y así mucho otro obra pero sí ir a ir a sonora"
          ],
          [
           "nuestro propósito es decir yo gustar como él decir en el carta en el oficio si para él no tener inconveniente tratar este tema respetuosamente hacer el aclaración que yo estar desde luego abierto a atender cualquiera tema planteado por el presidente bidir"
          ],
          [
           "ser bienvenir el presidente bidir y el primero ministro trudeau y con el presidente bidir tener mucho buen relación y estar seguro que ir a ser mucho buen el resultado del encuentro decir trascendente pero hasta ahí nada más"
          ],
          [
           "cada vez que haber uno transformación haber uno nuevo constitución yo referir a uno constitución federal no a el constitución conservador centralista después de el independencia él elaborar el constitución de 1824 para normar el desarrollo de el primero república del país durante el movimiento de reforma surgir el constitución de 1857 ser uno constitución liberal después de el revolución que ser el tercero transformación de méxico en 1917 él elaborar el constitución vigente de 1917"
          ],
          [
           "entonces escogimos como 10 reforma mucho importante yo quedar pendiente otro pero por ejemplo él lograr aprobar de que el fuerza armadas yo ayudarar en tarea de seguridad público ese ser indispensable imagínense cómo ír a enfrentar el problema de el inseguridad de el violencia crecer como él recibir con uno policía federal echado a perder con 40 mil elemento contar con el fuerza armado pero sin poder utilizarla en él que más él importar a el gente el seguridad público"
          ],
          [
           "entonces afortunadamente él llevar a cabo el reforma constitucional él crear el guardia nacional y ahora de ese 40 mil elemento de el policía federal que realmente ser 20 mil el operativo sin cuartel con mucho indisciplina y corrupción ahora tener uno guardia nacional con 128 mil"
          ],
          [
           "  doscientos cincuenta fíjense el cambio pero además trabajar junto antier que haber este motín en ciudad juárez si no ser por el guardia nacional por el defensa cómo él enfrentar entonces ese ser uno buen reforma importante claro"
          ],
          [
           "el segundo que yo considerar mucho importante el revocación del mandato que ya él llevar a cabo ya estar el precedente para que si el presidente ser electo por seis año pero a el mitad el cosa no funcionar y el gente decir no estar de acuerdo con él que estar pasar porque el pueblo poner y el pueblo quitar ese ser el democracia consulto quieres que continuar el presidente o que él ir"
          ],
          [
           "porque él que contar antes ser nada más el democracia representativo no el democracia participativo ese que consistir en que el pueblo en todo momento tener el derecho de cambiar el forma de su gobierno el pueblo mandar el pueblo ser el soberano yo tú posar pero no estuvistir a el altura yo tú quitar ese ser uno segundo reforma importante"
          ],
          [
           "el tercero reforma importante ser que ya no haber fuero para el presidente llevar como siglo y medio que al presidente sólo él él poder juzgar por traición a el patria y ahora él él poder juzgar por cualquiera delito como a cualquiera otro ciudadano"
          ],
          [
           "otro reforma importantísimo que ya él convertir en delito grave el corrupción que no él ser o sea que el que robar poder salir bajo fianza"
          ],
          [
           "yo él haber dar a conocer nada más que no salir en el periódico de que cuando gobernar salinas modificar el código penal para que el corrupción no él considerar como delito grave y ahora sí ser delito grave"
          ],
          [
           "también estar considerado como delito grave y además con prisión preventivo el delito fiscal pero ese reforma él modificar en el supremo corte de justicia y ahí el maestra el abogada piño votar para que él quitarir y así otro pero decir yo no estar aquí para hacer él ninguno cuestionamiento"
          ],
          [
           "también votar para que no él aplicar el artículo 127 y que nadie ganar más que el presidente de el república ese también con amparo él echar para atrás y seguir ganar uno ministro pues tres vez más que él que ganar el presidente"
          ],
          [
           "el que más yo complacer de todo ser el que lograr que el pensión a el adulto mayor el pensión a niña a niño con discapacidad y el beca para estudiante de familia pobre ser uno derecho constitucional o sea él elevar a rango constitucional él de el pensión y ahí sí venir quien venir estar quien estar no ir a poder dejar de entregar el pensión a el adulto mayor"
          ],
          [
           "y además algo también importantísimo porque poder estar el enunciado como uno principio en el constitución pero poder alegar de que no haber presupuesto y en el caso de este reforma él lograr que en uno transitorio él establecierar que año con año tener que aumentar el presupuesto para el pensión para el beca de estudiante pobre y para el persona con discapacidad"
          ],
          [
           "él electoral que quedar ahí pendiente porque el ley electoral que él aprobar tener que ver sólo con cuestión administrativo no con el fondo porque el bloque conservador no querer que él reducir el número de diputado como él estár proponer de 500 a 300 no querer quitar a el plurinominal no querer reducir el presupuesto en 10 mil millón de pesos del ine no querer que el consejero del ine en vez de que él elegir el partido él elijar el pueblo pero ese ya quedar pendiente"
          ],
          [
           "entonces ya el verdad no tener nada que temer en cuanto a que bloquear el poder judicial si ese ser su intención que no creer que estar pensar en frenar el transformación pero si ser ese su intención no pasar absolutamente nada porque yo seguir hacer justicia"
          ],
          [
           "ayer él decir yo hacer justicia ser devolverl 30 mil hectárea a el yaqui hacer justicia ser que todo el adulto mayor del país tener uno pensión hacer justicia ser que tener pensión todo el discapacitado hacer justicia ser que él apoyar a el productor del campo hacer justicia ser que él entregar 11 millón de beca a estudiante pobre y ese él ir a seguir hacer ese no yo él poder impedir"
          ],
          [
           "  no nada absolutamente no él corresponder tener que modificar el constitución y ese él tener que hacer el bloque conservador en el congreso y para ese también él requerir tener mayoría y no él tener o ser tener mayoría para bloquear pero no para cambiar el ley"
          ],
          [
           "ah uno que ser buenísimo de primero que no saber cómo no él dar cuenta o no poder el agarrar como dormido pero ser buenísimo el reforma al artículo 28 de el constitución para no permitir el condonación de impuesto ese ser clave porque imagínensar cuánto dinero él dejar de recibir en el hacienda público porque él condonar el impuesto no pagar impuesto el potentado ese ser el gran reforma"
          ],
          [
           "imagínense cuánto ingresar ahora él estar hablar de operación que llevar a cabo por ejemplo cuando vender banamex a citigroup tener que haber pagar 12 mil millón de pesos de impuesto y no pagar nada"
          ],
          [
           "ahora que uno parte de televisa él vender a univisión creer que pagar no pón el gráfica de inversión extranjero y además agradecer él que ya entender en este caso televís y mucho otro creer que como ocho o 10 mil millón de impuesto"
          ],
          [
           "el oxxo como 12 mil millón walmart también como 12 14 mil millón y antes no pagar nada pero este ser por el reforma"
          ],
          [
           "acabar de vender uno planta bimbo él único que saber ser que ser el paleta payaso"
          ],
          [
           "  ricolino sí haber que tener mucho cuidado con bueno no ese no él decir seis mil millón de impuesto pagar el familia servitje uno poquito más de seis mil por ese planta"
          ],
          [
           "pues por ese no tener que aumentar impuesto ni haber gasolinazo ni tener que endeudar al país ese sí él tener uno poquito enojado pero cosa de nada alguno alguno porque no ser el que no pagar impuesto ser que vivir además en uno mundo de hipocresía hablar de que el problema de país ser que el vendedor ambulante no pagar impuesto que el que él dedicar a el economía informal no pagar impuesto"
          ],
          [
           "cómo mentir con ese ser uno cantaleta el problema de méxico ser que ser mucho bajo su recaudación si él compar con chile si él compar con brasil si él compar con españa si él compar con alemania ser mucho poco él que él recaudar porque no él cobrar impuesto a el economía informal a el gente que él buscar el vida como poder cuando el problema ser que no pagar el grande el banco el grande empresa"
          ],
          [
           "  ah 10 mil millón ese ser el problema pero a mucho a el que ser mucho susceptible de manipulación él tener convencidísir con ese y todavía poder ser que haber quien seguir pensar en él mismo"
          ],
          [
           "ser como él otro el mentira de que si aumentar el salario él incrementar el inflación y que por él mismo no aumentar el salario él aventar 30 año así con ese mentira 30 año"
          ],
          [
           "otro mentira este de uno secretario de hacienda que si sub el precio de el gasolina no afectar porque el mayoría de el gente no tener automóvil no usar gasolina uno eminencia de este y así muchísimar mentira pero bueno"
          ],
          [
           "decir plagio ojalá y el problema de méxico ser por plagio el problema de méxico ser por robo y todo el que decir plagio o él quedar callado ante el robo o él haber quedar callado ante el robo o ante el corrupción nada más que si no él parecer algo y más si él tratar de perjudicar yo a yo inmediatamente él enfilar no tener escrúpulo moral de ninguno indo él el conservador ser mucho corrupto y mucho hipócrita pero también vivir en uno democracia y ser libre"
          ],
          [
           "y no ser igual ese ser él que no ir a entender porque no él convenir nuestro adversario que si tener autoridad moral ir a tener autoridad político haber otro manera de decir él pero no tener caso"
          ],
          [
           "  sí sí sí además ser deshonestidad pero a él que ir ser que el que acusar de plagio o el que acusar de plagio estar metido en el corrupción o avalar el corrupción o vivir de el corrupción aquí ser aplicable aquel de que el que estar libre de pecado que tirar el primero piedra pero como ser mucho hipócrita ser finísima persona él él olvidar todo el increíble el cinismo el cretinismo pero repito ser libre y él más importante de todo ser que haber uno pueblo mucho consciente uno pueblo que ser mucho pieza"
          ],
          [
           "además no poder el medio de información estar moralmente derrotado igual que el conservadurismo con honroso excepción pero él él él buscar porque estar metido en el desinformación ser el hampa del periodismo bajo el consigna de que el calumnia cuando no manchar tizna no cambiar en nada"
          ],
          [
           "y sí haber honroso excepción tanto ser así que por ese no haber poder con yo y él desesperir"
          ],
          [
           "pero dónde estar el credibilidad de el medio el credibilidad que tener antes proceso dónde quedar o sea por él mismo el credibilidad del reforma no haber uno solo escritor articulista en reformaobjetivo todo entregado por entero a el mentira todo programa de radio de televisión y no sólo ser méxico eh ser lamentablemente en el mayoría de el país del mundo ser el poder mediático"
          ],
          [
           "por ejemplo el pregunta que él yo hacer que tener que ver con el malo leche de el editor de proceso sobre segalmex"
          ],
          [
           "  ah ser que venir ahora uno tribunal sí y ir a descubrir el gran corrupción en el gobierno que tener que ver con segalmex y que ir a afectar al presidente no no porque yo no ser corrupto tanto sencillo como ese"
          ],
          [
           "entonces llevar año luchar por mi ideal y él que considerar más importante en mi vida ser mi honestidad entonces qué yo ir a hacer con uno denuncia de segalmex"
          ],
          [
           "yo dar el instrucción de que él presentar el investigación el denuncia y que él ser a fondo pero no sólo ese no él permitir el corrupción a nadie ni a mi familiar por ese ese periodismo amarillista de ahora de proceso pues no hacer mella pero tú no ir a cambiar porque ya tú tener uno definición que tener que ver con apoyar al bloque conservador"
          ],
          [
           "  él estar avanzar con el subsecretaría de gobernación alejandro encinas y él estar buscar resolver este"
          ],
          [
           "y haber presupuesto suficiente seguir el búsqueda ser uno tema prioritario fundamental que tener que ver con el preocupación de familiar ser algo mucho humano y él estar atender"
          ],
          [
           "  él estar ver el secretaría de gobernación él estar ver alejandro encina y a quien corresponder haber que hacer él o ser nada humano yo deber ser ajeno nada humano o ser yo estar aquí por ideal por principio estar aquí porque luchar por el justicia por el igualdad no estar aquí para servir a grupo de poder económico o autoritario estar aquí porque yo elegir el pueblo para ayudar al pueblo"
          ],
          [
           "  sí sí sí todo él que tener que ver con justicia ir a avanzar muchísimo mucho mucho como nunca poder ser uno obra material él yo quedar pendiente o este que hablábar de el reforma al poder judicial que hacer falta pero que tener que hacer él de manera autónomo"
          ],
          [
           "ya él haber platicar de cómo cuando fox querer desaforar yo mandar a hablar al presidente de el corte y echar a andar el denuncia en mi contra y todo el ministro aplaudir mi desafuero y hasta publicar uno manifiesto y así siempre"
          ],
          [
           "no por ese celebro el que haber independencia división y equilibrio de poder ese no haber antes ya él haber decir el poder de el poder ser el ejecutivo o tú él acordar de que haber uno tiempo que ser distinto"
          ],
          [
           "quién mandar cuando echeverer mandar a el ministro de el corte o lópez portillo con miguel de madrid con salinas ser independiente con zedillo bueno zedillo él desaparecer hacer uno reforma con fox con calderón"
          ],
          [
           "qué no él informar de cuando declarar el actual presidente de el corte bueno el que estar de presidente de el corte arturo zaldívar de que él amenazar calderón o él mandar amenazar calderón"
          ],
          [
           "estar hacer cosa desde ayer mucho importante estar dar marcha atrás a el privatización que él haber hacer hasta del petróleo de brasil y estar tomar decisión importante y ser uno buen gobernante tener mucho experiencia tener reconocimiento mundial"
          ],
          [
           "y brasil siempre haber buscar relación con asia con europa y también con américa latino y con estados unidos y canadá haber optar por el diversidad en materia de política exterior"
          ],
          [
           "yo él que estar plantear ser el unión de todo el país de américa el sueño de bolívar pero considerar a estados unidos y canadá junto todo el américa todo el continente americano ese ser él que estar plantear porque considerar que ya ser y ser con más fuerzo el región más importante del mundo tener uno gran potencial"
          ],
          [
           "entonces que el integración y ese ser el propuesta que yo tener no él quedar nada más en américa del norte o sea ya con el tratado haber confirmar que funcionar el integración desde luego con respeto a nuestro soberanía pero funcionar el unirnos el articularno pero no quedar yo en ese sino buscar el unidad de todo américa"
          ],
          [
           "ya el relación comercial en el mundo empezar a estar más dominado por asia y si no hacer nada yo ir a quedar rezagado"
          ],
          [
           "  no no estar de acuerdo en ese haber que ver qué ser él que plantear no él haber escuchar el presidente lulo que ser insistir mucho inteligente mucho buen político mucho buen gobernante y además sensible sensible defensor de el pobre pero no haber escuchar ese"
          ],
          [
           "él estar hablar mucho por ejemplo de el integración de asia con el mundo árabe y él estar hablar de uno moneda o sea que no ser precisamente el dólar yo no estar plantear el que él sustituir al dólar yo él que estar buscar ser que él integrar más el economía de el país del continente americano que yo integrer más y que este ir de el mano de dos cambio importante"
          ],
          [
           "uno que él promover el desarrollo de todo el país del continente americano que así como en su momento haber el llamado alianza para el progreso y él invertir en aquel entonces alrededor de 10 mil millón de dólares para apoyar a país de américa latino y el caribe que él hacer algo ahora parecido porque no ir a poder resolver el problema migratorio si seguir haber tanto desigualdad en el continente americano entonces tener que haber uno plan de desarrollo para apoyar a todo el país de américa latino y el caribe"
          ],
          [
           "y él segundo ser que deber de cambiar el política intervencionista ya no el doctrina monroe ya no el decisión de intervenir y bloquear y querer tener uno país predominio de todo américa respetar el autonomía y el autodeterminación de el pueblo ser uno cambio importantísimo ser 200 año de ese política ese ser él que estar plantear ser tres cosa integración económico apoyo a país pobre del continente americano e independencia y respetar a el soberanía de todo el pueblo ese ser el planteamiento"
          ],
          [
           "él de el moneda no conocer bien qué estar proponer el presidente lula y sentir además que pues ser proceso pero ya no dar él el espalda a américa latino y al caribe o sea que no estar pensar nada más en américa del norte sino que penser en centroamérica y en todo américa nuestro continente"
          ],
          [
           "el postura nuestro ser desde el principio que ser el mexicano el que ir a decidir con su voto si querer o no que él enjuiciar a el expresidente y él llevar a cabo uno consulta aunque el mayoría votar para que él enjuiciar a el expresidente de acuerdo a el ley no él llegar al porcentaje requerido por ese el consulta no ser vinculatorio"
          ],
          [
           "y yo no haber iniciar ninguno investigación contra el expresidente pero además desde que tomé posesión aclaré de que yo ser partidario de ver hacia adelante que él más importante ser el no repetición"
          ],
          [
           "el justicia también ser prevenir el justicia también ser el estigmatizar el corrupción porque antes ni siquiera perder su respetabilidad el corrupto entonces él que haber venir hacer ser no permitir el corrupción y él poder decir mirar pañuelito blanco aquí estar a cuatro año no él permitir negocio al amparo del poder público como ser antes"
          ],
          [
           "entonces ese ser él más importante y no perseguir a nadie sólo que haber uno juicio uno demanda existir ahora él del juicio de garcía luna que ya ir a iniciar ese él presentar el estadounidense y ojalá y saber todo el vida público tener que ser cada vez más público y uno regla de oro de el democracia y este deber saber él en méxico y en estados unidos y en el mundo uno regla de oro de el democracia ser el transparencia cómo ocultar información"
          ],
          [
           "él acordar cómo ser antes de que él declarar confidencial apenas y él estar desclasificar informe del asesinato del presidente kennedy cómo dónde estar el democracia si no haber transparencia que él separ todo haber que subir todo el información todo el expediente al internet a el red"
          ],
          [
           "por ese él que hacer assange querer el libertad de assange imagínense él que ayudar por qué el secreto poder ser que haber cosa así que valer llamarl secreto de estado o razón de estado pero solo cuestión mucho grave para el humanidad pero él demá deber de saber él todo"
          ],
          [
           "bueno pues ir a informar como todo el miércoles sobre quién ser quién en el mentira ser uno mínimo parte mucho poquito ni siquiera llegar a botón de muestra para todo el bombardeo de mentira de el guerra sucio que haber echar a andar el del bloque conservador con su medio de desinformación pero bueno para tener uno idea y no dejar de ejercer el derecho de réplica ir a que elizabeth yo dar el información"
          ],
          [
           "y luego algo mucho importante mucho mucho importante sobre todo para el productor como decir el maestro pellicer que comar el que yo dar de comer él campesino él ir a explicar sobre el programa de fertilizant para el bienestar porque él ir a ampliar ir a ser fertilizante gratuito para dos millón de productor sobre todo para campesino con poco hectárea alguno que sembrar medio hectárea uno hectárea dos hectárea otro más pero para él el fertilizante gratuito"
          ],
          [
           "y ser mucho importante porque además del autoconsumo el economía campesino ser fundamental él siembra el maíz que ser uno planta bendito que él dar en todo lado en el costa en el sierra en clima frio en clima caliente en el montaña en el valle y él hacer como 600 alimento del maíz"
          ],
          [
           "pero no sólo ese bueno él hacer ahora sí que él mero principal el tortilla y con el maíz él alimentar el animal de patio de corral el gallina el pavo el puerquito y por él general el maíz él siembrir asociado al frijol porque el frijol entre otro virtud alimenticio también ayuda a fertilizar el suelo ser nutriente para el suelo porque ese él combinar y ahí mismo en el milpa y donde estar el frijol sembrado también él cultivar el calabaza y otro alimento entonces maízfrijol pues ser carbohidrato y proteína ser él más sano ser exactamente él opuesto a el comida chatarra"
          ],
          [
           "por ese él decir bien cuando él hablar de que sin maíz no haber país y yo dar muchísimo gusto que este programa llegar a todo el región de méxico hasta el pueblo más apartado ya por ejemplo en guerrero ser 100 por ciento el entrega de fertilizant y ahora ir tú a escuchar cómo haber ir crecer el producción primero ser producción para el autoconsumo y ahora ya haber excedent incluso ya poder vender maíz porque él estar incrementar el producción con el abono así él él llamar en el campo al fertilizante"
          ],
          [
           "  bueno en todo el juicio que estar en proceso por corrupción si haber detenido que querer resolver su asunto él que él él estar pedir respetuosamente a el fiscalía y a el juez ser que él reparir el daño que ese ser él primero"
          ],
          [
           "imagínense haber uno vez no hacer mucho uno hermano de uno presidente que ser a el cárcel él acusar por manejo ilícito de dinero él que él conocer como lavado de dinero incluso hasta uno institución bancario de estados unidos estar involucrado porque él demostrar que él haber transferir 100 millón de dólares de méxico por este banco famoso de estados unidos a suiza o a no saber dónde intervenir hasta el senado de estados unidos él demostrar pasar el tiempo salir de el cárcel y él devolver todo así ser antes y así querer ahora el conservador que seguir méxico entonces yo él que estar buscar ser que reparar daño devolver él al pueblo él robado"
          ],
          [
           "en el caso de nitrogenado pues ser uno compra que él hacer y él pagar más de él que valiar el planta él hacer uno auditoría y él encontrar que él pagar 200 millón de dólares adicional en ese planta entonces el señor que participar en el venta para llevar su proceso en libertad él comprometer a devolver el 200 millón de dólares ya haber devolver 100"
          ],
          [
           "entonces este aplicar para todo si no haber devolución de dinero si no haber reparación del daño pues no poder yo estar de acuerdo con el fiscalía o con el juez que ser al final el encargado de decidir sobre este asunto"
          ],
          [
           "si el señor lozoya estar dispuesto su abogado en el reparación del daño pues sí haber posibilidad de que poder llevar su proceso en libertad pero él tener que reparar el daño"
          ],
          [
           "  ah no dar mucho poquito no no ese él ver el ministerio público y él ver pemex pero no ser ese el cantidad o ser aquí no él poder asegurar cuánto ser el daño pero sí haber peritaj y sí haber auditoría estar seguro que ese cantidad de tres millón"
          ],
          [
           "  no no no ser pero de todo manera si él estar dispuesto a ese creer yo que el fiscalía y el juzgado poder tomar en consideración de que haber ese disposición a el reparación del daño ese ayudar mucho"
          ],
          [
           "por ejemplo este 100 millón de dólares que ya él recuperar del pago excesivo en el planta de nitrogenado pues ser para fertilizant ser para el productor y ser para producir alimento ese sí estar yo en condición de que él llegar a acuerdo"
          ],
          [
           "no tener ninguno problema financiero en el país tanto ser así que por ese estar mucho fuerte el peso ser de el moneda si no ser que ser el moneda más fuerte del mundo con relación al dólar no saber cómo amanecer hoy pero a ver si"
          ],
          [
           "mirar estar mucho fuerte el peso porque estar mucho fuerte el economía de méxico y su finanza"
          ],
          [
           "en el caso de que hacer falta ayudar a pemex él hacer ya pemex ir a pasar este año a final a estar entre el país del mundo que producir petróleo con más capacidad de refinación ser uno salto cualitativo"
          ],
          [
           "antes de ese ser que yo llamar mucho el atención él de el riel para que quedar contento el reforma y xóchitl qué él parecer si el pintamo de amarillo no de amarillo por el amarillismo"
          ],
          [
           "  pues ya él haber hablar mucho ser todo uno intelectualidad vinculado al conservadurismo antes él encargar de legitimar el corrupción de legalizar el corrupción tener el papel de alcahuetes del régimen recibir mucho prebenda ser como sociedad de grupo de intelectual orgánico manejado uno por krauze y otro por héctor aguilar camín este desde salinas que él cooptar a todo"
          ],
          [
           "entonces salina el maneja a el dos a el dos grupo y ir cooptar tanto a el intelectual abiertamente de derecha que pertenecer a el cercano a paz como a el de héctor aguilar camín que no querer mencionar porque ser mucho lamentable el forma cómo él cooptar"
          ],
          [
           "entonces krauze hacer mucho obra así ya hablábar de uno libro que financiar el secretaría de gobernación cuando estar creel exaltar a luis terraza de chihuahua él acordar que él decir que terraza no ser de chihuahua sino chihuahua ser de terraza pues él convertir en uno héroe krauze"
          ],
          [
           "y de ahí venir sheridar nada más bastar por qué no él pón otro vez a sheridar para dar yo uno idea independientemente si dar clase o no clase si cobrar sin trabajar si ser titulado o no ser titulado"
          ],
          [
           "mirar este porque este mostrar el decadencia intelectual a el que llegar a el que yo llevar el política neoliberal que no ser nada más crisis en él económico en él social o en él político o en él moral ser también este dónde estar el intelectual que defender al pueblo"
          ],
          [
           "según uno periódico ser que ser uno joya este ser igual como él de el riel según uno periódico amlo declarar hoy él tener uno profundo amor y admiración al pueblo de méxico pues claro ser mi convicción yo sentir orgulloso ser mi ideal ser mi humanismo"
          ],
          [
           "él mejor que tener en méxico siempre haber decir que el mayor riqueza de méxico ser el honestidad de su pueblo mucho contrario a él que pensar el conservador mucho contrario por siglo el pensamiento conservador siempre haber sostener que el pueblo ser flojo ser indolente que no saber"
          ],
          [
           "decir él no estar de acuerdo aclaro así como él pensar millón así como él pensar el señor del que hablar yo hacer uno día que yo ver en el avión pero él no él ver como algo raro o irracional él él ver como algo normal por ese con él no haber que debatir haber que ser respetuoso y decir él seguir usted su camino ahí él llevar"
          ],
          [
           "pero pensar distinto para qué yo ir a enfrascar en uno pleito si acaso a el hijo y sobre todo a el gente humilde que ser además mucho receptivo no tener prejuicio no tener el idea de que él saber todo de ahí el actitud de humildad y ahí sí él poder ir orientar concientizar y no costar mucho porque abajo en el comunidad en el familia en el méxico profundo haber mucho valor cultural moral espiritual que venir de el grande cultura que florecer en méxico antes de el llegada de el europeo traer ese herencia ese legado y por ese decir que el pueblo de méxico ser uno pueblo bueno noble trabajador"
          ],
          [
           "por ejemplo cuál ser el imagen que manejar durante siglo el conservador de que el pueblo ser flojo ya haber hablar del ejemplo de nuestro paisano migrant si el pueblo de méxico ser flojo indolente no salir adelante en ninguno parte"
          ],
          [
           "ayer dar el banco de méxico a conocer el cifra de el remesa de noviembre ya tener el proyección de él que venir en diciembre ir a estar como en 58 mil 500 millón de dólares de remesa el año pasado 13 por ciento más que el remesa del 22 perdón del 21 ya tener el proyección de que para diciembre haber uno aumento considerable porque aumentar en noviembre"
          ]
         ],
         "hovertemplate": "tsne_1=%{x}<br>tsne_2=%{y}<br>text=%{customdata[0]}<br>label=%{marker.color}<extra></extra>",
         "legendgroup": "",
         "marker": {
          "color": [
           4,
           4,
           4,
           4,
           4,
           5,
           5,
           5,
           2,
           2,
           2,
           2,
           2,
           2,
           2,
           2,
           2,
           2,
           2,
           2,
           2,
           1,
           1,
           1,
           1,
           3,
           3,
           3,
           3,
           3,
           3,
           3,
           3,
           3,
           3,
           2,
           3,
           3,
           3,
           3,
           3,
           3,
           1,
           5,
           3,
           3,
           0,
           0,
           0,
           0,
           0,
           2,
           2,
           2,
           2,
           2,
           2,
           2,
           2,
           2,
           2,
           2,
           2,
           2,
           2,
           2,
           2,
           2,
           2,
           2,
           2,
           2,
           2,
           2,
           2,
           4,
           4,
           4,
           4,
           2,
           2,
           2,
           2,
           2,
           3,
           4,
           2,
           2,
           5,
           3,
           2,
           2,
           2,
           1,
           2,
           2,
           2,
           3,
           5,
           3,
           3,
           2,
           2,
           2,
           1,
           1,
           5,
           1,
           1,
           1,
           5,
           5,
           3,
           3,
           2,
           2,
           5,
           5,
           5,
           5,
           1,
           5,
           3,
           3,
           3,
           0,
           0,
           4,
           4,
           4,
           4,
           4,
           4,
           0,
           4,
           0,
           0,
           2,
           5,
           5,
           5,
           2,
           2,
           5,
           5,
           3,
           5,
           3,
           4,
           1,
           3,
           3,
           4,
           3,
           4,
           1,
           1,
           1,
           1,
           1,
           1,
           1,
           1,
           1,
           1,
           3,
           3,
           3,
           3,
           3,
           3,
           3,
           3,
           3,
           3,
           3,
           4,
           2,
           5,
           3,
           3,
           3,
           3,
           0,
           0,
           0,
           0,
           0,
           0,
           0,
           0,
           0,
           0,
           3,
           3,
           5,
           5,
           0,
           0,
           3,
           4,
           1,
           1,
           1,
           5,
           5,
           1,
           1,
           5,
           5,
           5,
           1,
           1,
           1,
           1,
           2,
           3,
           3,
           3,
           2,
           3,
           2,
           2,
           3,
           3,
           3,
           1
          ],
          "coloraxis": "coloraxis",
          "symbol": "circle"
         },
         "mode": "markers",
         "name": "",
         "orientation": "v",
         "showlegend": false,
         "type": "scatter",
         "x": [
          -0.4880995750427246,
          -3.1671671867370605,
          -0.2749241292476654,
          -0.04146132618188858,
          -0.5488374829292297,
          1.8577311038970947,
          -0.40674784779548645,
          0.2757515013217926,
          1.031136155128479,
          4.204294681549072,
          -4.150069236755371,
          -0.7556226849555969,
          2.8084828853607178,
          3.820876359939575,
          2.61513614654541,
          -3.1533544063568115,
          -0.5553010702133179,
          1.6191881895065308,
          -1.4670518636703491,
          5.026834964752197,
          1.0205732583999634,
          -4.160353183746338,
          -1.1517137289047241,
          0.47994303703308105,
          3.4643986225128174,
          2.9883506298065186,
          2.7705845832824707,
          3.1137826442718506,
          2.650986909866333,
          5.271008014678955,
          0.8405222296714783,
          -1.7639930248260498,
          -0.16374440491199493,
          1.2329535484313965,
          3.8266897201538086,
          1.728759765625,
          0.1637442708015442,
          1.1497838497161865,
          -1.9190292358398438,
          -0.5500558018684387,
          -2.334141969680786,
          3.0837225914001465,
          0.6971765160560608,
          -2.13446044921875,
          1.8667515516281128,
          0.35947662591934204,
          3.1124908924102783,
          5.19285249710083,
          -2.623365879058838,
          0.9431172609329224,
          0.9878464341163635,
          -0.1998206526041031,
          -1.1435209512710571,
          0.46306610107421875,
          0.919434130191803,
          2.877854108810425,
          2.7525041103363037,
          -1.1036845445632935,
          1.0577497482299805,
          1.555428147315979,
          -0.6075284481048584,
          0.5875625610351562,
          0.03385528177022934,
          -2.663158416748047,
          -2.8143513202667236,
          4.919769763946533,
          -0.2767912745475769,
          -1.290612816810608,
          4.911050796508789,
          -1.3066493272781372,
          2.125685930252075,
          1.6779639720916748,
          0.9240177273750305,
          2.393751382827759,
          -0.6813592910766602,
          -2.7014400959014893,
          -1.2452393770217896,
          -2.7436611652374268,
          -1.9119837284088135,
          0.9836184978485107,
          2.0167737007141113,
          3.56233549118042,
          1.5055623054504395,
          0.5504706501960754,
          -2.067521810531616,
          0.5646331906318665,
          0.3418748378753662,
          0.3100237250328064,
          1.5102345943450928,
          0.15233808755874634,
          5.616286754608154,
          -1.4361472129821777,
          1.9944753646850586,
          -1.7471619844436646,
          1.8141251802444458,
          2.133251905441284,
          1.2687835693359375,
          -1.967786192893982,
          1.7187718152999878,
          -0.23978812992572784,
          0.05524396523833275,
          1.2749290466308594,
          1.5884846448898315,
          0.49928656220436096,
          3.6757757663726807,
          0.8892604112625122,
          3.981233596801758,
          5.6554388999938965,
          -0.46467533707618713,
          -2.7491626739501953,
          -4.771530628204346,
          2.724634885787964,
          1.650892972946167,
          -2.975222587585449,
          -2.2923412322998047,
          2.722323417663574,
          0.6275563836097717,
          4.180556774139404,
          1.9656134843826294,
          2.4972164630889893,
          -1.1969135999679565,
          3.814631223678589,
          3.553652763366699,
          -0.2177220582962036,
          1.1482815742492676,
          -1.1547038555145264,
          1.4617317914962769,
          -4.342304229736328,
          3.318812608718872,
          0.9771873354911804,
          1.5826071500778198,
          2.813110113143921,
          4.106723785400391,
          -0.7056910395622253,
          0.713641881942749,
          1.8774112462997437,
          -0.16214236617088318,
          1.7926983833312988,
          1.3947243690490723,
          -2.20516037940979,
          -3.197033643722534,
          0.14996954798698425,
          -1.1554741859436035,
          -2.420565366744995,
          1.3837394714355469,
          2.049665689468384,
          2.9171135425567627,
          -2.3966634273529053,
          -3.8276798725128174,
          3.546860456466675,
          2.112661600112915,
          -3.428621292114258,
          2.3651270866394043,
          -1.870345950126648,
          -1.4803924560546875,
          -1.0001944303512573,
          0.5146283507347107,
          1.993638277053833,
          -0.897945761680603,
          1.5452415943145752,
          -3.8610875606536865,
          -1.5831215381622314,
          2.8732211589813232,
          -2.074916362762451,
          2.991689920425415,
          -3.054069995880127,
          1.4029746055603027,
          0.6689936518669128,
          1.55978262424469,
          -3.2626748085021973,
          -0.3782106339931488,
          0.8945263624191284,
          -4.280052185058594,
          0.1768738180398941,
          2.60703706741333,
          0.9952477812767029,
          2.244476318359375,
          0.2573622167110443,
          2.702481269836426,
          -2.3019297122955322,
          1.2184224128723145,
          -0.8313262462615967,
          -1.1488829851150513,
          -2.676762342453003,
          -0.30465033650398254,
          1.8177379369735718,
          1.8085495233535767,
          0.2528383731842041,
          4.848341464996338,
          -1.2031478881835938,
          -0.9436978101730347,
          1.9943220615386963,
          -0.8951331973075867,
          -0.4779287576675415,
          0.47540032863616943,
          3.0334720611572266,
          0.9956656098365784,
          -1.057132601737976,
          1.2621668577194214,
          -1.083778977394104,
          0.8792242407798767,
          -0.8019924759864807,
          -3.2963290214538574,
          4.7231926918029785,
          -0.4943506419658661,
          0.9255833029747009,
          -0.9723524451255798,
          -1.3868411779403687,
          -0.5775189399719238,
          3.3567283153533936,
          5.061844348907471,
          1.1237365007400513,
          0.7545545101165771,
          -3.135444402694702,
          2.139408826828003,
          4.696429252624512,
          -3.0978097915649414,
          0.25177088379859924,
          2.5105209350585938,
          0.9875234365463257,
          -0.07123588025569916,
          -0.0610218308866024,
          -0.5840782523155212,
          0.1329541802406311,
          3.66556978225708,
          -0.3305114209651947,
          2.2259578704833984
         ],
         "xaxis": "x",
         "y": [
          -0.4572816491127014,
          2.5055887699127197,
          -1.345064640045166,
          -1.0663937330245972,
          0.3148801624774933,
          4.369217872619629,
          5.150577545166016,
          3.031780958175659,
          0.41440629959106445,
          -0.5667010545730591,
          -0.5040624141693115,
          4.874059677124023,
          -1.148528814315796,
          -2.601015567779541,
          -3.648176908493042,
          -1.7664302587509155,
          -2.7096283435821533,
          0.0556139200925827,
          -0.9338216781616211,
          3.026189088821411,
          3.6089589595794678,
          -0.5032871961593628,
          3.444397211074829,
          2.805184841156006,
          0.08214803785085678,
          0.9423538446426392,
          4.0499491691589355,
          -3.060973882675171,
          2.6146399974823,
          -1.0762838125228882,
          2.855179786682129,
          -4.258834362030029,
          -4.266544342041016,
          2.3014793395996094,
          0.15886542201042175,
          -3.3529553413391113,
          0.5803270936012268,
          -2.7719006538391113,
          1.281150460243225,
          5.616484642028809,
          -3.604872226715088,
          2.2787821292877197,
          -1.6422946453094482,
          -3.080188035964966,
          -2.9694414138793945,
          -0.37504032254219055,
          -3.3529109954833984,
          -1.8498786687850952,
          -2.7463645935058594,
          -2.440321207046509,
          -3.036827564239502,
          3.406618118286133,
          0.08391287922859192,
          1.1796818971633911,
          4.185680866241455,
          2.109295606613159,
          3.1399312019348145,
          -0.5284522771835327,
          0.7452844977378845,
          6.762757301330566,
          -0.19903965294361115,
          -2.3810784816741943,
          2.6546707153320312,
          1.462353229522705,
          1.2893482446670532,
          -1.5445085763931274,
          4.585801124572754,
          1.4925919771194458,
          1.1020855903625488,
          4.484894275665283,
          0.6978484392166138,
          1.5882935523986816,
          -4.495064735412598,
          0.23090988397598267,
          2.6323769092559814,
          -2.7747979164123535,
          -2.79202938079834,
          0.12845315039157867,
          4.780558109283447,
          -3.6436874866485596,
          -1.4160773754119873,
          -0.9461187124252319,
          2.393878936767578,
          -3.278243064880371,
          -0.4162413477897644,
          3.674945592880249,
          -2.1427907943725586,
          -5.457191467285156,
          -3.903627872467041,
          -0.5388374924659729,
          0.37525928020477295,
          -0.24700379371643066,
          5.0623626708984375,
          0.1962995082139969,
          -3.013092279434204,
          2.5734055042266846,
          -0.5653446912765503,
          -3.3141231536865234,
          0.7133246660232544,
          1.890753984451294,
          3.7228076457977295,
          2.011876344680786,
          -2.5074234008789062,
          0.04615987837314606,
          -4.12492036819458,
          -0.6786596179008484,
          1.0484354496002197,
          1.9478435516357422,
          2.108630895614624,
          -3.3883233070373535,
          2.4093258380889893,
          -0.18058888614177704,
          1.8426841497421265,
          1.977159857749939,
          5.648305892944336,
          0.39832308888435364,
          2.1028401851654053,
          2.972754955291748,
          2.1432628631591797,
          -0.09674384444952011,
          2.6755757331848145,
          2.325937032699585,
          -1.3258329629898071,
          -2.4140031337738037,
          -1.1161956787109375,
          -4.101159572601318,
          3.811434268951416,
          -2.7417867183685303,
          -1.0462781190872192,
          -2.515916109085083,
          -2.2246851921081543,
          -2.5171124935150146,
          1.629257082939148,
          2.6064441204071045,
          5.349583148956299,
          3.1066741943359375,
          4.625341415405273,
          0.8564565181732178,
          6.650925636291504,
          -1.4558793306350708,
          2.7938005924224854,
          5.007740020751953,
          5.225656509399414,
          1.658647060394287,
          -1.3494511842727661,
          -0.7191454768180847,
          -3.091935157775879,
          -2.630052089691162,
          -0.6968472003936768,
          -4.852634906768799,
          3.425893545150757,
          2.968945026397705,
          -4.359794616699219,
          5.543982028961182,
          1.0129233598709106,
          -4.93269157409668,
          -1.0677329301834106,
          -1.8466211557388306,
          0.6101067066192627,
          0.4975239038467407,
          4.030196189880371,
          3.172879695892334,
          5.179803848266602,
          -1.7278640270233154,
          1.506819248199463,
          -3.878953695297241,
          -3.924436092376709,
          4.566187381744385,
          6.788928508758545,
          2.613330125808716,
          0.990163266658783,
          2.6315791606903076,
          1.110202431678772,
          -1.1137229204177856,
          -1.7213364839553833,
          1.6719411611557007,
          -1.9873384237289429,
          1.8804429769515991,
          3.0740790367126465,
          4.345470428466797,
          0.5455731153488159,
          -3.290736436843872,
          -3.638674736022949,
          1.5572624206542969,
          -1.4367518424987793,
          4.381045341491699,
          -5.020025730133057,
          0.5267871618270874,
          -2.919583559036255,
          -1.2995965480804443,
          -1.2526718378067017,
          -0.8589816093444824,
          -2.2677886486053467,
          -1.3718725442886353,
          3.473433017730713,
          3.0186872482299805,
          2.841959238052368,
          0.62031489610672,
          -1.3710367679595947,
          0.09724824875593185,
          1.9844497442245483,
          4.067121505737305,
          -1.8418588638305664,
          4.479053020477295,
          3.7738823890686035,
          3.3226916790008545,
          0.8108779788017273,
          -3.375670909881592,
          -2.6098544597625732,
          3.9119269847869873,
          3.025902271270752,
          1.291896104812622,
          5.337821960449219,
          -0.36385032534599304,
          -1.3184893131256104,
          0.3429584205150604,
          0.6405572891235352,
          -2.7356929779052734,
          1.1720876693725586,
          2.1938278675079346,
          -3.5724735260009766,
          2.1313881874084473,
          3.2685108184814453,
          1.3389822244644165,
          -1.6331324577331543,
          0.7008957266807556,
          1.1119502782821655
         ],
         "yaxis": "y"
        }
       ],
       "layout": {
        "coloraxis": {
         "colorbar": {
          "title": {
           "text": "label"
          }
         },
         "colorscale": [
          [
           0,
           "#0d0887"
          ],
          [
           0.1111111111111111,
           "#46039f"
          ],
          [
           0.2222222222222222,
           "#7201a8"
          ],
          [
           0.3333333333333333,
           "#9c179e"
          ],
          [
           0.4444444444444444,
           "#bd3786"
          ],
          [
           0.5555555555555556,
           "#d8576b"
          ],
          [
           0.6666666666666666,
           "#ed7953"
          ],
          [
           0.7777777777777778,
           "#fb9f3a"
          ],
          [
           0.8888888888888888,
           "#fdca26"
          ],
          [
           1,
           "#f0f921"
          ]
         ]
        },
        "legend": {
         "tracegroupgap": 0
        },
        "margin": {
         "t": 60
        },
        "template": {
         "data": {
          "bar": [
           {
            "error_x": {
             "color": "#f2f5fa"
            },
            "error_y": {
             "color": "#f2f5fa"
            },
            "marker": {
             "line": {
              "color": "rgb(17,17,17)",
              "width": 0.5
             },
             "pattern": {
              "fillmode": "overlay",
              "size": 10,
              "solidity": 0.2
             }
            },
            "type": "bar"
           }
          ],
          "barpolar": [
           {
            "marker": {
             "line": {
              "color": "rgb(17,17,17)",
              "width": 0.5
             },
             "pattern": {
              "fillmode": "overlay",
              "size": 10,
              "solidity": 0.2
             }
            },
            "type": "barpolar"
           }
          ],
          "carpet": [
           {
            "aaxis": {
             "endlinecolor": "#A2B1C6",
             "gridcolor": "#506784",
             "linecolor": "#506784",
             "minorgridcolor": "#506784",
             "startlinecolor": "#A2B1C6"
            },
            "baxis": {
             "endlinecolor": "#A2B1C6",
             "gridcolor": "#506784",
             "linecolor": "#506784",
             "minorgridcolor": "#506784",
             "startlinecolor": "#A2B1C6"
            },
            "type": "carpet"
           }
          ],
          "choropleth": [
           {
            "colorbar": {
             "outlinewidth": 0,
             "ticks": ""
            },
            "type": "choropleth"
           }
          ],
          "contour": [
           {
            "colorbar": {
             "outlinewidth": 0,
             "ticks": ""
            },
            "colorscale": [
             [
              0,
              "#0d0887"
             ],
             [
              0.1111111111111111,
              "#46039f"
             ],
             [
              0.2222222222222222,
              "#7201a8"
             ],
             [
              0.3333333333333333,
              "#9c179e"
             ],
             [
              0.4444444444444444,
              "#bd3786"
             ],
             [
              0.5555555555555556,
              "#d8576b"
             ],
             [
              0.6666666666666666,
              "#ed7953"
             ],
             [
              0.7777777777777778,
              "#fb9f3a"
             ],
             [
              0.8888888888888888,
              "#fdca26"
             ],
             [
              1,
              "#f0f921"
             ]
            ],
            "type": "contour"
           }
          ],
          "contourcarpet": [
           {
            "colorbar": {
             "outlinewidth": 0,
             "ticks": ""
            },
            "type": "contourcarpet"
           }
          ],
          "heatmap": [
           {
            "colorbar": {
             "outlinewidth": 0,
             "ticks": ""
            },
            "colorscale": [
             [
              0,
              "#0d0887"
             ],
             [
              0.1111111111111111,
              "#46039f"
             ],
             [
              0.2222222222222222,
              "#7201a8"
             ],
             [
              0.3333333333333333,
              "#9c179e"
             ],
             [
              0.4444444444444444,
              "#bd3786"
             ],
             [
              0.5555555555555556,
              "#d8576b"
             ],
             [
              0.6666666666666666,
              "#ed7953"
             ],
             [
              0.7777777777777778,
              "#fb9f3a"
             ],
             [
              0.8888888888888888,
              "#fdca26"
             ],
             [
              1,
              "#f0f921"
             ]
            ],
            "type": "heatmap"
           }
          ],
          "heatmapgl": [
           {
            "colorbar": {
             "outlinewidth": 0,
             "ticks": ""
            },
            "colorscale": [
             [
              0,
              "#0d0887"
             ],
             [
              0.1111111111111111,
              "#46039f"
             ],
             [
              0.2222222222222222,
              "#7201a8"
             ],
             [
              0.3333333333333333,
              "#9c179e"
             ],
             [
              0.4444444444444444,
              "#bd3786"
             ],
             [
              0.5555555555555556,
              "#d8576b"
             ],
             [
              0.6666666666666666,
              "#ed7953"
             ],
             [
              0.7777777777777778,
              "#fb9f3a"
             ],
             [
              0.8888888888888888,
              "#fdca26"
             ],
             [
              1,
              "#f0f921"
             ]
            ],
            "type": "heatmapgl"
           }
          ],
          "histogram": [
           {
            "marker": {
             "pattern": {
              "fillmode": "overlay",
              "size": 10,
              "solidity": 0.2
             }
            },
            "type": "histogram"
           }
          ],
          "histogram2d": [
           {
            "colorbar": {
             "outlinewidth": 0,
             "ticks": ""
            },
            "colorscale": [
             [
              0,
              "#0d0887"
             ],
             [
              0.1111111111111111,
              "#46039f"
             ],
             [
              0.2222222222222222,
              "#7201a8"
             ],
             [
              0.3333333333333333,
              "#9c179e"
             ],
             [
              0.4444444444444444,
              "#bd3786"
             ],
             [
              0.5555555555555556,
              "#d8576b"
             ],
             [
              0.6666666666666666,
              "#ed7953"
             ],
             [
              0.7777777777777778,
              "#fb9f3a"
             ],
             [
              0.8888888888888888,
              "#fdca26"
             ],
             [
              1,
              "#f0f921"
             ]
            ],
            "type": "histogram2d"
           }
          ],
          "histogram2dcontour": [
           {
            "colorbar": {
             "outlinewidth": 0,
             "ticks": ""
            },
            "colorscale": [
             [
              0,
              "#0d0887"
             ],
             [
              0.1111111111111111,
              "#46039f"
             ],
             [
              0.2222222222222222,
              "#7201a8"
             ],
             [
              0.3333333333333333,
              "#9c179e"
             ],
             [
              0.4444444444444444,
              "#bd3786"
             ],
             [
              0.5555555555555556,
              "#d8576b"
             ],
             [
              0.6666666666666666,
              "#ed7953"
             ],
             [
              0.7777777777777778,
              "#fb9f3a"
             ],
             [
              0.8888888888888888,
              "#fdca26"
             ],
             [
              1,
              "#f0f921"
             ]
            ],
            "type": "histogram2dcontour"
           }
          ],
          "mesh3d": [
           {
            "colorbar": {
             "outlinewidth": 0,
             "ticks": ""
            },
            "type": "mesh3d"
           }
          ],
          "parcoords": [
           {
            "line": {
             "colorbar": {
              "outlinewidth": 0,
              "ticks": ""
             }
            },
            "type": "parcoords"
           }
          ],
          "pie": [
           {
            "automargin": true,
            "type": "pie"
           }
          ],
          "scatter": [
           {
            "marker": {
             "line": {
              "color": "#283442"
             }
            },
            "type": "scatter"
           }
          ],
          "scatter3d": [
           {
            "line": {
             "colorbar": {
              "outlinewidth": 0,
              "ticks": ""
             }
            },
            "marker": {
             "colorbar": {
              "outlinewidth": 0,
              "ticks": ""
             }
            },
            "type": "scatter3d"
           }
          ],
          "scattercarpet": [
           {
            "marker": {
             "colorbar": {
              "outlinewidth": 0,
              "ticks": ""
             }
            },
            "type": "scattercarpet"
           }
          ],
          "scattergeo": [
           {
            "marker": {
             "colorbar": {
              "outlinewidth": 0,
              "ticks": ""
             }
            },
            "type": "scattergeo"
           }
          ],
          "scattergl": [
           {
            "marker": {
             "line": {
              "color": "#283442"
             }
            },
            "type": "scattergl"
           }
          ],
          "scattermapbox": [
           {
            "marker": {
             "colorbar": {
              "outlinewidth": 0,
              "ticks": ""
             }
            },
            "type": "scattermapbox"
           }
          ],
          "scatterpolar": [
           {
            "marker": {
             "colorbar": {
              "outlinewidth": 0,
              "ticks": ""
             }
            },
            "type": "scatterpolar"
           }
          ],
          "scatterpolargl": [
           {
            "marker": {
             "colorbar": {
              "outlinewidth": 0,
              "ticks": ""
             }
            },
            "type": "scatterpolargl"
           }
          ],
          "scatterternary": [
           {
            "marker": {
             "colorbar": {
              "outlinewidth": 0,
              "ticks": ""
             }
            },
            "type": "scatterternary"
           }
          ],
          "surface": [
           {
            "colorbar": {
             "outlinewidth": 0,
             "ticks": ""
            },
            "colorscale": [
             [
              0,
              "#0d0887"
             ],
             [
              0.1111111111111111,
              "#46039f"
             ],
             [
              0.2222222222222222,
              "#7201a8"
             ],
             [
              0.3333333333333333,
              "#9c179e"
             ],
             [
              0.4444444444444444,
              "#bd3786"
             ],
             [
              0.5555555555555556,
              "#d8576b"
             ],
             [
              0.6666666666666666,
              "#ed7953"
             ],
             [
              0.7777777777777778,
              "#fb9f3a"
             ],
             [
              0.8888888888888888,
              "#fdca26"
             ],
             [
              1,
              "#f0f921"
             ]
            ],
            "type": "surface"
           }
          ],
          "table": [
           {
            "cells": {
             "fill": {
              "color": "#506784"
             },
             "line": {
              "color": "rgb(17,17,17)"
             }
            },
            "header": {
             "fill": {
              "color": "#2a3f5f"
             },
             "line": {
              "color": "rgb(17,17,17)"
             }
            },
            "type": "table"
           }
          ]
         },
         "layout": {
          "annotationdefaults": {
           "arrowcolor": "#f2f5fa",
           "arrowhead": 0,
           "arrowwidth": 1
          },
          "autotypenumbers": "strict",
          "coloraxis": {
           "colorbar": {
            "outlinewidth": 0,
            "ticks": ""
           }
          },
          "colorscale": {
           "diverging": [
            [
             0,
             "#8e0152"
            ],
            [
             0.1,
             "#c51b7d"
            ],
            [
             0.2,
             "#de77ae"
            ],
            [
             0.3,
             "#f1b6da"
            ],
            [
             0.4,
             "#fde0ef"
            ],
            [
             0.5,
             "#f7f7f7"
            ],
            [
             0.6,
             "#e6f5d0"
            ],
            [
             0.7,
             "#b8e186"
            ],
            [
             0.8,
             "#7fbc41"
            ],
            [
             0.9,
             "#4d9221"
            ],
            [
             1,
             "#276419"
            ]
           ],
           "sequential": [
            [
             0,
             "#0d0887"
            ],
            [
             0.1111111111111111,
             "#46039f"
            ],
            [
             0.2222222222222222,
             "#7201a8"
            ],
            [
             0.3333333333333333,
             "#9c179e"
            ],
            [
             0.4444444444444444,
             "#bd3786"
            ],
            [
             0.5555555555555556,
             "#d8576b"
            ],
            [
             0.6666666666666666,
             "#ed7953"
            ],
            [
             0.7777777777777778,
             "#fb9f3a"
            ],
            [
             0.8888888888888888,
             "#fdca26"
            ],
            [
             1,
             "#f0f921"
            ]
           ],
           "sequentialminus": [
            [
             0,
             "#0d0887"
            ],
            [
             0.1111111111111111,
             "#46039f"
            ],
            [
             0.2222222222222222,
             "#7201a8"
            ],
            [
             0.3333333333333333,
             "#9c179e"
            ],
            [
             0.4444444444444444,
             "#bd3786"
            ],
            [
             0.5555555555555556,
             "#d8576b"
            ],
            [
             0.6666666666666666,
             "#ed7953"
            ],
            [
             0.7777777777777778,
             "#fb9f3a"
            ],
            [
             0.8888888888888888,
             "#fdca26"
            ],
            [
             1,
             "#f0f921"
            ]
           ]
          },
          "colorway": [
           "#636efa",
           "#EF553B",
           "#00cc96",
           "#ab63fa",
           "#FFA15A",
           "#19d3f3",
           "#FF6692",
           "#B6E880",
           "#FF97FF",
           "#FECB52"
          ],
          "font": {
           "color": "#f2f5fa"
          },
          "geo": {
           "bgcolor": "rgb(17,17,17)",
           "lakecolor": "rgb(17,17,17)",
           "landcolor": "rgb(17,17,17)",
           "showlakes": true,
           "showland": true,
           "subunitcolor": "#506784"
          },
          "hoverlabel": {
           "align": "left"
          },
          "hovermode": "closest",
          "mapbox": {
           "style": "dark"
          },
          "paper_bgcolor": "rgb(17,17,17)",
          "plot_bgcolor": "rgb(17,17,17)",
          "polar": {
           "angularaxis": {
            "gridcolor": "#506784",
            "linecolor": "#506784",
            "ticks": ""
           },
           "bgcolor": "rgb(17,17,17)",
           "radialaxis": {
            "gridcolor": "#506784",
            "linecolor": "#506784",
            "ticks": ""
           }
          },
          "scene": {
           "xaxis": {
            "backgroundcolor": "rgb(17,17,17)",
            "gridcolor": "#506784",
            "gridwidth": 2,
            "linecolor": "#506784",
            "showbackground": true,
            "ticks": "",
            "zerolinecolor": "#C8D4E3"
           },
           "yaxis": {
            "backgroundcolor": "rgb(17,17,17)",
            "gridcolor": "#506784",
            "gridwidth": 2,
            "linecolor": "#506784",
            "showbackground": true,
            "ticks": "",
            "zerolinecolor": "#C8D4E3"
           },
           "zaxis": {
            "backgroundcolor": "rgb(17,17,17)",
            "gridcolor": "#506784",
            "gridwidth": 2,
            "linecolor": "#506784",
            "showbackground": true,
            "ticks": "",
            "zerolinecolor": "#C8D4E3"
           }
          },
          "shapedefaults": {
           "line": {
            "color": "#f2f5fa"
           }
          },
          "sliderdefaults": {
           "bgcolor": "#C8D4E3",
           "bordercolor": "rgb(17,17,17)",
           "borderwidth": 1,
           "tickwidth": 0
          },
          "ternary": {
           "aaxis": {
            "gridcolor": "#506784",
            "linecolor": "#506784",
            "ticks": ""
           },
           "baxis": {
            "gridcolor": "#506784",
            "linecolor": "#506784",
            "ticks": ""
           },
           "bgcolor": "rgb(17,17,17)",
           "caxis": {
            "gridcolor": "#506784",
            "linecolor": "#506784",
            "ticks": ""
           }
          },
          "title": {
           "x": 0.05
          },
          "updatemenudefaults": {
           "bgcolor": "#506784",
           "borderwidth": 0
          },
          "xaxis": {
           "automargin": true,
           "gridcolor": "#283442",
           "linecolor": "#506784",
           "ticks": "",
           "title": {
            "standoff": 15
           },
           "zerolinecolor": "#283442",
           "zerolinewidth": 2
          },
          "yaxis": {
           "automargin": true,
           "gridcolor": "#283442",
           "linecolor": "#506784",
           "ticks": "",
           "title": {
            "standoff": 15
           },
           "zerolinecolor": "#283442",
           "zerolinewidth": 2
          }
         }
        },
        "xaxis": {
         "anchor": "y",
         "domain": [
          0,
          1
         ],
         "title": {
          "text": "tsne_1"
         }
        },
        "yaxis": {
         "anchor": "x",
         "domain": [
          0,
          1
         ],
         "title": {
          "text": "tsne_2"
         }
        }
       }
      }
     },
     "metadata": {},
     "output_type": "display_data"
    }
   ],
   "source": [
    "\n",
    "model = TSNE(n_components=2, perplexity=30) # el preplexity es para que salga chido\n",
    "resultado = model.fit_transform(X)\n",
    "#get_ngrams(1, df[df['target_number'] == 'not-real-disaster']['clean_tweets'])new['tsne_1'] = resultado[:,0]\n",
    "#new['tsne_2'] = resultado[:,1]\n",
    "\n",
    "\n",
    "\n",
    "\n",
    "import plotly.express as px\n",
    "\n",
    "fsne_result = pd.DataFrame({\"tsne_1\": resultado[:, 0], \"tsne_2\":resultado[:, 1]})\n",
    "fsne_result[\"label\"] = df[\"cla_num\"]\n",
    "fsne_result[\"text\"] = df[\"text_proc\"]\n",
    "print(fsne_result.head())\n",
    "\n",
    "fig = px.scatter(\n",
    "    data_frame=fsne_result,\n",
    "    x=fsne_result[\"tsne_1\"],\n",
    "    y=fsne_result[\"tsne_2\"],\n",
    "    color=fsne_result[\"label\"],\n",
    "    template=\"plotly_dark\",\n",
    "    hover_data=[\"text\"],\n",
    ")\n",
    "\n",
    "fig.show()"
   ]
  },
  {
   "cell_type": "code",
   "execution_count": null,
   "metadata": {},
   "outputs": [],
   "source": []
  }
 ],
 "metadata": {
  "kernelspec": {
   "display_name": "venv",
   "language": "python",
   "name": "python3"
  },
  "language_info": {
   "codemirror_mode": {
    "name": "ipython",
    "version": 3
   },
   "file_extension": ".py",
   "mimetype": "text/x-python",
   "name": "python",
   "nbconvert_exporter": "python",
   "pygments_lexer": "ipython3",
   "version": "3.11.5"
  }
 },
 "nbformat": 4,
 "nbformat_minor": 2
}
