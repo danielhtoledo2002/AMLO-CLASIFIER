{
 "cells": [
  {
   "cell_type": "code",
   "execution_count": 1,
   "id": "f97c1d25",
   "metadata": {
    "ExecuteTime": {
     "end_time": "2023-11-21T03:09:14.305355Z",
     "start_time": "2023-11-21T03:09:12.821194Z"
    }
   },
   "outputs": [],
   "source": [
    "import numpy as np\n",
    "import pandas as pd\n",
    "\n",
    "df = pd.read_csv(\"../OpenAi/amlo_clasify_chatpgt3.csv\")"
   ]
  },
  {
   "cell_type": "code",
   "execution_count": 2,
   "id": "fd86c771",
   "metadata": {
    "ExecuteTime": {
     "end_time": "2023-11-21T03:09:23.557259Z",
     "start_time": "2023-11-21T03:09:14.307216Z"
    }
   },
   "outputs": [],
   "source": [
    "import spacy \n",
    "from spacy import displacy \n",
    "\n",
    "nlp = spacy.load(\"es_core_news_lg\")\n",
    "import nltk\n",
    "import re\n",
    "from nltk import word_tokenize\n",
    "from nltk.corpus import stopwords\n",
    "\n",
    "stop_words_en= stopwords.words('spanish')\n",
    "from nltk.stem.wordnet import WordNetLemmatizer\n",
    "\n",
    "lemmatizer = WordNetLemmatizer()"
   ]
  },
  {
   "cell_type": "code",
   "execution_count": 3,
   "id": "9ee28f78",
   "metadata": {
    "ExecuteTime": {
     "end_time": "2023-11-21T03:09:23.572458Z",
     "start_time": "2023-11-21T03:09:23.559374Z"
    }
   },
   "outputs": [],
   "source": [
    "def clean(texto):\n",
    "    texto = texto.lower()\n",
    "    texto = re.sub(r'([^0-9A-Za-z-À-ÿ \\t])','', texto)\n",
    "    texto = word_tokenize(texto)\n",
    "    texto = [palabra for palabra in texto if palabra not in stop_words_en]\n",
    "    texto = [lemmatizer.lemmatize(palabra) for palabra in texto]\n",
    "    texto = ' '.join(texto)\n",
    "    return texto\n",
    "\n",
    "def vectorize_clean(texto):\n",
    "    texto = texto.lower()\n",
    "    texto = re.sub(r'([^0-9A-Za-z-À-ÿ \\t])','', texto)\n",
    "    texto = word_tokenize(texto)\n",
    "    texto = [palabra for palabra in texto if palabra not in stop_words_en]\n",
    "    texto = [lemmatizer.lemmatize(palabra) for palabra in texto]\n",
    "    texto = ' '.join(texto)\n",
    "    texto = nlp(texto).vector\n",
    "    return texto\n",
    "\n",
    "def vectorize(texto):\n",
    "    texto = nlp(texto).vector\n",
    "    return texto\n",
    "\n",
    "\n",
    "    "
   ]
  },
  {
   "cell_type": "code",
   "execution_count": 4,
   "id": "d64caf26",
   "metadata": {
    "ExecuteTime": {
     "end_time": "2023-11-21T03:09:23.587613Z",
     "start_time": "2023-11-21T03:09:23.573633Z"
    }
   },
   "outputs": [
    {
     "data": {
      "text/plain": [
       "str"
      ]
     },
     "execution_count": 4,
     "metadata": {},
     "output_type": "execute_result"
    }
   ],
   "source": [
    "type(df['vector'][0])"
   ]
  },
  {
   "cell_type": "code",
   "execution_count": 5,
   "id": "1997d7d7",
   "metadata": {
    "ExecuteTime": {
     "end_time": "2023-11-21T03:09:25.360173Z",
     "start_time": "2023-11-21T03:09:23.589631Z"
    }
   },
   "outputs": [],
   "source": [
    "df['vector'] = df[\"vector\"].apply(lambda x: \n",
    "                           np.fromstring(\n",
    "                               x.replace('\\n','')\n",
    "                                .replace('[','')\n",
    "                                .replace(']','')\n",
    "                                .replace('  ',' '), sep=' '))\n"
   ]
  },
  {
   "cell_type": "markdown",
   "id": "b0d9be8c",
   "metadata": {
    "ExecuteTime": {
     "end_time": "2023-11-21T02:26:43.770867Z",
     "start_time": "2023-11-21T02:25:03.172468Z"
    }
   },
   "source": [
    "df['vector'] = df[\"clean\"].apply(vectorize)\n",
    "df\n"
   ]
  },
  {
   "cell_type": "code",
   "execution_count": 6,
   "id": "fd69a0ef",
   "metadata": {
    "ExecuteTime": {
     "end_time": "2023-11-21T03:09:25.376160Z",
     "start_time": "2023-11-21T03:09:25.362153Z"
    }
   },
   "outputs": [],
   "source": [
    "def getTopXDocs_large(frase,x,export=False):\n",
    "    data = {\n",
    "        'texto' :[],\n",
    "        'sims': []\n",
    "    }\n",
    "    buscar = vectorize_clean(frase)\n",
    "    for vector, frase in zip(df[\"vector\"],df[\"Texto\"]):\n",
    "        A = buscar \n",
    "        B = vector\n",
    "        resultado = np.dot(A,B) / (np.linalg.norm(A) * np.linalg.norm(B)) \n",
    "        \n",
    "        data[\"texto\"].append(frase)\n",
    "        data[\"sims\"].append(resultado)\n",
    "    final = pd.DataFrame(data).sort_values(by = 'sims', ascending = False).head(x)\n",
    "    return final"
   ]
  },
  {
   "cell_type": "code",
   "execution_count": 8,
   "id": "5853b34e",
   "metadata": {
    "ExecuteTime": {
     "end_time": "2023-11-21T03:09:32.619542Z",
     "start_time": "2023-11-21T03:09:31.407482Z"
    }
   },
   "outputs": [
    {
     "data": {
      "text/html": [
       "<div>\n",
       "<style scoped>\n",
       "    .dataframe tbody tr th:only-of-type {\n",
       "        vertical-align: middle;\n",
       "    }\n",
       "\n",
       "    .dataframe tbody tr th {\n",
       "        vertical-align: top;\n",
       "    }\n",
       "\n",
       "    .dataframe thead th {\n",
       "        text-align: right;\n",
       "    }\n",
       "</style>\n",
       "<table border=\"1\" class=\"dataframe\">\n",
       "  <thead>\n",
       "    <tr style=\"text-align: right;\">\n",
       "      <th></th>\n",
       "      <th>texto</th>\n",
       "      <th>sims</th>\n",
       "    </tr>\n",
       "  </thead>\n",
       "  <tbody>\n",
       "    <tr>\n",
       "      <th>15723</th>\n",
       "      <td>Sí, sí. Y se les enfrenta y hay muertos, las ...</td>\n",
       "      <td>0.694906</td>\n",
       "    </tr>\n",
       "    <tr>\n",
       "      <th>3697</th>\n",
       "      <td>Y hay muchas cosas, ¿no? Otras, de que una tra...</td>\n",
       "      <td>0.682967</td>\n",
       "    </tr>\n",
       "    <tr>\n",
       "      <th>4758</th>\n",
       "      <td>Eso es lo que se tiene que investigar para qu...</td>\n",
       "      <td>0.676752</td>\n",
       "    </tr>\n",
       "    <tr>\n",
       "      <th>11079</th>\n",
       "      <td>Le traía pitayas, también les mandaron pitayas...</td>\n",
       "      <td>0.673640</td>\n",
       "    </tr>\n",
       "    <tr>\n",
       "      <th>1151</th>\n",
       "      <td>¿Por qué los mexicanos hemos enfrentado todo t...</td>\n",
       "      <td>0.661225</td>\n",
       "    </tr>\n",
       "    <tr>\n",
       "      <th>5375</th>\n",
       "      <td>En ese entonces meten las armas, desde luego q...</td>\n",
       "      <td>0.659474</td>\n",
       "    </tr>\n",
       "    <tr>\n",
       "      <th>18269</th>\n",
       "      <td>Sí, sí. Pero yo estoy seguro, pues, que se le...</td>\n",
       "      <td>0.656725</td>\n",
       "    </tr>\n",
       "    <tr>\n",
       "      <th>17745</th>\n",
       "      <td>Sin embargo, no deja de haber un sector, que n...</td>\n",
       "      <td>0.651915</td>\n",
       "    </tr>\n",
       "    <tr>\n",
       "      <th>8605</th>\n",
       "      <td>Entonces, la gente desconoce muchas cosas, aho...</td>\n",
       "      <td>0.648496</td>\n",
       "    </tr>\n",
       "    <tr>\n",
       "      <th>14253</th>\n",
       "      <td>Ahora lo mismo. Me siento muy orgulloso de que...</td>\n",
       "      <td>0.646816</td>\n",
       "    </tr>\n",
       "    <tr>\n",
       "      <th>14240</th>\n",
       "      <td>Tenemos que trabajar mucho en eso, porque en l...</td>\n",
       "      <td>0.646703</td>\n",
       "    </tr>\n",
       "    <tr>\n",
       "      <th>2592</th>\n",
       "      <td>Y también no está demás decirlo, en esta tempo...</td>\n",
       "      <td>0.646513</td>\n",
       "    </tr>\n",
       "    <tr>\n",
       "      <th>9401</th>\n",
       "      <td>Entonces, sí son muchas cosas, muchas, muchas ...</td>\n",
       "      <td>0.641859</td>\n",
       "    </tr>\n",
       "    <tr>\n",
       "      <th>16353</th>\n",
       "      <td>No se resuelven las cosas sólo con medidas coe...</td>\n",
       "      <td>0.641638</td>\n",
       "    </tr>\n",
       "    <tr>\n",
       "      <th>17331</th>\n",
       "      <td>Sí. No, no, no, es que hay muchísimas, es que...</td>\n",
       "      <td>0.641573</td>\n",
       "    </tr>\n",
       "    <tr>\n",
       "      <th>16083</th>\n",
       "      <td>Hace poco hubo también un hecho lamentable en ...</td>\n",
       "      <td>0.641410</td>\n",
       "    </tr>\n",
       "    <tr>\n",
       "      <th>20837</th>\n",
       "      <td>Gracias a esas culturas, nosotros, los mexican...</td>\n",
       "      <td>0.641191</td>\n",
       "    </tr>\n",
       "    <tr>\n",
       "      <th>13875</th>\n",
       "      <td>Y así ha habido muchas injusticias, pero ya so...</td>\n",
       "      <td>0.640285</td>\n",
       "    </tr>\n",
       "    <tr>\n",
       "      <th>18057</th>\n",
       "      <td>Pero, por ejemplo, hubo un tiempo en que en es...</td>\n",
       "      <td>0.639623</td>\n",
       "    </tr>\n",
       "    <tr>\n",
       "      <th>7169</th>\n",
       "      <td>Desde luego, son los maestros y también padres...</td>\n",
       "      <td>0.636101</td>\n",
       "    </tr>\n",
       "    <tr>\n",
       "      <th>16360</th>\n",
       "      <td>Nosotros somos herederos de grandes civilizaci...</td>\n",
       "      <td>0.632703</td>\n",
       "    </tr>\n",
       "    <tr>\n",
       "      <th>16098</th>\n",
       "      <td>Recuerden ustedes cómo se padeció, durante un ...</td>\n",
       "      <td>0.632208</td>\n",
       "    </tr>\n",
       "    <tr>\n",
       "      <th>18981</th>\n",
       "      <td>Bueno, y el resultado, no se redujo la pobreza...</td>\n",
       "      <td>0.629251</td>\n",
       "    </tr>\n",
       "    <tr>\n",
       "      <th>12918</th>\n",
       "      <td>Es sencillo, hay empresas que se dedican a eso...</td>\n",
       "      <td>0.628345</td>\n",
       "    </tr>\n",
       "    <tr>\n",
       "      <th>2972</th>\n",
       "      <td>Nosotros tenemos, por ejemplo, pérdidas de vid...</td>\n",
       "      <td>0.624909</td>\n",
       "    </tr>\n",
       "  </tbody>\n",
       "</table>\n",
       "</div>"
      ],
      "text/plain": [
       "                                                   texto      sims\n",
       "15723   Sí, sí. Y se les enfrenta y hay muertos, las ...  0.694906\n",
       "3697   Y hay muchas cosas, ¿no? Otras, de que una tra...  0.682967\n",
       "4758    Eso es lo que se tiene que investigar para qu...  0.676752\n",
       "11079  Le traía pitayas, también les mandaron pitayas...  0.673640\n",
       "1151   ¿Por qué los mexicanos hemos enfrentado todo t...  0.661225\n",
       "5375   En ese entonces meten las armas, desde luego q...  0.659474\n",
       "18269   Sí, sí. Pero yo estoy seguro, pues, que se le...  0.656725\n",
       "17745  Sin embargo, no deja de haber un sector, que n...  0.651915\n",
       "8605   Entonces, la gente desconoce muchas cosas, aho...  0.648496\n",
       "14253  Ahora lo mismo. Me siento muy orgulloso de que...  0.646816\n",
       "14240  Tenemos que trabajar mucho en eso, porque en l...  0.646703\n",
       "2592   Y también no está demás decirlo, en esta tempo...  0.646513\n",
       "9401   Entonces, sí son muchas cosas, muchas, muchas ...  0.641859\n",
       "16353  No se resuelven las cosas sólo con medidas coe...  0.641638\n",
       "17331   Sí. No, no, no, es que hay muchísimas, es que...  0.641573\n",
       "16083  Hace poco hubo también un hecho lamentable en ...  0.641410\n",
       "20837  Gracias a esas culturas, nosotros, los mexican...  0.641191\n",
       "13875  Y así ha habido muchas injusticias, pero ya so...  0.640285\n",
       "18057  Pero, por ejemplo, hubo un tiempo en que en es...  0.639623\n",
       "7169   Desde luego, son los maestros y también padres...  0.636101\n",
       "16360  Nosotros somos herederos de grandes civilizaci...  0.632703\n",
       "16098  Recuerden ustedes cómo se padeció, durante un ...  0.632208\n",
       "18981  Bueno, y el resultado, no se redujo la pobreza...  0.629251\n",
       "12918  Es sencillo, hay empresas que se dedican a eso...  0.628345\n",
       "2972   Nosotros tenemos, por ejemplo, pérdidas de vid...  0.624909"
      ]
     },
     "execution_count": 8,
     "metadata": {},
     "output_type": "execute_result"
    }
   ],
   "source": [
    "getTopXDocs_large(\"hubo muchas muertes\", 25)"
   ]
  },
  {
   "cell_type": "code",
   "execution_count": 96,
   "id": "11474d21",
   "metadata": {
    "ExecuteTime": {
     "end_time": "2023-11-21T01:49:30.644481Z",
     "start_time": "2023-11-21T01:49:29.331896Z"
    }
   },
   "outputs": [],
   "source": []
  },
  {
   "cell_type": "code",
   "execution_count": 153,
   "id": "8972afc6",
   "metadata": {
    "ExecuteTime": {
     "end_time": "2023-11-21T02:49:27.711251Z",
     "start_time": "2023-11-21T02:49:27.690344Z"
    }
   },
   "outputs": [
    {
     "name": "stdout",
     "output_type": "stream",
     "text": [
      "<class 'pandas.core.frame.DataFrame'>\n",
      "RangeIndex: 21726 entries, 0 to 21725\n",
      "Data columns (total 6 columns):\n",
      " #   Column                  Non-Null Count  Dtype \n",
      "---  ------                  --------------  ----- \n",
      " 0   Texto                   21726 non-null  object\n",
      " 1   Clasificacion           477 non-null    object\n",
      " 2   new_classification      21726 non-null  object\n",
      " 3   classification_spanish  21726 non-null  object\n",
      " 4   clean                   21726 non-null  object\n",
      " 5   vector                  21726 non-null  object\n",
      "dtypes: object(6)\n",
      "memory usage: 1018.5+ KB\n"
     ]
    }
   ],
   "source": [
    "df.info()\n"
   ]
  },
  {
   "cell_type": "code",
   "execution_count": null,
   "id": "674c8598",
   "metadata": {},
   "outputs": [],
   "source": []
  }
 ],
 "metadata": {
  "kernelspec": {
   "display_name": "Python 3 (ipykernel)",
   "language": "python",
   "name": "python3"
  },
  "language_info": {
   "codemirror_mode": {
    "name": "ipython",
    "version": 3
   },
   "file_extension": ".py",
   "mimetype": "text/x-python",
   "name": "python",
   "nbconvert_exporter": "python",
   "pygments_lexer": "ipython3",
   "version": "3.10.12"
  }
 },
 "nbformat": 4,
 "nbformat_minor": 5
}
